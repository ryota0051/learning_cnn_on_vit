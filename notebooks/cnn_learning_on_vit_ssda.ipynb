{
 "cells": [
  {
   "cell_type": "code",
   "execution_count": 1,
   "metadata": {},
   "outputs": [],
   "source": [
    "import torch\n",
    "import torch.nn as nn\n",
    "import torch.nn.functional as F\n",
    "import matplotlib.pyplot as plt\n",
    "from sklearn.model_selection import train_test_split\n",
    "from torch.utils.data import DataLoader, random_split, Subset\n",
    "from torch import optim\n",
    "from torchvision.datasets import SVHN, MNIST\n",
    "from tqdm import tqdm\n",
    "\n",
    "from src.data_utils import (\n",
    "    TransformDataset,\n",
    "    SrcDataset,\n",
    "    SSDADatasetWithoutLabel, # 旧DstDatasetにあたる\n",
    "    SSDADatasetWithLabel,\n",
    "    get_train_weak_transform,\n",
    "    get_train_strong_transform,\n",
    "    get_test_transform,\n",
    "    get_unlabeled_and_labeled_indices,\n",
    ")\n",
    "from src.models import get_model\n",
    "from src.reproducibility import set_seed\n",
    "from src.loss import consistency_loss"
   ]
  },
  {
   "cell_type": "code",
   "execution_count": 2,
   "metadata": {},
   "outputs": [],
   "source": [
    "# 入力画像サイズ\n",
    "INPUT_SIZE = 32\n",
    "\n",
    "# バッチサイズ\n",
    "BATCH_SIZE = 32\n",
    "\n",
    "# learning rate\n",
    "# VIT_LR = 5e-5\n",
    "# CNN_LR = 0.01\n",
    "VIT_LR = 0.001\n",
    "CNN_LR = 0.01\n",
    "\n",
    "\n",
    "# Co training時の閾値\n",
    "TH_CNN = 0.9\n",
    "TH_VIT = 0.6\n",
    "\n",
    "# 検証のステップ数\n",
    "TEST_INTERVAL = 500\n",
    "\n",
    "# 総ステップ数\n",
    "ADAPT_ITERS = 5000\n",
    "\n",
    "# Normalize時のmean, std\n",
    "NORMALIZE_MEAN = 0.5\n",
    "NORMALIZE_STD = 0.5\n",
    "\n",
    "# ssdaで使用する各ラベルの数\n",
    "NUM_SSDA_DATA_PER_LABEL = 32 # 32 x 10ラベル = 320枚\n",
    "\n",
    "# シード値\n",
    "SEED = 2024"
   ]
  },
  {
   "cell_type": "code",
   "execution_count": 3,
   "metadata": {},
   "outputs": [],
   "source": [
    "def get_source_dl(batch_size=BATCH_SIZE):\n",
    "    weak_trans = get_train_weak_transform()\n",
    "    test_trans = get_test_transform()\n",
    "    train_mnist = MNIST(\n",
    "        root='./mnist/',\n",
    "        train=True,\n",
    "        download=True,\n",
    "    )\n",
    "    test_mnist = MNIST(\n",
    "        root='./mnist/',\n",
    "        train=False,\n",
    "        download=True,\n",
    "        transform=test_trans\n",
    "    )\n",
    "    split_generator = torch.Generator().manual_seed(SEED)\n",
    "    train_mnist, valid_mnist = random_split(train_mnist, [0.8, 0.2], split_generator)\n",
    "    train_mnist = SrcDataset(\n",
    "        train_mnist,\n",
    "        weak_trans,\n",
    "    )\n",
    "    valid_mnist = TransformDataset(\n",
    "        valid_mnist,\n",
    "        test_trans\n",
    "    )\n",
    "    dl_generator = torch.Generator().manual_seed(SEED)\n",
    "    src_train_dl = DataLoader(\n",
    "        train_mnist,\n",
    "        batch_size=batch_size,\n",
    "        shuffle=True,\n",
    "        num_workers=2,\n",
    "        generator=dl_generator,\n",
    "        drop_last=True,\n",
    "    )\n",
    "    src_valid_dl = DataLoader(\n",
    "        valid_mnist,\n",
    "        batch_size=batch_size,\n",
    "        shuffle=False,\n",
    "        num_workers=2,\n",
    "    )\n",
    "    src_test_dl = DataLoader(\n",
    "        test_mnist,\n",
    "        batch_size=batch_size,\n",
    "        shuffle=False,\n",
    "        num_workers=2,\n",
    "    )\n",
    "    return src_train_dl, src_valid_dl, src_test_dl\n",
    "\n",
    "\n",
    "def get_target_dl(batch_size=BATCH_SIZE):\n",
    "    weak_trans, strong_trans = get_train_weak_transform(), get_train_strong_transform(v=8)\n",
    "    test_trans = get_test_transform()\n",
    "    loaded_train_svhm = SVHN(\n",
    "        root='./svhm/',\n",
    "        split='train',\n",
    "        download=True,\n",
    "    )\n",
    "    loeaded_test_svhm = SVHN(\n",
    "        root='./svhm/',\n",
    "        split='test',\n",
    "        download=True,\n",
    "        transform=test_trans,\n",
    "    )\n",
    "    # データを画像とラベルに分離する\n",
    "    X_train_loaded, y_train_loaded = loaded_train_svhm.data, loaded_train_svhm.labels\n",
    "    X_test, y_test = loeaded_test_svhm.data, loeaded_test_svhm.labels\n",
    "    # 全データ -> 学習用データ, 検証用データに分割\n",
    "    X_train, X_valid, y_train, y_valid = train_test_split(\n",
    "        X_train_loaded,\n",
    "        y_train_loaded,\n",
    "        shuffle=True,\n",
    "        stratify=y_train_loaded,\n",
    "        random_state=SEED\n",
    "    )\n",
    "    # ラベル無しとありのデータインデックスを取得\n",
    "    unlabeled_indices, labeled_indices = get_unlabeled_and_labeled_indices(\n",
    "        y_train,\n",
    "        num_labeled_indices_per_label=NUM_SSDA_DATA_PER_LABEL,\n",
    "        seed=SEED\n",
    "    )\n",
    "    X_train_unlabeled, X_train_labeled, y_train = (\n",
    "        X_train[unlabeled_indices],\n",
    "        X_train[labeled_indices],\n",
    "        y_train[labeled_indices]\n",
    "    )\n",
    "    assert len(X_train_labeled) == len(y_train)\n",
    "    # train_ds\n",
    "    train_unlabeled_ds = SSDADatasetWithoutLabel(\n",
    "        X_train_unlabeled,\n",
    "        weak_trans,\n",
    "        strong_trans,\n",
    "    )\n",
    "    train_labeled_ds = SSDADatasetWithLabel(\n",
    "        X_train_labeled,\n",
    "        y_train,\n",
    "        weak_trans,\n",
    "    )\n",
    "    # valid_ds\n",
    "    valid_ds = SSDADatasetWithLabel(\n",
    "        X_valid,\n",
    "        y_valid,\n",
    "        test_trans,\n",
    "    )\n",
    "    # test_ds\n",
    "    test_ds = SSDADatasetWithLabel(\n",
    "        X_test,\n",
    "        y_test,\n",
    "        test_trans,\n",
    "    )\n",
    "    # データローダー作成\n",
    "    dl_generator = torch.Generator().manual_seed(SEED)\n",
    "    dst_train_unlabeled_dl = DataLoader(\n",
    "        train_unlabeled_ds,\n",
    "        batch_size=batch_size,\n",
    "        shuffle=True,\n",
    "        num_workers=2,\n",
    "        generator=dl_generator,\n",
    "        drop_last=True\n",
    "    )\n",
    "    dst_train_labeled_dl = DataLoader(\n",
    "        train_labeled_ds,\n",
    "        batch_size=batch_size,\n",
    "        shuffle=True,\n",
    "        num_workers=2,\n",
    "        generator=dl_generator,\n",
    "        drop_last=True\n",
    "    )\n",
    "    dst_valid_dl = DataLoader(\n",
    "        valid_ds,\n",
    "        batch_size=batch_size,\n",
    "        shuffle=False,\n",
    "        num_workers=2,\n",
    "    )\n",
    "    dst_test_dl = DataLoader(\n",
    "        test_ds,\n",
    "        batch_size=batch_size,\n",
    "        shuffle=False,\n",
    "        num_workers=2,\n",
    "    )\n",
    "    return dst_train_unlabeled_dl, dst_train_labeled_dl, dst_valid_dl, dst_test_dl\n",
    "    \n"
   ]
  },
  {
   "cell_type": "code",
   "execution_count": 4,
   "metadata": {},
   "outputs": [
    {
     "name": "stdout",
     "output_type": "stream",
     "text": [
      "Using downloaded and verified file: ./svhm/train_32x32.mat\n",
      "Using downloaded and verified file: ./svhm/test_32x32.mat\n"
     ]
    }
   ],
   "source": [
    "src_train_dl, src_valid_dl, src_test_dl = get_source_dl()\n",
    "dst_train_unlabeled_dl, dst_train_labeled_dl, dst_valid_dl, dst_test_dl = get_target_dl()"
   ]
  },
  {
   "cell_type": "code",
   "execution_count": 5,
   "metadata": {},
   "outputs": [
    {
     "data": {
      "text/plain": [
       "(1713, 3)"
      ]
     },
     "execution_count": 5,
     "metadata": {},
     "output_type": "execute_result"
    }
   ],
   "source": [
    "len(dst_train_unlabeled_dl), len(dst_train_labeled_dl)"
   ]
  },
  {
   "cell_type": "code",
   "execution_count": 6,
   "metadata": {},
   "outputs": [
    {
     "data": {
      "image/png": "[encoded data removed]",
      "text/plain": [
       "<Figure size 500x500 with 1 Axes>"
      ]
     },
     "metadata": {},
     "output_type": "display_data"
    }
   ],
   "source": [
    "set_seed()\n",
    "src_X_weak, src_y = next(iter(src_train_dl))\n",
    "fig, ax = plt.subplots(figsize=(5, 5))\n",
    "mean_tensor = torch.tensor(NORMALIZE_MEAN).unsqueeze(0).unsqueeze(0)\n",
    "std_tensor = torch.tensor(NORMALIZE_STD).unsqueeze(0).unsqueeze(0)\n",
    "idx = 0\n",
    "ax.imshow(\n",
    "    src_X_weak.permute(0, 2, 3, 1)[idx] * std_tensor +  mean_tensor\n",
    ")\n",
    "plt.show()"
   ]
  },
  {
   "cell_type": "code",
   "execution_count": 7,
   "metadata": {},
   "outputs": [
    {
     "data": {
      "image/png": "[encoded data removed]",
      "text/plain": [
       "<Figure size 1000x500 with 2 Axes>"
      ]
     },
     "metadata": {},
     "output_type": "display_data"
    }
   ],
   "source": [
    "set_seed()\n",
    "dst_X_weak, dst_X_strong = next(iter(dst_train_unlabeled_dl))\n",
    "fig, axes = plt.subplots(ncols=2, figsize=(10, 5))\n",
    "mean_tensor = torch.tensor(NORMALIZE_MEAN).unsqueeze(0).unsqueeze(0)\n",
    "std_tensor = torch.tensor(NORMALIZE_STD).unsqueeze(0).unsqueeze(0)\n",
    "idx = 30\n",
    "axes[0].imshow(\n",
    "    dst_X_weak.permute(0, 2, 3, 1)[idx] * std_tensor +  mean_tensor\n",
    ")\n",
    "axes[1].imshow(\n",
    "    dst_X_strong.permute(0, 2, 3, 1)[idx] * std_tensor +  mean_tensor\n",
    ")\n",
    "plt.show()"
   ]
  },
  {
   "cell_type": "code",
   "execution_count": 8,
   "metadata": {},
   "outputs": [
    {
     "data": {
      "image/png": "[encoded data removed]",
      "text/plain": [
       "<Figure size 500x500 with 1 Axes>"
      ]
     },
     "metadata": {},
     "output_type": "display_data"
    }
   ],
   "source": [
    "dst_X_weak_labeled, dst_labels = next(iter(dst_train_labeled_dl))\n",
    "fig, ax = plt.subplots(figsize=(5, 5))\n",
    "mean_tensor = torch.tensor(NORMALIZE_MEAN).unsqueeze(0).unsqueeze(0)\n",
    "std_tensor = torch.tensor(NORMALIZE_STD).unsqueeze(0).unsqueeze(0)\n",
    "idx = 0\n",
    "ax.imshow(\n",
    "    dst_X_weak_labeled.permute(0, 2, 3, 1)[idx] * std_tensor +  mean_tensor\n",
    ")\n",
    "ax.set_title(f'label={dst_labels[idx]}')\n",
    "plt.show()"
   ]
  },
  {
   "cell_type": "code",
   "execution_count": 4,
   "metadata": {},
   "outputs": [],
   "source": [
    "def get_cnn_and_vit_model():\n",
    "    G1, F1 = get_model(model_type='vit', num_feature_extractor_out=512)\n",
    "    G2, F2 = get_model(model_type='cnn', num_feature_extractor_out=512)\n",
    "    return (G1, F1, G2, F2)\n",
    "\n",
    "\n",
    "def inv_lr_scheduler(param_lr, optimizer, iter_num, gamma=0.0001,\n",
    "                     power=0.75, init_lr=0.001):\n",
    "    \"\"\"Decay learning rate by a factor of 0.1 every lr_decay_epoch epochs.\"\"\"\n",
    "    lr = init_lr * (1 + gamma * iter_num) ** (- power)\n",
    "    i = 0\n",
    "    for param_group in optimizer.param_groups:\n",
    "        param_group['lr'] = lr * param_lr[i]\n",
    "        i += 1\n",
    "    return optimizer\n",
    "\n",
    "\n",
    "def train(\n",
    "    G1,\n",
    "    F1,\n",
    "    G2,\n",
    "    F2,\n",
    "    optimizer_g1,\n",
    "    optimizer_f1,\n",
    "    optimizer_g2,\n",
    "    optimizer_f2,\n",
    "    src_train_dl,\n",
    "    src_valid_dl,\n",
    "    dst_train_dl,\n",
    "    dst_train_with_label_dl,\n",
    "    dst_valid_dl,\n",
    "    adapt_iter,\n",
    "    device='cuda' if torch.cuda.is_available() else 'cpu'\n",
    "):\n",
    "    ce_criterion = nn.CrossEntropyLoss()\n",
    "    def zero_grad_all():\n",
    "        optimizer_g1.zero_grad()\n",
    "        optimizer_f1.zero_grad()\n",
    "        optimizer_g2.zero_grad()\n",
    "        optimizer_f2.zero_grad()\n",
    "\n",
    "    len_src_dl = len(src_train_dl)\n",
    "    len_dst_dl = len(dst_train_dl)\n",
    "    len_dst_with_label_dl = len(dst_train_with_label_dl)\n",
    "\n",
    "    param_lr_g1 = []\n",
    "    for param_group in optimizer_g1.param_groups:\n",
    "        param_lr_g1.append(param_group[\"lr\"])\n",
    "    param_lr_g2 = []\n",
    "    for param_group in optimizer_g2.param_groups:\n",
    "        param_lr_g2.append(param_group[\"lr\"])\n",
    "    param_lr_f1 = []\n",
    "    for param_group in optimizer_f1.param_groups:\n",
    "        param_lr_f1.append(param_group[\"lr\"])\n",
    "    param_lr_f2 = []\n",
    "    for param_group in optimizer_f2.param_groups:\n",
    "        param_lr_f2.append(param_group[\"lr\"])\n",
    "    for step in range(adapt_iter):\n",
    "        optimizer_g1 = inv_lr_scheduler(\n",
    "            param_lr_g1, optimizer_g1, step, init_lr=VIT_LR\n",
    "        )\n",
    "        optimizer_g2 = inv_lr_scheduler(\n",
    "            param_lr_g2, optimizer_g2, step, init_lr=CNN_LR\n",
    "        )\n",
    "        optimizer_f1 = inv_lr_scheduler(param_lr_f1, optimizer_f1, step, init_lr=CNN_LR)\n",
    "        optimizer_f2 = inv_lr_scheduler(param_lr_f2, optimizer_f2, step, init_lr=CNN_LR)\n",
    "\n",
    "        G1.train()\n",
    "        F1.train()\n",
    "        G2.train()\n",
    "        F2.train()\n",
    "        if step % len_src_dl == 0:\n",
    "            iter_src = iter(src_train_dl)\n",
    "        if step % len_dst_dl == 0:\n",
    "            iter_dst = iter(dst_train_dl)\n",
    "        if step % len_dst_with_label_dl == 0:\n",
    "            iter_dst_with_label = iter(dst_train_with_label_dl)\n",
    "        # データ準備\n",
    "        src_X_weak, src_y = next(iter_src)\n",
    "        dst_X_weak, dst_X_strong = next(iter_dst)\n",
    "        dst_X_weak_with_labeld, dst_y = next(iter_dst_with_label)\n",
    "        src_X_weak = src_X_weak.to(device)\n",
    "        src_y = src_y.to(device)\n",
    "        dst_X_weak = dst_X_weak.to(device)\n",
    "        dst_X_strong = dst_X_strong.to(device)\n",
    "        dst_X_weak_with_labeld = dst_X_weak_with_labeld.to(device)\n",
    "        dst_y = dst_y.to(device)\n",
    "\n",
    "        labeled_targetw_tuple = [src_X_weak, dst_X_weak_with_labeld]\n",
    "        labeled_gt = [src_y, dst_y]\n",
    "        nl = src_X_weak.size(0) + dst_X_weak_with_labeld.size(0)\n",
    "\n",
    "        labeled_targetw_input = torch.cat(\n",
    "            labeled_targetw_tuple + [dst_X_weak],\n",
    "            0\n",
    "        )\n",
    "        labeled_targetstr_input = torch.cat(\n",
    "            labeled_targetw_tuple + [dst_X_strong],\n",
    "            0\n",
    "        )\n",
    "        unlabeled_target_input = torch.cat(\n",
    "            (dst_X_weak, dst_X_strong),\n",
    "            0\n",
    "        )\n",
    "        labeled_input = torch.cat(labeled_targetw_tuple, 0)\n",
    "        labeled_gt = torch.cat(labeled_gt, 0)\n",
    "\n",
    "        zero_grad_all()\n",
    "        # == 1. 教師あり学習実施 ==\n",
    "        # 1.1 ViT\n",
    "        vit_logits = F1(G1(labeled_input))\n",
    "        vit_loss = ce_criterion(vit_logits, labeled_gt)\n",
    "\n",
    "        vit_loss.backward()\n",
    "        optimizer_g1.step()\n",
    "        optimizer_f1.step()\n",
    "        zero_grad_all()\n",
    "        # 1.2 CNN\n",
    "        cnn_logits = F2(G2(labeled_targetw_input))\n",
    "        cnn_loss = ce_criterion(cnn_logits[:nl], labeled_gt)\n",
    "\n",
    "        cnn_loss.backward()\n",
    "        optimizer_g2.step()\n",
    "        optimizer_f2.step()\n",
    "        zero_grad_all()\n",
    "\n",
    "        # 2. MCD\n",
    "        # 2.1 Finding\n",
    "        output_f1 = F1(G1(labeled_input))\n",
    "        output_f2 = F2(G2(labeled_targetw_input))\n",
    "        loss_f1 = ce_criterion(output_f1, labeled_gt)\n",
    "        loss_f2 = ce_criterion(output_f2[:nl], labeled_gt)\n",
    "\n",
    "        loss_s = loss_f1 + loss_f2\n",
    "\n",
    "        vit_features_t = G1(unlabeled_target_input)\n",
    "        output_t1 = F1(vit_features_t)\n",
    "        output_t2 = F2(vit_features_t)\n",
    "        loss_dis = torch.mean(\n",
    "            torch.abs(\n",
    "                F.softmax(output_t1, dim=1) - F.softmax(output_t2, dim=1)\n",
    "            )\n",
    "        )\n",
    "        loss = loss_s - loss_dis\n",
    "        loss.backward()\n",
    "        optimizer_f1.step()\n",
    "        optimizer_f2.step()\n",
    "        zero_grad_all()\n",
    "\n",
    "        # 2. Conquering\n",
    "        for _ in range(4):\n",
    "            feat_t = G2(unlabeled_target_input)\n",
    "            output_t1 = F1(feat_t)\n",
    "            output_t2 = F2(feat_t)\n",
    "            loss_dis = torch.mean(\n",
    "                torch.abs(\n",
    "                    F.softmax(output_t1, dim=1) - F.softmax(output_t2, dim=1)\n",
    "                )\n",
    "            )\n",
    "            loss_dis.backward()\n",
    "            optimizer_g2.step()\n",
    "            zero_grad_all()\n",
    "\n",
    "        # 3. co training\n",
    "        # 3.1 ViT -> CNN\n",
    "        vit_logits = F1(G1(dst_X_weak))\n",
    "        logits_u_s = F2(G2(labeled_targetstr_input))\n",
    "        loss_vit_to_cnn = consistency_loss(\n",
    "            logits_u_s[nl:], vit_logits, threshold=TH_VIT\n",
    "        )\n",
    "        loss_vit_to_cnn.backward()\n",
    "        optimizer_g2.step()\n",
    "        optimizer_f2.step()\n",
    "        zero_grad_all()\n",
    "\n",
    "        # # 3.2 CNN -> ViT\n",
    "        logits_u_s = F1(G1(dst_X_strong))\n",
    "        cnn_logits = F2(G2(labeled_targetw_input))\n",
    "        loss_cnn_to_vit = consistency_loss(\n",
    "            logits_u_s, cnn_logits[nl:], threshold=TH_CNN\n",
    "        )\n",
    "        loss_cnn_to_vit.backward()\n",
    "        optimizer_g1.step()\n",
    "        optimizer_f1.step()\n",
    "        zero_grad_all()\n",
    "\n",
    "        if step % 20 == 0 or step == adapt_iter -1:\n",
    "            print(\n",
    "                (\n",
    "                    f'{step} / {adapt_iter} '\n",
    "                    f'CNN loss={cnn_loss.item():.6f} ViT Loss={vit_loss.item():.6f} '\n",
    "                    f'loss_vit_to_cnn={loss_vit_to_cnn.item():.6f} loss_cnn_to_vit={loss_cnn_to_vit.item():.6f}'\n",
    "                )\n",
    "            )\n",
    "\n",
    "        if step % TEST_INTERVAL == 0 and step != 0:\n",
    "            vit_src_acc, vit_src_loss = evaluate(\n",
    "                G1,\n",
    "                F1,\n",
    "                ce_criterion,\n",
    "                src_valid_dl,\n",
    "                device,\n",
    "            )\n",
    "            cnn_src_acc, cnn_src_loss = evaluate(\n",
    "                G2,\n",
    "                F2,\n",
    "                ce_criterion,\n",
    "                src_valid_dl,\n",
    "                device,\n",
    "            )\n",
    "            print('=== src ===')\n",
    "            print(\n",
    "                (\n",
    "                    f'{step} / {adapt_iter} '\n",
    "                    f'ViT acc={vit_src_acc:.6f} ViT Loss={vit_src_loss:.6f} '\n",
    "                    f'CNN acc={cnn_src_acc:.6f} CNN Loss={cnn_src_loss:.6f}'\n",
    "                )\n",
    "            )\n",
    "            vit_dst_acc, vit_dst_loss = evaluate(\n",
    "                G1,\n",
    "                F1,\n",
    "                ce_criterion,\n",
    "                dst_valid_dl,\n",
    "                device,\n",
    "            )\n",
    "            cnn_dst_acc, cnn_dst_loss = evaluate(\n",
    "                G2,\n",
    "                F2,\n",
    "                ce_criterion,\n",
    "                dst_valid_dl,\n",
    "                device,\n",
    "            )\n",
    "            print('=== dst ===')\n",
    "            print(\n",
    "                (\n",
    "                    f'{step} / {adapt_iter} '\n",
    "                    f'ViT acc={vit_dst_acc:.6f} ViT Loss={vit_dst_loss:.6f} '\n",
    "                    f'CNN acc={cnn_dst_acc:.6f} CNN Loss={cnn_dst_loss:.6f}'\n",
    "                )\n",
    "            )\n",
    "\n",
    "\n",
    "def train_normal(\n",
    "    G,\n",
    "    F,\n",
    "    optimizer_G,\n",
    "    optimizer_F,\n",
    "    loss_fn,\n",
    "    epochs,\n",
    "    train_dl,\n",
    "    valid_dl,\n",
    "    device,\n",
    "):\n",
    "    logs = {\n",
    "        'train_accuracy': [],\n",
    "        'train_loss': [],\n",
    "        'valid_accuracy': [],\n",
    "        'valid_loss': [],\n",
    "    }\n",
    "    for epoch in range(epochs):\n",
    "        train_accuracy, train_avg_loss = train_one_epoch(\n",
    "            G,\n",
    "            F,\n",
    "            optimizer_G,\n",
    "            optimizer_F,\n",
    "            loss_fn,\n",
    "            train_dl,\n",
    "            device,\n",
    "        )\n",
    "        valid_accuracy, valid_avg_loss = evaluate(\n",
    "            G,\n",
    "            F,\n",
    "            loss_fn,\n",
    "            valid_dl,\n",
    "            device\n",
    "        )\n",
    "        logs['train_accuracy'].append(train_accuracy)\n",
    "        logs['train_loss'].append(train_avg_loss)\n",
    "        logs['valid_accuracy'].append(valid_accuracy)\n",
    "        logs['valid_loss'].append(valid_avg_loss)\n",
    "\n",
    "        print(f'epoch: {epoch + 1} train loss={train_avg_loss:.3f}, train acc={train_accuracy:.3f}, valid loss={valid_avg_loss:.3f}, valid acc={valid_accuracy:.3f}')\n",
    "    return logs\n",
    "\n",
    "\n",
    "def train_one_epoch(\n",
    "    G,\n",
    "    F,\n",
    "    optimizer_G,\n",
    "    optimizer_F,\n",
    "    loss_fn,\n",
    "    train_dl,\n",
    "    device,\n",
    "):\n",
    "    G.train()\n",
    "    F.train()\n",
    "    total_correct = 0\n",
    "    total_data = 0\n",
    "    total_loss = 0\n",
    "    def zero_grad():\n",
    "        optimizer_G.zero_grad()\n",
    "        optimizer_F.zero_grad()\n",
    "\n",
    "    for X, y in tqdm(train_dl, total=len(train_dl)):\n",
    "        zero_grad()\n",
    "        X = X.to(device)\n",
    "        y = y.to(device)\n",
    "        pred = F(G(X))\n",
    "        loss = loss_fn(pred, y)\n",
    "        loss.backward()\n",
    "        optimizer_G.step()\n",
    "        optimizer_F.step()\n",
    "\n",
    "        num_data = len(X)\n",
    "        total_data += num_data\n",
    "        total_correct += (torch.argmax(pred, dim=1) == y).sum().item()\n",
    "        total_loss += loss.item() * total_data\n",
    "    accuracy = total_correct / total_data\n",
    "    avg_loss = total_loss / total_data\n",
    "    return accuracy, avg_loss\n",
    "\n",
    "\n",
    "\n",
    "@torch.no_grad()\n",
    "def evaluate(G, F, loss_fn, valid_dl, device):\n",
    "    G.eval()\n",
    "    F.eval()\n",
    "    total_correct = 0\n",
    "    total_data = 0\n",
    "    total_loss = 0\n",
    "    for X, y in tqdm(valid_dl, total=len(valid_dl)):\n",
    "        X = X.to(device)\n",
    "        y = y.to(device)\n",
    "        pred = F(G(X))\n",
    "        loss = loss_fn(pred, y)\n",
    "\n",
    "        num_data = len(X)\n",
    "        total_data += num_data\n",
    "        total_correct += (torch.argmax(pred, dim=1) == y).sum().item()\n",
    "        total_loss += loss.item() * total_data\n",
    "    accuracy = total_correct / total_data\n",
    "    avg_loss = total_loss / total_data\n",
    "    return accuracy, avg_loss"
   ]
  },
  {
   "cell_type": "markdown",
   "metadata": {},
   "source": [
    "## 各アーキテクチャ単体で教師あり学習実施"
   ]
  },
  {
   "cell_type": "markdown",
   "metadata": {},
   "source": [
    "### ViT"
   ]
  },
  {
   "cell_type": "code",
   "execution_count": 5,
   "metadata": {},
   "outputs": [
    {
     "name": "stdout",
     "output_type": "stream",
     "text": [
      "Using downloaded and verified file: ./svhm/train_32x32.mat\n",
      "Using downloaded and verified file: ./svhm/test_32x32.mat\n"
     ]
    },
    {
     "name": "stderr",
     "output_type": "stream",
     "text": [
      "100%|██████████| 10/10 [00:00<00:00, 30.04it/s]\n",
      "100%|██████████| 573/573 [00:01<00:00, 356.67it/s]\n"
     ]
    },
    {
     "name": "stdout",
     "output_type": "stream",
     "text": [
      "epoch: 1 train loss=13.907, train acc=0.119, valid loss=700.866, valid acc=0.106\n"
     ]
    },
    {
     "name": "stderr",
     "output_type": "stream",
     "text": [
      "100%|██████████| 10/10 [00:00<00:00, 88.01it/s]\n",
      "100%|██████████| 573/573 [00:02<00:00, 274.80it/s]\n"
     ]
    },
    {
     "name": "stdout",
     "output_type": "stream",
     "text": [
      "epoch: 2 train loss=12.956, train acc=0.119, valid loss=677.644, valid acc=0.102\n"
     ]
    },
    {
     "name": "stderr",
     "output_type": "stream",
     "text": [
      "100%|██████████| 10/10 [00:00<00:00, 52.88it/s]\n",
      "100%|██████████| 573/573 [00:02<00:00, 230.13it/s]\n"
     ]
    },
    {
     "name": "stdout",
     "output_type": "stream",
     "text": [
      "epoch: 3 train loss=12.636, train acc=0.119, valid loss=676.365, valid acc=0.112\n"
     ]
    },
    {
     "name": "stderr",
     "output_type": "stream",
     "text": [
      "100%|██████████| 10/10 [00:00<00:00, 51.58it/s]\n",
      "100%|██████████| 573/573 [00:02<00:00, 230.88it/s]\n"
     ]
    },
    {
     "name": "stdout",
     "output_type": "stream",
     "text": [
      "epoch: 4 train loss=12.612, train acc=0.134, valid loss=676.443, valid acc=0.122\n"
     ]
    },
    {
     "name": "stderr",
     "output_type": "stream",
     "text": [
      "100%|██████████| 10/10 [00:00<00:00, 57.09it/s]\n",
      "100%|██████████| 573/573 [00:02<00:00, 228.56it/s]\n"
     ]
    },
    {
     "name": "stdout",
     "output_type": "stream",
     "text": [
      "epoch: 5 train loss=12.651, train acc=0.131, valid loss=680.885, valid acc=0.092\n"
     ]
    },
    {
     "name": "stderr",
     "output_type": "stream",
     "text": [
      "100%|██████████| 10/10 [00:00<00:00, 46.06it/s]\n",
      "100%|██████████| 573/573 [00:02<00:00, 229.24it/s]\n"
     ]
    },
    {
     "name": "stdout",
     "output_type": "stream",
     "text": [
      "epoch: 6 train loss=12.563, train acc=0.138, valid loss=685.436, valid acc=0.123\n"
     ]
    },
    {
     "name": "stderr",
     "output_type": "stream",
     "text": [
      "100%|██████████| 10/10 [00:00<00:00, 56.80it/s]\n",
      "100%|██████████| 573/573 [00:02<00:00, 227.49it/s]\n"
     ]
    },
    {
     "name": "stdout",
     "output_type": "stream",
     "text": [
      "epoch: 7 train loss=12.426, train acc=0.150, valid loss=691.515, valid acc=0.124\n"
     ]
    },
    {
     "name": "stderr",
     "output_type": "stream",
     "text": [
      "100%|██████████| 10/10 [00:00<00:00, 46.32it/s]\n",
      "100%|██████████| 573/573 [00:02<00:00, 230.51it/s]\n"
     ]
    },
    {
     "name": "stdout",
     "output_type": "stream",
     "text": [
      "epoch: 8 train loss=12.252, train acc=0.138, valid loss=690.202, valid acc=0.113\n"
     ]
    },
    {
     "name": "stderr",
     "output_type": "stream",
     "text": [
      "100%|██████████| 10/10 [00:00<00:00, 59.78it/s]\n",
      "100%|██████████| 573/573 [00:02<00:00, 228.26it/s]\n"
     ]
    },
    {
     "name": "stdout",
     "output_type": "stream",
     "text": [
      "epoch: 9 train loss=12.409, train acc=0.119, valid loss=691.360, valid acc=0.107\n"
     ]
    },
    {
     "name": "stderr",
     "output_type": "stream",
     "text": [
      "100%|██████████| 10/10 [00:00<00:00, 49.19it/s]\n",
      "100%|██████████| 573/573 [00:02<00:00, 232.90it/s]\n"
     ]
    },
    {
     "name": "stdout",
     "output_type": "stream",
     "text": [
      "epoch: 10 train loss=12.323, train acc=0.166, valid loss=706.009, valid acc=0.114\n"
     ]
    },
    {
     "name": "stderr",
     "output_type": "stream",
     "text": [
      "100%|██████████| 814/814 [00:03<00:00, 228.45it/s]"
     ]
    },
    {
     "name": "stdout",
     "output_type": "stream",
     "text": [
      "ViT acc=0.111632\n"
     ]
    },
    {
     "name": "stderr",
     "output_type": "stream",
     "text": [
      "\n"
     ]
    }
   ],
   "source": [
    "# 320枚の画像で普通の教師あり学習実施(ViT) -> accuracy: 13%くらい\n",
    "set_seed(0)\n",
    "(G1, F1, G2, F2) = get_cnn_and_vit_model()\n",
    "device = 'cuda' if torch.cuda.is_available() else 'cpu'\n",
    "G1.to(device)\n",
    "F1.to(device)\n",
    "G2.to(device)\n",
    "F2.to(device)\n",
    "optimizer_G1 = optim.AdamW(G1.parameters(), lr=5e-5, weight_decay=0.0005)\n",
    "optimizer_F1 = optim.AdamW(F1.parameters(), lr=5e-5, weight_decay=0.0005)\n",
    "_, dst_train_labeled_dl, dst_valid_dl, dst_test_dl = get_target_dl()\n",
    "loss_fn = nn.CrossEntropyLoss()\n",
    "\n",
    "logs = train_normal(\n",
    "    G1,\n",
    "    F1,\n",
    "    optimizer_G1,\n",
    "    optimizer_F1,\n",
    "    loss_fn,\n",
    "    10,\n",
    "    dst_train_labeled_dl,\n",
    "    dst_valid_dl,\n",
    "    device,\n",
    ")\n",
    "dst_cnn_test_acc, _ = evaluate(\n",
    "    G1,\n",
    "    F1,\n",
    "    loss_fn,\n",
    "    dst_test_dl,\n",
    "    device,\n",
    ")\n",
    "print(f'ViT acc={dst_cnn_test_acc:.6f}')"
   ]
  },
  {
   "cell_type": "markdown",
   "metadata": {},
   "source": [
    "### CNN"
   ]
  },
  {
   "cell_type": "code",
   "execution_count": null,
   "metadata": {},
   "outputs": [
    {
     "name": "stdout",
     "output_type": "stream",
     "text": [
      "Using downloaded and verified file: ./svhm/train_32x32.mat\n",
      "Using downloaded and verified file: ./svhm/test_32x32.mat\n"
     ]
    },
    {
     "name": "stderr",
     "output_type": "stream",
     "text": [
      "100%|██████████| 10/10 [00:00<00:00, 33.06it/s]\n",
      "100%|██████████| 573/573 [00:01<00:00, 374.08it/s]\n"
     ]
    },
    {
     "name": "stdout",
     "output_type": "stream",
     "text": [
      "epoch: 1 train loss=13.148, train acc=0.097, valid loss=660.916, valid acc=0.116\n"
     ]
    },
    {
     "name": "stderr",
     "output_type": "stream",
     "text": [
      "100%|██████████| 10/10 [00:00<00:00, 68.63it/s]\n",
      "100%|██████████| 573/573 [00:01<00:00, 413.81it/s]\n"
     ]
    },
    {
     "name": "stdout",
     "output_type": "stream",
     "text": [
      "epoch: 2 train loss=12.577, train acc=0.144, valid loss=656.203, valid acc=0.142\n"
     ]
    },
    {
     "name": "stderr",
     "output_type": "stream",
     "text": [
      "100%|██████████| 10/10 [00:00<00:00, 61.92it/s]\n",
      "100%|██████████| 573/573 [00:01<00:00, 424.53it/s]\n"
     ]
    },
    {
     "name": "stdout",
     "output_type": "stream",
     "text": [
      "epoch: 3 train loss=12.432, train acc=0.156, valid loss=657.528, valid acc=0.154\n"
     ]
    },
    {
     "name": "stderr",
     "output_type": "stream",
     "text": [
      "100%|██████████| 10/10 [00:00<00:00, 69.50it/s]\n",
      "100%|██████████| 573/573 [00:01<00:00, 393.44it/s]\n"
     ]
    },
    {
     "name": "stdout",
     "output_type": "stream",
     "text": [
      "epoch: 4 train loss=12.503, train acc=0.156, valid loss=662.936, valid acc=0.160\n"
     ]
    },
    {
     "name": "stderr",
     "output_type": "stream",
     "text": [
      "100%|██████████| 10/10 [00:00<00:00, 66.56it/s]\n",
      "100%|██████████| 573/573 [00:01<00:00, 374.90it/s]\n"
     ]
    },
    {
     "name": "stdout",
     "output_type": "stream",
     "text": [
      "epoch: 5 train loss=12.451, train acc=0.153, valid loss=666.936, valid acc=0.150\n"
     ]
    },
    {
     "name": "stderr",
     "output_type": "stream",
     "text": [
      "100%|██████████| 10/10 [00:00<00:00, 66.87it/s]\n",
      "100%|██████████| 573/573 [00:01<00:00, 404.73it/s]\n"
     ]
    },
    {
     "name": "stdout",
     "output_type": "stream",
     "text": [
      "epoch: 6 train loss=12.051, train acc=0.191, valid loss=674.674, valid acc=0.134\n"
     ]
    },
    {
     "name": "stderr",
     "output_type": "stream",
     "text": [
      "100%|██████████| 10/10 [00:00<00:00, 64.35it/s]\n",
      "100%|██████████| 573/573 [00:01<00:00, 416.08it/s]\n"
     ]
    },
    {
     "name": "stdout",
     "output_type": "stream",
     "text": [
      "epoch: 7 train loss=12.057, train acc=0.191, valid loss=676.263, valid acc=0.137\n"
     ]
    },
    {
     "name": "stderr",
     "output_type": "stream",
     "text": [
      "100%|██████████| 10/10 [00:00<00:00, 65.25it/s]\n",
      "100%|██████████| 573/573 [00:01<00:00, 416.63it/s]\n"
     ]
    },
    {
     "name": "stdout",
     "output_type": "stream",
     "text": [
      "epoch: 8 train loss=11.845, train acc=0.184, valid loss=678.302, valid acc=0.135\n"
     ]
    },
    {
     "name": "stderr",
     "output_type": "stream",
     "text": [
      "100%|██████████| 10/10 [00:00<00:00, 69.06it/s]\n",
      "100%|██████████| 573/573 [00:01<00:00, 414.92it/s]\n"
     ]
    },
    {
     "name": "stdout",
     "output_type": "stream",
     "text": [
      "epoch: 9 train loss=11.604, train acc=0.259, valid loss=678.624, valid acc=0.138\n"
     ]
    },
    {
     "name": "stderr",
     "output_type": "stream",
     "text": [
      "100%|██████████| 10/10 [00:00<00:00, 62.47it/s]\n",
      "100%|██████████| 573/573 [00:01<00:00, 375.35it/s]\n"
     ]
    },
    {
     "name": "stdout",
     "output_type": "stream",
     "text": [
      "epoch: 10 train loss=11.591, train acc=0.216, valid loss=681.825, valid acc=0.137\n"
     ]
    },
    {
     "name": "stderr",
     "output_type": "stream",
     "text": [
      "100%|██████████| 814/814 [00:01<00:00, 417.68it/s]"
     ]
    },
    {
     "name": "stdout",
     "output_type": "stream",
     "text": [
      "cnn acc=0.138599\n"
     ]
    },
    {
     "name": "stderr",
     "output_type": "stream",
     "text": [
      "\n"
     ]
    }
   ],
   "source": [
    "# 320枚の画像で普通の教師あり学習実施(CNN) -> accuracy: 13%くらい\n",
    "set_seed(0)\n",
    "(G1, F1, G2, F2) = get_cnn_and_vit_model()\n",
    "device = 'cuda' if torch.cuda.is_available() else 'cpu'\n",
    "G1.to(device)\n",
    "F1.to(device)\n",
    "G2.to(device)\n",
    "F2.to(device)\n",
    "optimizer_G2 = optim.AdamW(G2.parameters(), lr=5e-5, weight_decay=0.0005)\n",
    "optimizer_F2 = optim.AdamW(F2.parameters(), lr=5e-5, weight_decay=0.0005)\n",
    "_, dst_train_labeled_dl, dst_valid_dl, dst_test_dl = get_target_dl()\n",
    "loss_fn = nn.CrossEntropyLoss()\n",
    "\n",
    "logs = train_normal(\n",
    "    G2,\n",
    "    F2,\n",
    "    optimizer_G2,\n",
    "    optimizer_F2,\n",
    "    loss_fn,\n",
    "    10,\n",
    "    dst_train_labeled_dl,\n",
    "    dst_valid_dl,\n",
    "    device,\n",
    ")\n",
    "dst_cnn_test_acc, _ = evaluate(\n",
    "    G2,\n",
    "    F2,\n",
    "    loss_fn,\n",
    "    dst_test_dl,\n",
    "    device,\n",
    ")\n",
    "print(f'cnn acc={dst_cnn_test_acc:.6f}')"
   ]
  },
  {
   "cell_type": "markdown",
   "metadata": {},
   "source": [
    "## 半教師あり学習実施"
   ]
  },
  {
   "cell_type": "code",
   "execution_count": 9,
   "metadata": {},
   "outputs": [
    {
     "name": "stdout",
     "output_type": "stream",
     "text": [
      "Using downloaded and verified file: ./svhm/train_32x32.mat\n",
      "Using downloaded and verified file: ./svhm/test_32x32.mat\n",
      "0 / 5000 CNN loss=2.412835 ViT Loss=2.383531 loss_vit_to_cnn=1.762468 loss_cnn_to_vit=0.000000\n",
      "20 / 5000 CNN loss=1.756693 ViT Loss=2.522787 loss_vit_to_cnn=0.000000 loss_cnn_to_vit=0.000000\n",
      "40 / 5000 CNN loss=1.342748 ViT Loss=2.768930 loss_vit_to_cnn=0.000000 loss_cnn_to_vit=0.000000\n",
      "60 / 5000 CNN loss=1.402884 ViT Loss=2.462749 loss_vit_to_cnn=0.000000 loss_cnn_to_vit=0.000000\n",
      "80 / 5000 CNN loss=1.084889 ViT Loss=2.540995 loss_vit_to_cnn=0.000000 loss_cnn_to_vit=0.054666\n",
      "100 / 5000 CNN loss=0.565968 ViT Loss=2.294242 loss_vit_to_cnn=0.000000 loss_cnn_to_vit=0.000000\n",
      "120 / 5000 CNN loss=0.644845 ViT Loss=2.134360 loss_vit_to_cnn=0.000000 loss_cnn_to_vit=0.000000\n",
      "140 / 5000 CNN loss=0.690796 ViT Loss=2.126086 loss_vit_to_cnn=0.173023 loss_cnn_to_vit=0.152073\n",
      "160 / 5000 CNN loss=0.673120 ViT Loss=2.125305 loss_vit_to_cnn=0.000000 loss_cnn_to_vit=0.086002\n",
      "180 / 5000 CNN loss=0.538060 ViT Loss=2.245928 loss_vit_to_cnn=0.000000 loss_cnn_to_vit=0.315498\n",
      "200 / 5000 CNN loss=0.411414 ViT Loss=2.028580 loss_vit_to_cnn=0.149652 loss_cnn_to_vit=0.666455\n",
      "220 / 5000 CNN loss=0.322257 ViT Loss=2.164084 loss_vit_to_cnn=0.000000 loss_cnn_to_vit=0.856582\n",
      "240 / 5000 CNN loss=0.219986 ViT Loss=2.070530 loss_vit_to_cnn=0.000000 loss_cnn_to_vit=0.305103\n",
      "260 / 5000 CNN loss=0.275119 ViT Loss=2.360322 loss_vit_to_cnn=0.000000 loss_cnn_to_vit=0.646419\n",
      "280 / 5000 CNN loss=0.182289 ViT Loss=2.180752 loss_vit_to_cnn=0.000000 loss_cnn_to_vit=0.591040\n",
      "300 / 5000 CNN loss=0.372171 ViT Loss=2.321049 loss_vit_to_cnn=0.000000 loss_cnn_to_vit=0.835482\n",
      "320 / 5000 CNN loss=0.170596 ViT Loss=2.158861 loss_vit_to_cnn=0.000000 loss_cnn_to_vit=0.759260\n",
      "340 / 5000 CNN loss=0.189308 ViT Loss=1.937843 loss_vit_to_cnn=0.000000 loss_cnn_to_vit=1.185198\n",
      "360 / 5000 CNN loss=0.135952 ViT Loss=2.173601 loss_vit_to_cnn=0.000000 loss_cnn_to_vit=0.955230\n",
      "380 / 5000 CNN loss=0.124113 ViT Loss=1.998046 loss_vit_to_cnn=0.000000 loss_cnn_to_vit=0.796876\n",
      "400 / 5000 CNN loss=0.157130 ViT Loss=1.845479 loss_vit_to_cnn=0.000000 loss_cnn_to_vit=1.246121\n",
      "420 / 5000 CNN loss=0.125433 ViT Loss=1.899249 loss_vit_to_cnn=0.000000 loss_cnn_to_vit=0.802305\n",
      "440 / 5000 CNN loss=0.101378 ViT Loss=2.042291 loss_vit_to_cnn=0.000000 loss_cnn_to_vit=1.173169\n",
      "460 / 5000 CNN loss=0.275233 ViT Loss=2.014902 loss_vit_to_cnn=0.000000 loss_cnn_to_vit=0.972807\n",
      "480 / 5000 CNN loss=0.101259 ViT Loss=1.648082 loss_vit_to_cnn=0.105664 loss_cnn_to_vit=1.234193\n",
      "500 / 5000 CNN loss=0.168161 ViT Loss=2.004756 loss_vit_to_cnn=0.143948 loss_cnn_to_vit=0.914868\n"
     ]
    },
    {
     "name": "stderr",
     "output_type": "stream",
     "text": [
      "100%|██████████| 375/375 [00:01<00:00, 332.13it/s]\n",
      "100%|██████████| 375/375 [00:00<00:00, 390.14it/s]\n"
     ]
    },
    {
     "name": "stdout",
     "output_type": "stream",
     "text": [
      "=== src ===\n",
      "500 / 5000 ViT acc=0.434000 ViT Loss=274.738547 CNN acc=0.963000 CNN Loss=23.489768\n"
     ]
    },
    {
     "name": "stderr",
     "output_type": "stream",
     "text": [
      "100%|██████████| 573/573 [00:01<00:00, 337.57it/s]\n",
      "100%|██████████| 573/573 [00:01<00:00, 412.29it/s]\n"
     ]
    },
    {
     "name": "stdout",
     "output_type": "stream",
     "text": [
      "=== dst ===\n",
      "500 / 5000 ViT acc=0.176959 ViT Loss=675.548641 CNN acc=0.580890 CNN Loss=480.515925\n",
      "520 / 5000 CNN loss=0.111068 ViT Loss=1.644719 loss_vit_to_cnn=0.012609 loss_cnn_to_vit=1.502506\n",
      "540 / 5000 CNN loss=0.127633 ViT Loss=1.906549 loss_vit_to_cnn=0.000000 loss_cnn_to_vit=0.974854\n",
      "560 / 5000 CNN loss=0.278362 ViT Loss=1.791980 loss_vit_to_cnn=0.000261 loss_cnn_to_vit=0.775129\n",
      "580 / 5000 CNN loss=0.108703 ViT Loss=1.776308 loss_vit_to_cnn=0.001692 loss_cnn_to_vit=1.067552\n",
      "600 / 5000 CNN loss=0.025667 ViT Loss=1.739454 loss_vit_to_cnn=0.000000 loss_cnn_to_vit=1.294030\n",
      "620 / 5000 CNN loss=0.149097 ViT Loss=1.662892 loss_vit_to_cnn=0.000000 loss_cnn_to_vit=0.707813\n",
      "640 / 5000 CNN loss=0.145651 ViT Loss=1.857368 loss_vit_to_cnn=0.000000 loss_cnn_to_vit=1.153908\n",
      "660 / 5000 CNN loss=0.182010 ViT Loss=1.705629 loss_vit_to_cnn=0.000000 loss_cnn_to_vit=1.162751\n",
      "680 / 5000 CNN loss=0.135481 ViT Loss=1.635265 loss_vit_to_cnn=0.220205 loss_cnn_to_vit=1.588649\n",
      "700 / 5000 CNN loss=0.164366 ViT Loss=1.740245 loss_vit_to_cnn=0.000000 loss_cnn_to_vit=1.166756\n",
      "720 / 5000 CNN loss=0.124852 ViT Loss=1.637846 loss_vit_to_cnn=0.341968 loss_cnn_to_vit=1.177621\n",
      "740 / 5000 CNN loss=0.151582 ViT Loss=1.685310 loss_vit_to_cnn=0.174631 loss_cnn_to_vit=0.987115\n",
      "760 / 5000 CNN loss=0.064285 ViT Loss=1.727811 loss_vit_to_cnn=0.000266 loss_cnn_to_vit=1.021019\n",
      "780 / 5000 CNN loss=0.242634 ViT Loss=1.517382 loss_vit_to_cnn=0.083839 loss_cnn_to_vit=0.981592\n",
      "800 / 5000 CNN loss=0.159684 ViT Loss=1.568899 loss_vit_to_cnn=0.360212 loss_cnn_to_vit=1.251060\n",
      "820 / 5000 CNN loss=0.098727 ViT Loss=1.713346 loss_vit_to_cnn=0.372808 loss_cnn_to_vit=1.540463\n",
      "840 / 5000 CNN loss=0.076199 ViT Loss=1.517928 loss_vit_to_cnn=0.072104 loss_cnn_to_vit=1.131638\n",
      "860 / 5000 CNN loss=0.153155 ViT Loss=1.491193 loss_vit_to_cnn=0.000000 loss_cnn_to_vit=0.899616\n",
      "880 / 5000 CNN loss=0.025051 ViT Loss=1.578902 loss_vit_to_cnn=0.024609 loss_cnn_to_vit=0.694162\n",
      "900 / 5000 CNN loss=0.157974 ViT Loss=1.686200 loss_vit_to_cnn=0.088570 loss_cnn_to_vit=0.550157\n",
      "920 / 5000 CNN loss=0.075901 ViT Loss=1.607097 loss_vit_to_cnn=0.206494 loss_cnn_to_vit=0.824569\n",
      "940 / 5000 CNN loss=0.118642 ViT Loss=1.289468 loss_vit_to_cnn=0.309982 loss_cnn_to_vit=0.877960\n",
      "960 / 5000 CNN loss=0.061169 ViT Loss=1.609576 loss_vit_to_cnn=0.469098 loss_cnn_to_vit=0.541530\n",
      "980 / 5000 CNN loss=0.074827 ViT Loss=1.233595 loss_vit_to_cnn=0.126105 loss_cnn_to_vit=0.636064\n",
      "1000 / 5000 CNN loss=0.044531 ViT Loss=1.490847 loss_vit_to_cnn=0.797095 loss_cnn_to_vit=0.823822\n"
     ]
    },
    {
     "name": "stderr",
     "output_type": "stream",
     "text": [
      "100%|██████████| 375/375 [00:01<00:00, 330.99it/s]\n",
      "100%|██████████| 375/375 [00:00<00:00, 426.04it/s]\n"
     ]
    },
    {
     "name": "stdout",
     "output_type": "stream",
     "text": [
      "=== src ===\n",
      "1000 / 5000 ViT acc=0.546000 ViT Loss=234.381012 CNN acc=0.974000 CNN Loss=18.168948\n"
     ]
    },
    {
     "name": "stderr",
     "output_type": "stream",
     "text": [
      "100%|██████████| 573/573 [00:01<00:00, 339.04it/s]\n",
      "100%|██████████| 573/573 [00:01<00:00, 427.76it/s]\n"
     ]
    },
    {
     "name": "stdout",
     "output_type": "stream",
     "text": [
      "=== dst ===\n",
      "1000 / 5000 ViT acc=0.204204 ViT Loss=729.844237 CNN acc=0.556484 CNN Loss=533.265126\n",
      "1020 / 5000 CNN loss=0.110040 ViT Loss=1.235872 loss_vit_to_cnn=0.252949 loss_cnn_to_vit=0.632220\n",
      "1040 / 5000 CNN loss=0.145878 ViT Loss=1.516935 loss_vit_to_cnn=0.475750 loss_cnn_to_vit=0.999284\n",
      "1060 / 5000 CNN loss=0.086935 ViT Loss=1.328863 loss_vit_to_cnn=0.395038 loss_cnn_to_vit=0.375799\n",
      "1080 / 5000 CNN loss=0.125489 ViT Loss=1.384488 loss_vit_to_cnn=0.232200 loss_cnn_to_vit=0.871292\n",
      "1100 / 5000 CNN loss=0.139942 ViT Loss=1.301019 loss_vit_to_cnn=0.825782 loss_cnn_to_vit=0.834960\n",
      "1120 / 5000 CNN loss=0.162022 ViT Loss=1.403147 loss_vit_to_cnn=0.208782 loss_cnn_to_vit=0.374798\n",
      "1140 / 5000 CNN loss=0.108777 ViT Loss=1.088346 loss_vit_to_cnn=0.333845 loss_cnn_to_vit=0.487704\n",
      "1160 / 5000 CNN loss=0.120680 ViT Loss=1.168908 loss_vit_to_cnn=0.689049 loss_cnn_to_vit=0.205727\n",
      "1180 / 5000 CNN loss=0.049829 ViT Loss=1.255613 loss_vit_to_cnn=0.938425 loss_cnn_to_vit=0.696976\n",
      "1200 / 5000 CNN loss=0.132587 ViT Loss=1.147608 loss_vit_to_cnn=0.456490 loss_cnn_to_vit=0.466360\n",
      "1220 / 5000 CNN loss=0.108160 ViT Loss=1.463116 loss_vit_to_cnn=0.801831 loss_cnn_to_vit=0.438060\n",
      "1240 / 5000 CNN loss=0.038565 ViT Loss=1.114751 loss_vit_to_cnn=0.311722 loss_cnn_to_vit=0.663780\n",
      "1260 / 5000 CNN loss=0.129748 ViT Loss=0.967320 loss_vit_to_cnn=0.724145 loss_cnn_to_vit=0.506928\n",
      "1280 / 5000 CNN loss=0.080497 ViT Loss=1.145222 loss_vit_to_cnn=0.504592 loss_cnn_to_vit=0.460754\n",
      "1300 / 5000 CNN loss=0.178993 ViT Loss=1.558692 loss_vit_to_cnn=0.459136 loss_cnn_to_vit=0.208478\n",
      "1320 / 5000 CNN loss=0.105718 ViT Loss=0.996516 loss_vit_to_cnn=0.529426 loss_cnn_to_vit=0.268749\n",
      "1340 / 5000 CNN loss=0.042304 ViT Loss=0.921908 loss_vit_to_cnn=0.905056 loss_cnn_to_vit=0.327903\n",
      "1360 / 5000 CNN loss=0.047478 ViT Loss=0.865045 loss_vit_to_cnn=1.004167 loss_cnn_to_vit=0.553511\n",
      "1380 / 5000 CNN loss=0.050860 ViT Loss=0.765999 loss_vit_to_cnn=0.462718 loss_cnn_to_vit=0.890099\n",
      "1400 / 5000 CNN loss=0.150067 ViT Loss=1.003579 loss_vit_to_cnn=0.781278 loss_cnn_to_vit=0.413103\n",
      "1420 / 5000 CNN loss=0.087013 ViT Loss=1.096451 loss_vit_to_cnn=0.723983 loss_cnn_to_vit=0.417118\n",
      "1440 / 5000 CNN loss=0.052867 ViT Loss=0.754447 loss_vit_to_cnn=0.688233 loss_cnn_to_vit=0.508780\n",
      "1460 / 5000 CNN loss=0.091748 ViT Loss=0.971190 loss_vit_to_cnn=1.140965 loss_cnn_to_vit=0.168902\n",
      "1480 / 5000 CNN loss=0.094116 ViT Loss=0.719841 loss_vit_to_cnn=1.122470 loss_cnn_to_vit=0.323424\n",
      "1500 / 5000 CNN loss=0.052494 ViT Loss=0.979630 loss_vit_to_cnn=0.315109 loss_cnn_to_vit=0.221974\n"
     ]
    },
    {
     "name": "stderr",
     "output_type": "stream",
     "text": [
      "100%|██████████| 375/375 [00:01<00:00, 317.37it/s]\n",
      "100%|██████████| 375/375 [00:00<00:00, 383.65it/s]\n"
     ]
    },
    {
     "name": "stdout",
     "output_type": "stream",
     "text": [
      "=== src ===\n",
      "1500 / 5000 ViT acc=0.733000 ViT Loss=144.439053 CNN acc=0.982750 CNN Loss=13.697973\n"
     ]
    },
    {
     "name": "stderr",
     "output_type": "stream",
     "text": [
      "100%|██████████| 573/573 [00:01<00:00, 326.68it/s]\n",
      "100%|██████████| 573/573 [00:01<00:00, 397.33it/s]\n"
     ]
    },
    {
     "name": "stdout",
     "output_type": "stream",
     "text": [
      "=== dst ===\n",
      "1500 / 5000 ViT acc=0.291400 ViT Loss=809.083777 CNN acc=0.552225 CNN Loss=430.970341\n",
      "1520 / 5000 CNN loss=0.060448 ViT Loss=0.853430 loss_vit_to_cnn=1.138428 loss_cnn_to_vit=0.659919\n",
      "1540 / 5000 CNN loss=0.167862 ViT Loss=0.937722 loss_vit_to_cnn=1.409922 loss_cnn_to_vit=0.468153\n",
      "1560 / 5000 CNN loss=0.059166 ViT Loss=0.738898 loss_vit_to_cnn=0.850180 loss_cnn_to_vit=0.226923\n",
      "1580 / 5000 CNN loss=0.060720 ViT Loss=0.894765 loss_vit_to_cnn=0.676264 loss_cnn_to_vit=0.370050\n",
      "1600 / 5000 CNN loss=0.057367 ViT Loss=0.720162 loss_vit_to_cnn=0.761895 loss_cnn_to_vit=0.415782\n",
      "1620 / 5000 CNN loss=0.107270 ViT Loss=0.681708 loss_vit_to_cnn=1.348326 loss_cnn_to_vit=0.201911\n",
      "1640 / 5000 CNN loss=0.088883 ViT Loss=0.807779 loss_vit_to_cnn=0.830246 loss_cnn_to_vit=0.447916\n",
      "1660 / 5000 CNN loss=0.138318 ViT Loss=0.920651 loss_vit_to_cnn=0.375309 loss_cnn_to_vit=0.315307\n",
      "1680 / 5000 CNN loss=0.082897 ViT Loss=0.624142 loss_vit_to_cnn=0.801497 loss_cnn_to_vit=0.364311\n",
      "1700 / 5000 CNN loss=0.111631 ViT Loss=0.672625 loss_vit_to_cnn=0.854591 loss_cnn_to_vit=0.130994\n",
      "1720 / 5000 CNN loss=0.126277 ViT Loss=1.066040 loss_vit_to_cnn=1.130639 loss_cnn_to_vit=0.264462\n",
      "1740 / 5000 CNN loss=0.027968 ViT Loss=0.682292 loss_vit_to_cnn=0.868217 loss_cnn_to_vit=0.058931\n",
      "1760 / 5000 CNN loss=0.056418 ViT Loss=0.700227 loss_vit_to_cnn=1.103288 loss_cnn_to_vit=0.357302\n",
      "1780 / 5000 CNN loss=0.047195 ViT Loss=0.692194 loss_vit_to_cnn=1.530626 loss_cnn_to_vit=0.284132\n",
      "1800 / 5000 CNN loss=0.044495 ViT Loss=0.728099 loss_vit_to_cnn=1.121717 loss_cnn_to_vit=0.436627\n",
      "1820 / 5000 CNN loss=0.137500 ViT Loss=0.602850 loss_vit_to_cnn=1.349177 loss_cnn_to_vit=0.290688\n",
      "1840 / 5000 CNN loss=0.053280 ViT Loss=0.636820 loss_vit_to_cnn=1.352272 loss_cnn_to_vit=0.070790\n",
      "1860 / 5000 CNN loss=0.102366 ViT Loss=0.583138 loss_vit_to_cnn=1.166861 loss_cnn_to_vit=0.105370\n",
      "1880 / 5000 CNN loss=0.048908 ViT Loss=0.659818 loss_vit_to_cnn=0.877516 loss_cnn_to_vit=0.213009\n",
      "1900 / 5000 CNN loss=0.042262 ViT Loss=0.476940 loss_vit_to_cnn=1.268673 loss_cnn_to_vit=0.192442\n",
      "1920 / 5000 CNN loss=0.118009 ViT Loss=0.355209 loss_vit_to_cnn=1.443974 loss_cnn_to_vit=0.112316\n",
      "1940 / 5000 CNN loss=0.083103 ViT Loss=0.477846 loss_vit_to_cnn=1.529198 loss_cnn_to_vit=0.064798\n",
      "1960 / 5000 CNN loss=0.156408 ViT Loss=0.571123 loss_vit_to_cnn=1.346604 loss_cnn_to_vit=0.148255\n",
      "1980 / 5000 CNN loss=0.108259 ViT Loss=0.323637 loss_vit_to_cnn=0.637804 loss_cnn_to_vit=0.256010\n",
      "2000 / 5000 CNN loss=0.041164 ViT Loss=0.597189 loss_vit_to_cnn=1.427645 loss_cnn_to_vit=0.418114\n"
     ]
    },
    {
     "name": "stderr",
     "output_type": "stream",
     "text": [
      "100%|██████████| 375/375 [00:01<00:00, 322.03it/s]\n",
      "100%|██████████| 375/375 [00:00<00:00, 421.38it/s]\n"
     ]
    },
    {
     "name": "stdout",
     "output_type": "stream",
     "text": [
      "=== src ===\n",
      "2000 / 5000 ViT acc=0.740167 ViT Loss=141.511039 CNN acc=0.984833 CNN Loss=11.725736\n"
     ]
    },
    {
     "name": "stderr",
     "output_type": "stream",
     "text": [
      "100%|██████████| 573/573 [00:01<00:00, 337.77it/s]\n",
      "100%|██████████| 573/573 [00:01<00:00, 454.35it/s]\n"
     ]
    },
    {
     "name": "stdout",
     "output_type": "stream",
     "text": [
      "=== dst ===\n",
      "2000 / 5000 ViT acc=0.318755 ViT Loss=1084.362689 CNN acc=0.489162 CNN Loss=509.232037\n",
      "2020 / 5000 CNN loss=0.040408 ViT Loss=0.473098 loss_vit_to_cnn=0.959210 loss_cnn_to_vit=0.255599\n",
      "2040 / 5000 CNN loss=0.117329 ViT Loss=0.532797 loss_vit_to_cnn=1.450963 loss_cnn_to_vit=0.175293\n",
      "2060 / 5000 CNN loss=0.049312 ViT Loss=0.331495 loss_vit_to_cnn=1.340284 loss_cnn_to_vit=0.342282\n",
      "2080 / 5000 CNN loss=0.040436 ViT Loss=0.550530 loss_vit_to_cnn=1.189424 loss_cnn_to_vit=0.101155\n",
      "2100 / 5000 CNN loss=0.070775 ViT Loss=0.589060 loss_vit_to_cnn=1.378733 loss_cnn_to_vit=0.229958\n",
      "2120 / 5000 CNN loss=0.063351 ViT Loss=0.635359 loss_vit_to_cnn=0.981859 loss_cnn_to_vit=0.212282\n",
      "2140 / 5000 CNN loss=0.084006 ViT Loss=0.663864 loss_vit_to_cnn=1.041612 loss_cnn_to_vit=0.283066\n",
      "2160 / 5000 CNN loss=0.127093 ViT Loss=0.702959 loss_vit_to_cnn=1.087008 loss_cnn_to_vit=0.681435\n",
      "2180 / 5000 CNN loss=0.023804 ViT Loss=0.536757 loss_vit_to_cnn=1.144938 loss_cnn_to_vit=0.092278\n",
      "2200 / 5000 CNN loss=0.023583 ViT Loss=0.287388 loss_vit_to_cnn=1.550804 loss_cnn_to_vit=0.078220\n",
      "2220 / 5000 CNN loss=0.079249 ViT Loss=0.726331 loss_vit_to_cnn=1.458984 loss_cnn_to_vit=0.228949\n",
      "2240 / 5000 CNN loss=0.069827 ViT Loss=0.600745 loss_vit_to_cnn=0.871097 loss_cnn_to_vit=0.389216\n",
      "2260 / 5000 CNN loss=0.065077 ViT Loss=0.664935 loss_vit_to_cnn=1.102032 loss_cnn_to_vit=0.378156\n",
      "2280 / 5000 CNN loss=0.080984 ViT Loss=0.371840 loss_vit_to_cnn=1.269595 loss_cnn_to_vit=0.297624\n",
      "2300 / 5000 CNN loss=0.152287 ViT Loss=0.506197 loss_vit_to_cnn=1.101065 loss_cnn_to_vit=0.216292\n",
      "2320 / 5000 CNN loss=0.033464 ViT Loss=0.374034 loss_vit_to_cnn=0.987293 loss_cnn_to_vit=0.270397\n",
      "2340 / 5000 CNN loss=0.150101 ViT Loss=0.647199 loss_vit_to_cnn=1.742414 loss_cnn_to_vit=0.063202\n",
      "2360 / 5000 CNN loss=0.171607 ViT Loss=0.348837 loss_vit_to_cnn=1.567820 loss_cnn_to_vit=0.198558\n",
      "2380 / 5000 CNN loss=0.066356 ViT Loss=0.418329 loss_vit_to_cnn=1.431810 loss_cnn_to_vit=0.641578\n",
      "2400 / 5000 CNN loss=0.055907 ViT Loss=0.372724 loss_vit_to_cnn=1.635615 loss_cnn_to_vit=0.454689\n",
      "2420 / 5000 CNN loss=0.031766 ViT Loss=0.326747 loss_vit_to_cnn=1.410875 loss_cnn_to_vit=0.311659\n",
      "2440 / 5000 CNN loss=0.067766 ViT Loss=0.454762 loss_vit_to_cnn=1.668710 loss_cnn_to_vit=0.099508\n",
      "2460 / 5000 CNN loss=0.043652 ViT Loss=0.448436 loss_vit_to_cnn=1.374310 loss_cnn_to_vit=0.236849\n",
      "2480 / 5000 CNN loss=0.081319 ViT Loss=0.412803 loss_vit_to_cnn=0.935136 loss_cnn_to_vit=0.306600\n",
      "2500 / 5000 CNN loss=0.075304 ViT Loss=0.515160 loss_vit_to_cnn=1.742440 loss_cnn_to_vit=0.450126\n"
     ]
    },
    {
     "name": "stderr",
     "output_type": "stream",
     "text": [
      "100%|██████████| 375/375 [00:01<00:00, 319.73it/s]\n",
      "100%|██████████| 375/375 [00:00<00:00, 442.08it/s]\n"
     ]
    },
    {
     "name": "stdout",
     "output_type": "stream",
     "text": [
      "=== src ===\n",
      "2500 / 5000 ViT acc=0.861333 ViT Loss=81.193079 CNN acc=0.983000 CNN Loss=13.173842\n"
     ]
    },
    {
     "name": "stderr",
     "output_type": "stream",
     "text": [
      "100%|██████████| 573/573 [00:01<00:00, 330.39it/s]\n",
      "100%|██████████| 573/573 [00:01<00:00, 433.58it/s]\n"
     ]
    },
    {
     "name": "stdout",
     "output_type": "stream",
     "text": [
      "=== dst ===\n",
      "2500 / 5000 ViT acc=0.299044 ViT Loss=1282.158747 CNN acc=0.495605 CNN Loss=466.108342\n",
      "2520 / 5000 CNN loss=0.050225 ViT Loss=0.499002 loss_vit_to_cnn=1.549537 loss_cnn_to_vit=0.391716\n",
      "2540 / 5000 CNN loss=0.075104 ViT Loss=0.496096 loss_vit_to_cnn=1.669446 loss_cnn_to_vit=0.249205\n",
      "2560 / 5000 CNN loss=0.074925 ViT Loss=0.627535 loss_vit_to_cnn=1.334040 loss_cnn_to_vit=0.143523\n",
      "2580 / 5000 CNN loss=0.026839 ViT Loss=0.321803 loss_vit_to_cnn=1.279144 loss_cnn_to_vit=0.212441\n",
      "2600 / 5000 CNN loss=0.026423 ViT Loss=0.219779 loss_vit_to_cnn=1.248400 loss_cnn_to_vit=0.005565\n",
      "2620 / 5000 CNN loss=0.024474 ViT Loss=0.399277 loss_vit_to_cnn=1.058916 loss_cnn_to_vit=0.093726\n",
      "2640 / 5000 CNN loss=0.043629 ViT Loss=0.395581 loss_vit_to_cnn=1.218918 loss_cnn_to_vit=0.065747\n",
      "2660 / 5000 CNN loss=0.086286 ViT Loss=0.495831 loss_vit_to_cnn=1.219734 loss_cnn_to_vit=0.556235\n",
      "2680 / 5000 CNN loss=0.093332 ViT Loss=0.312336 loss_vit_to_cnn=1.125584 loss_cnn_to_vit=0.196353\n",
      "2700 / 5000 CNN loss=0.166176 ViT Loss=0.301203 loss_vit_to_cnn=1.806677 loss_cnn_to_vit=0.242258\n",
      "2720 / 5000 CNN loss=0.036863 ViT Loss=0.253725 loss_vit_to_cnn=0.947800 loss_cnn_to_vit=0.405600\n",
      "2740 / 5000 CNN loss=0.035492 ViT Loss=0.223808 loss_vit_to_cnn=1.496073 loss_cnn_to_vit=0.268656\n",
      "2760 / 5000 CNN loss=0.015749 ViT Loss=0.611172 loss_vit_to_cnn=1.268722 loss_cnn_to_vit=0.152578\n",
      "2780 / 5000 CNN loss=0.100036 ViT Loss=0.549556 loss_vit_to_cnn=1.697657 loss_cnn_to_vit=0.049067\n",
      "2800 / 5000 CNN loss=0.033553 ViT Loss=0.275824 loss_vit_to_cnn=1.036733 loss_cnn_to_vit=0.399552\n",
      "2820 / 5000 CNN loss=0.025375 ViT Loss=0.365017 loss_vit_to_cnn=1.171959 loss_cnn_to_vit=0.256271\n",
      "2840 / 5000 CNN loss=0.062040 ViT Loss=0.347774 loss_vit_to_cnn=1.207574 loss_cnn_to_vit=0.086092\n",
      "2860 / 5000 CNN loss=0.094079 ViT Loss=0.368326 loss_vit_to_cnn=1.286858 loss_cnn_to_vit=0.143179\n",
      "2880 / 5000 CNN loss=0.018879 ViT Loss=0.245914 loss_vit_to_cnn=1.482609 loss_cnn_to_vit=0.598683\n",
      "2900 / 5000 CNN loss=0.034368 ViT Loss=0.547389 loss_vit_to_cnn=1.743996 loss_cnn_to_vit=0.363550\n",
      "2920 / 5000 CNN loss=0.070030 ViT Loss=0.294009 loss_vit_to_cnn=1.425544 loss_cnn_to_vit=0.119060\n",
      "2940 / 5000 CNN loss=0.051274 ViT Loss=0.524848 loss_vit_to_cnn=0.901915 loss_cnn_to_vit=0.533913\n",
      "2960 / 5000 CNN loss=0.031000 ViT Loss=0.459230 loss_vit_to_cnn=1.609560 loss_cnn_to_vit=0.330841\n",
      "2980 / 5000 CNN loss=0.026428 ViT Loss=0.264595 loss_vit_to_cnn=1.395037 loss_cnn_to_vit=0.218223\n",
      "3000 / 5000 CNN loss=0.025356 ViT Loss=0.285184 loss_vit_to_cnn=1.742710 loss_cnn_to_vit=0.381870\n"
     ]
    },
    {
     "name": "stderr",
     "output_type": "stream",
     "text": [
      "100%|██████████| 375/375 [00:01<00:00, 324.73it/s]\n",
      "100%|██████████| 375/375 [00:00<00:00, 375.58it/s]\n"
     ]
    },
    {
     "name": "stdout",
     "output_type": "stream",
     "text": [
      "=== src ===\n",
      "3000 / 5000 ViT acc=0.866917 ViT Loss=77.466366 CNN acc=0.985833 CNN Loss=13.302660\n"
     ]
    },
    {
     "name": "stderr",
     "output_type": "stream",
     "text": [
      "100%|██████████| 573/573 [00:01<00:00, 335.93it/s]\n",
      "100%|██████████| 573/573 [00:01<00:00, 374.35it/s]\n"
     ]
    },
    {
     "name": "stdout",
     "output_type": "stream",
     "text": [
      "=== dst ===\n",
      "3000 / 5000 ViT acc=0.311821 ViT Loss=1353.845791 CNN acc=0.509801 CNN Loss=460.277583\n",
      "3020 / 5000 CNN loss=0.046546 ViT Loss=0.383476 loss_vit_to_cnn=1.068780 loss_cnn_to_vit=0.207319\n",
      "3040 / 5000 CNN loss=0.097700 ViT Loss=0.549842 loss_vit_to_cnn=1.131855 loss_cnn_to_vit=0.276066\n",
      "3060 / 5000 CNN loss=0.049328 ViT Loss=0.142682 loss_vit_to_cnn=1.310651 loss_cnn_to_vit=0.339735\n",
      "3080 / 5000 CNN loss=0.050481 ViT Loss=0.223316 loss_vit_to_cnn=1.511343 loss_cnn_to_vit=0.296834\n",
      "3100 / 5000 CNN loss=0.053555 ViT Loss=0.202866 loss_vit_to_cnn=1.240407 loss_cnn_to_vit=0.499314\n",
      "3120 / 5000 CNN loss=0.265939 ViT Loss=0.488616 loss_vit_to_cnn=1.456020 loss_cnn_to_vit=0.101507\n",
      "3140 / 5000 CNN loss=0.048489 ViT Loss=0.250825 loss_vit_to_cnn=1.295245 loss_cnn_to_vit=0.294088\n",
      "3160 / 5000 CNN loss=0.046939 ViT Loss=0.310611 loss_vit_to_cnn=1.220892 loss_cnn_to_vit=0.483575\n",
      "3180 / 5000 CNN loss=0.078345 ViT Loss=0.283440 loss_vit_to_cnn=1.667044 loss_cnn_to_vit=0.435827\n",
      "3200 / 5000 CNN loss=0.121972 ViT Loss=0.456116 loss_vit_to_cnn=1.607564 loss_cnn_to_vit=0.531300\n",
      "3220 / 5000 CNN loss=0.054484 ViT Loss=0.319368 loss_vit_to_cnn=1.442774 loss_cnn_to_vit=0.113192\n",
      "3240 / 5000 CNN loss=0.026039 ViT Loss=0.325403 loss_vit_to_cnn=1.417306 loss_cnn_to_vit=0.143073\n",
      "3260 / 5000 CNN loss=0.028317 ViT Loss=0.242885 loss_vit_to_cnn=1.540925 loss_cnn_to_vit=0.245643\n",
      "3280 / 5000 CNN loss=0.017815 ViT Loss=0.286998 loss_vit_to_cnn=1.237565 loss_cnn_to_vit=0.668054\n",
      "3300 / 5000 CNN loss=0.052714 ViT Loss=0.317829 loss_vit_to_cnn=1.309076 loss_cnn_to_vit=0.189782\n",
      "3320 / 5000 CNN loss=0.035330 ViT Loss=0.219756 loss_vit_to_cnn=1.353517 loss_cnn_to_vit=0.272910\n",
      "3340 / 5000 CNN loss=0.093135 ViT Loss=0.169185 loss_vit_to_cnn=1.609501 loss_cnn_to_vit=0.224945\n",
      "3360 / 5000 CNN loss=0.100714 ViT Loss=0.366033 loss_vit_to_cnn=1.427100 loss_cnn_to_vit=0.306999\n",
      "3380 / 5000 CNN loss=0.016572 ViT Loss=0.337071 loss_vit_to_cnn=1.572920 loss_cnn_to_vit=0.122838\n",
      "3400 / 5000 CNN loss=0.039072 ViT Loss=0.174757 loss_vit_to_cnn=1.658304 loss_cnn_to_vit=0.377323\n",
      "3420 / 5000 CNN loss=0.097331 ViT Loss=0.107383 loss_vit_to_cnn=1.826261 loss_cnn_to_vit=0.332493\n",
      "3440 / 5000 CNN loss=0.069320 ViT Loss=0.294013 loss_vit_to_cnn=1.223276 loss_cnn_to_vit=0.220083\n",
      "3460 / 5000 CNN loss=0.095542 ViT Loss=0.278800 loss_vit_to_cnn=1.129256 loss_cnn_to_vit=0.196674\n",
      "3480 / 5000 CNN loss=0.025906 ViT Loss=0.249106 loss_vit_to_cnn=1.809451 loss_cnn_to_vit=0.086898\n",
      "3500 / 5000 CNN loss=0.021531 ViT Loss=0.447401 loss_vit_to_cnn=1.621539 loss_cnn_to_vit=0.531622\n"
     ]
    },
    {
     "name": "stderr",
     "output_type": "stream",
     "text": [
      "100%|██████████| 375/375 [00:01<00:00, 328.94it/s]\n",
      "100%|██████████| 375/375 [00:00<00:00, 401.67it/s]\n"
     ]
    },
    {
     "name": "stdout",
     "output_type": "stream",
     "text": [
      "=== src ===\n",
      "3500 / 5000 ViT acc=0.882250 ViT Loss=70.203157 CNN acc=0.986583 CNN Loss=12.313063\n"
     ]
    },
    {
     "name": "stderr",
     "output_type": "stream",
     "text": [
      "100%|██████████| 573/573 [00:01<00:00, 335.68it/s]\n",
      "100%|██████████| 573/573 [00:01<00:00, 435.87it/s]\n"
     ]
    },
    {
     "name": "stdout",
     "output_type": "stream",
     "text": [
      "=== dst ===\n",
      "3500 / 5000 ViT acc=0.300355 ViT Loss=1629.612786 CNN acc=0.522140 CNN Loss=453.211366\n",
      "3520 / 5000 CNN loss=0.038151 ViT Loss=0.123963 loss_vit_to_cnn=1.810819 loss_cnn_to_vit=0.362937\n",
      "3540 / 5000 CNN loss=0.020055 ViT Loss=0.162604 loss_vit_to_cnn=1.436200 loss_cnn_to_vit=0.134769\n",
      "3560 / 5000 CNN loss=0.123512 ViT Loss=0.279934 loss_vit_to_cnn=1.581211 loss_cnn_to_vit=0.073559\n",
      "3580 / 5000 CNN loss=0.086797 ViT Loss=0.172174 loss_vit_to_cnn=2.105169 loss_cnn_to_vit=0.197476\n",
      "3600 / 5000 CNN loss=0.016470 ViT Loss=0.478001 loss_vit_to_cnn=1.734849 loss_cnn_to_vit=0.554003\n",
      "3620 / 5000 CNN loss=0.064734 ViT Loss=0.305364 loss_vit_to_cnn=1.373945 loss_cnn_to_vit=0.427114\n",
      "3640 / 5000 CNN loss=0.054896 ViT Loss=0.461014 loss_vit_to_cnn=0.751703 loss_cnn_to_vit=0.297891\n",
      "3660 / 5000 CNN loss=0.062214 ViT Loss=0.184223 loss_vit_to_cnn=1.075412 loss_cnn_to_vit=0.168756\n",
      "3680 / 5000 CNN loss=0.020989 ViT Loss=0.117638 loss_vit_to_cnn=1.205218 loss_cnn_to_vit=0.497065\n",
      "3700 / 5000 CNN loss=0.013844 ViT Loss=0.307987 loss_vit_to_cnn=1.251559 loss_cnn_to_vit=0.119173\n",
      "3720 / 5000 CNN loss=0.014518 ViT Loss=0.241819 loss_vit_to_cnn=1.006414 loss_cnn_to_vit=0.408495\n",
      "3740 / 5000 CNN loss=0.059630 ViT Loss=0.353280 loss_vit_to_cnn=1.281294 loss_cnn_to_vit=0.147239\n",
      "3760 / 5000 CNN loss=0.060417 ViT Loss=0.402173 loss_vit_to_cnn=1.480557 loss_cnn_to_vit=0.300942\n",
      "3780 / 5000 CNN loss=0.065530 ViT Loss=0.311882 loss_vit_to_cnn=1.286106 loss_cnn_to_vit=0.343863\n",
      "3800 / 5000 CNN loss=0.023176 ViT Loss=0.289038 loss_vit_to_cnn=1.108643 loss_cnn_to_vit=0.322688\n",
      "3820 / 5000 CNN loss=0.023746 ViT Loss=0.367226 loss_vit_to_cnn=1.168103 loss_cnn_to_vit=0.173459\n",
      "3840 / 5000 CNN loss=0.226559 ViT Loss=0.341859 loss_vit_to_cnn=1.304034 loss_cnn_to_vit=0.399004\n",
      "3860 / 5000 CNN loss=0.018106 ViT Loss=0.354480 loss_vit_to_cnn=1.448214 loss_cnn_to_vit=0.591841\n",
      "3880 / 5000 CNN loss=0.078176 ViT Loss=0.394744 loss_vit_to_cnn=1.222433 loss_cnn_to_vit=0.182669\n",
      "3900 / 5000 CNN loss=0.021820 ViT Loss=0.419163 loss_vit_to_cnn=1.201078 loss_cnn_to_vit=0.685401\n",
      "3920 / 5000 CNN loss=0.052623 ViT Loss=0.209900 loss_vit_to_cnn=1.236077 loss_cnn_to_vit=0.379639\n",
      "3940 / 5000 CNN loss=0.033417 ViT Loss=0.196953 loss_vit_to_cnn=1.278147 loss_cnn_to_vit=0.572668\n",
      "3960 / 5000 CNN loss=0.025393 ViT Loss=0.197579 loss_vit_to_cnn=1.239112 loss_cnn_to_vit=0.287430\n",
      "3980 / 5000 CNN loss=0.039967 ViT Loss=0.141186 loss_vit_to_cnn=1.439044 loss_cnn_to_vit=0.464653\n",
      "4000 / 5000 CNN loss=0.033242 ViT Loss=0.325278 loss_vit_to_cnn=1.864855 loss_cnn_to_vit=0.037070\n"
     ]
    },
    {
     "name": "stderr",
     "output_type": "stream",
     "text": [
      "100%|██████████| 375/375 [00:01<00:00, 326.11it/s]\n",
      "100%|██████████| 375/375 [00:00<00:00, 385.50it/s]\n"
     ]
    },
    {
     "name": "stdout",
     "output_type": "stream",
     "text": [
      "=== src ===\n",
      "4000 / 5000 ViT acc=0.900750 ViT Loss=58.918052 CNN acc=0.985500 CNN Loss=11.680064\n"
     ]
    },
    {
     "name": "stderr",
     "output_type": "stream",
     "text": [
      "100%|██████████| 573/573 [00:01<00:00, 336.50it/s]\n",
      "100%|██████████| 573/573 [00:01<00:00, 431.46it/s]\n"
     ]
    },
    {
     "name": "stdout",
     "output_type": "stream",
     "text": [
      "=== dst ===\n",
      "4000 / 5000 ViT acc=0.326563 ViT Loss=1301.283958 CNN acc=0.499372 CNN Loss=471.964031\n",
      "4020 / 5000 CNN loss=0.132287 ViT Loss=0.233820 loss_vit_to_cnn=1.495939 loss_cnn_to_vit=0.175711\n",
      "4040 / 5000 CNN loss=0.011834 ViT Loss=0.149017 loss_vit_to_cnn=1.143256 loss_cnn_to_vit=0.399518\n",
      "4060 / 5000 CNN loss=0.019195 ViT Loss=0.365499 loss_vit_to_cnn=1.138403 loss_cnn_to_vit=0.339349\n",
      "4080 / 5000 CNN loss=0.117429 ViT Loss=0.337711 loss_vit_to_cnn=1.392229 loss_cnn_to_vit=0.607939\n",
      "4100 / 5000 CNN loss=0.049381 ViT Loss=0.265480 loss_vit_to_cnn=1.491992 loss_cnn_to_vit=0.283507\n",
      "4120 / 5000 CNN loss=0.092729 ViT Loss=0.230638 loss_vit_to_cnn=1.782451 loss_cnn_to_vit=0.408467\n",
      "4140 / 5000 CNN loss=0.041386 ViT Loss=0.758140 loss_vit_to_cnn=1.393756 loss_cnn_to_vit=0.127673\n",
      "4160 / 5000 CNN loss=0.015124 ViT Loss=0.320789 loss_vit_to_cnn=1.255380 loss_cnn_to_vit=0.079975\n",
      "4180 / 5000 CNN loss=0.032573 ViT Loss=0.329536 loss_vit_to_cnn=1.365706 loss_cnn_to_vit=0.244973\n",
      "4200 / 5000 CNN loss=0.037203 ViT Loss=0.247804 loss_vit_to_cnn=1.269821 loss_cnn_to_vit=0.449906\n",
      "4220 / 5000 CNN loss=0.038776 ViT Loss=0.424181 loss_vit_to_cnn=1.587839 loss_cnn_to_vit=0.304308\n",
      "4240 / 5000 CNN loss=0.059506 ViT Loss=0.433731 loss_vit_to_cnn=1.659045 loss_cnn_to_vit=0.054596\n",
      "4260 / 5000 CNN loss=0.043813 ViT Loss=0.249323 loss_vit_to_cnn=1.327562 loss_cnn_to_vit=0.430564\n",
      "4280 / 5000 CNN loss=0.050569 ViT Loss=0.417203 loss_vit_to_cnn=1.447548 loss_cnn_to_vit=0.123057\n",
      "4300 / 5000 CNN loss=0.061351 ViT Loss=0.160205 loss_vit_to_cnn=1.419156 loss_cnn_to_vit=0.531073\n",
      "4320 / 5000 CNN loss=0.033867 ViT Loss=0.279483 loss_vit_to_cnn=1.291779 loss_cnn_to_vit=0.116573\n",
      "4340 / 5000 CNN loss=0.029633 ViT Loss=0.109042 loss_vit_to_cnn=1.716901 loss_cnn_to_vit=0.995877\n",
      "4360 / 5000 CNN loss=0.076911 ViT Loss=0.312178 loss_vit_to_cnn=1.456467 loss_cnn_to_vit=0.346665\n",
      "4380 / 5000 CNN loss=0.064584 ViT Loss=0.360921 loss_vit_to_cnn=1.292800 loss_cnn_to_vit=0.064048\n",
      "4400 / 5000 CNN loss=0.026450 ViT Loss=0.215901 loss_vit_to_cnn=1.154444 loss_cnn_to_vit=0.123452\n",
      "4420 / 5000 CNN loss=0.023786 ViT Loss=0.147746 loss_vit_to_cnn=1.429992 loss_cnn_to_vit=0.160847\n",
      "4440 / 5000 CNN loss=0.026847 ViT Loss=0.179873 loss_vit_to_cnn=1.428062 loss_cnn_to_vit=0.359869\n",
      "4460 / 5000 CNN loss=0.016624 ViT Loss=0.100830 loss_vit_to_cnn=1.097239 loss_cnn_to_vit=0.290908\n",
      "4480 / 5000 CNN loss=0.011960 ViT Loss=0.113696 loss_vit_to_cnn=1.583599 loss_cnn_to_vit=0.346088\n",
      "4500 / 5000 CNN loss=0.029394 ViT Loss=0.164694 loss_vit_to_cnn=1.112671 loss_cnn_to_vit=0.256770\n"
     ]
    },
    {
     "name": "stderr",
     "output_type": "stream",
     "text": [
      "100%|██████████| 375/375 [00:01<00:00, 325.74it/s]\n",
      "100%|██████████| 375/375 [00:00<00:00, 398.45it/s]\n"
     ]
    },
    {
     "name": "stdout",
     "output_type": "stream",
     "text": [
      "=== src ===\n",
      "4500 / 5000 ViT acc=0.895667 ViT Loss=60.589584 CNN acc=0.988333 CNN Loss=9.497329\n"
     ]
    },
    {
     "name": "stderr",
     "output_type": "stream",
     "text": [
      "100%|██████████| 573/573 [00:01<00:00, 336.80it/s]\n",
      "100%|██████████| 573/573 [00:01<00:00, 400.18it/s]\n"
     ]
    },
    {
     "name": "stdout",
     "output_type": "stream",
     "text": [
      "=== dst ===\n",
      "4500 / 5000 ViT acc=0.337374 ViT Loss=1258.109994 CNN acc=0.501065 CNN Loss=493.896180\n",
      "4520 / 5000 CNN loss=0.116498 ViT Loss=0.260407 loss_vit_to_cnn=1.010082 loss_cnn_to_vit=0.293924\n",
      "4540 / 5000 CNN loss=0.021100 ViT Loss=0.231563 loss_vit_to_cnn=0.952916 loss_cnn_to_vit=0.095265\n",
      "4560 / 5000 CNN loss=0.032049 ViT Loss=0.241541 loss_vit_to_cnn=1.614870 loss_cnn_to_vit=0.301316\n",
      "4580 / 5000 CNN loss=0.017137 ViT Loss=0.229278 loss_vit_to_cnn=1.163104 loss_cnn_to_vit=0.174938\n",
      "4600 / 5000 CNN loss=0.030310 ViT Loss=0.296750 loss_vit_to_cnn=1.325302 loss_cnn_to_vit=0.239398\n",
      "4620 / 5000 CNN loss=0.009425 ViT Loss=0.207430 loss_vit_to_cnn=1.503430 loss_cnn_to_vit=0.386319\n",
      "4640 / 5000 CNN loss=0.038248 ViT Loss=0.093178 loss_vit_to_cnn=1.605865 loss_cnn_to_vit=0.617176\n",
      "4660 / 5000 CNN loss=0.155947 ViT Loss=0.314831 loss_vit_to_cnn=1.339579 loss_cnn_to_vit=0.188274\n",
      "4680 / 5000 CNN loss=0.026369 ViT Loss=0.368802 loss_vit_to_cnn=1.379001 loss_cnn_to_vit=0.314738\n",
      "4700 / 5000 CNN loss=0.012441 ViT Loss=0.235864 loss_vit_to_cnn=1.179523 loss_cnn_to_vit=0.384342\n",
      "4720 / 5000 CNN loss=0.122548 ViT Loss=0.206762 loss_vit_to_cnn=1.163671 loss_cnn_to_vit=0.226272\n",
      "4740 / 5000 CNN loss=0.052722 ViT Loss=0.256606 loss_vit_to_cnn=1.219604 loss_cnn_to_vit=0.073456\n",
      "4760 / 5000 CNN loss=0.029682 ViT Loss=0.528826 loss_vit_to_cnn=1.251501 loss_cnn_to_vit=0.715643\n",
      "4780 / 5000 CNN loss=0.059097 ViT Loss=0.385072 loss_vit_to_cnn=1.162392 loss_cnn_to_vit=0.298250\n",
      "4800 / 5000 CNN loss=0.025322 ViT Loss=0.259610 loss_vit_to_cnn=1.515300 loss_cnn_to_vit=0.665917\n",
      "4820 / 5000 CNN loss=0.095325 ViT Loss=0.066741 loss_vit_to_cnn=1.521774 loss_cnn_to_vit=0.182854\n",
      "4840 / 5000 CNN loss=0.068581 ViT Loss=0.310611 loss_vit_to_cnn=1.551335 loss_cnn_to_vit=0.022996\n",
      "4860 / 5000 CNN loss=0.021877 ViT Loss=0.206686 loss_vit_to_cnn=1.206787 loss_cnn_to_vit=0.404643\n",
      "4880 / 5000 CNN loss=0.011078 ViT Loss=0.207638 loss_vit_to_cnn=1.414873 loss_cnn_to_vit=0.155722\n",
      "4900 / 5000 CNN loss=0.017977 ViT Loss=0.335172 loss_vit_to_cnn=1.375737 loss_cnn_to_vit=0.139534\n",
      "4920 / 5000 CNN loss=0.085286 ViT Loss=0.137280 loss_vit_to_cnn=1.370379 loss_cnn_to_vit=0.372235\n",
      "4940 / 5000 CNN loss=0.017156 ViT Loss=0.115933 loss_vit_to_cnn=1.361776 loss_cnn_to_vit=0.074782\n",
      "4960 / 5000 CNN loss=0.015066 ViT Loss=0.117431 loss_vit_to_cnn=1.025017 loss_cnn_to_vit=0.192278\n",
      "4980 / 5000 CNN loss=0.026927 ViT Loss=0.300921 loss_vit_to_cnn=1.358311 loss_cnn_to_vit=0.091667\n",
      "4999 / 5000 CNN loss=0.051427 ViT Loss=0.205583 loss_vit_to_cnn=0.924043 loss_cnn_to_vit=0.376836\n"
     ]
    }
   ],
   "source": [
    "set_seed(0)\n",
    "(G1, F1, G2, F2) = get_cnn_and_vit_model()\n",
    "device = 'cuda' if torch.cuda.is_available() else 'cpu'\n",
    "G1.to(device)\n",
    "F1.to(device)\n",
    "G2.to(device)\n",
    "F2.to(device)\n",
    "optimizer_G1 = optim.AdamW(G1.parameters(), lr=0.1, weight_decay=0.0005)\n",
    "optimizer_F1 = optim.AdamW(F1.parameters(), lr=1.0, weight_decay=0.0005)\n",
    "optimizer_G2 = optim.AdamW(G2.parameters(), lr=0.1, weight_decay=0.0005)\n",
    "optimizer_F2 = optim.AdamW(F2.parameters(), lr=1.0, weight_decay=0.0005)\n",
    "\n",
    "src_train_dl, src_valid_dl, src_test_dl = get_source_dl()\n",
    "dst_train_unlabeled_dl, dst_train_labeled_dl, dst_valid_dl, dst_test_dl = get_target_dl()\n",
    "train(\n",
    "    G1,\n",
    "    F1,\n",
    "    G2,\n",
    "    F2,\n",
    "    optimizer_G1,\n",
    "    optimizer_F1,\n",
    "    optimizer_G2,\n",
    "    optimizer_G2,\n",
    "    src_train_dl,\n",
    "    src_valid_dl,\n",
    "    dst_train_unlabeled_dl,\n",
    "    dst_train_labeled_dl,\n",
    "    dst_valid_dl,\n",
    "    adapt_iter=ADAPT_ITERS,\n",
    ")"
   ]
  },
  {
   "cell_type": "code",
   "execution_count": 10,
   "metadata": {},
   "outputs": [
    {
     "name": "stderr",
     "output_type": "stream",
     "text": [
      "100%|██████████| 313/313 [00:01<00:00, 267.55it/s]\n",
      "100%|██████████| 313/313 [00:00<00:00, 397.54it/s]\n"
     ]
    },
    {
     "name": "stdout",
     "output_type": "stream",
     "text": [
      "SRC Test vit acc=0.927700, cnn acc=0.991200\n"
     ]
    },
    {
     "name": "stderr",
     "output_type": "stream",
     "text": [
      "100%|██████████| 814/814 [00:02<00:00, 342.78it/s]\n",
      "100%|██████████| 814/814 [00:01<00:00, 413.91it/s]"
     ]
    },
    {
     "name": "stdout",
     "output_type": "stream",
     "text": [
      "DST Test vit acc=0.307698, cnn acc=0.549862\n"
     ]
    },
    {
     "name": "stderr",
     "output_type": "stream",
     "text": [
      "\n"
     ]
    }
   ],
   "source": [
    "loss_fn = nn.CrossEntropyLoss()\n",
    "src_vit_test_acc, _ = evaluate(\n",
    "    G1,\n",
    "    F1,\n",
    "    loss_fn,\n",
    "    src_test_dl,\n",
    "    device,\n",
    ")\n",
    "src_cnn_test_acc, _ = evaluate(\n",
    "    G2,\n",
    "    F2,\n",
    "    loss_fn,\n",
    "    src_test_dl,\n",
    "    device,\n",
    ")\n",
    "print(f'SRC Test vit acc={src_vit_test_acc:.6f}, cnn acc={src_cnn_test_acc:.6f}')\n",
    "\n",
    "\n",
    "loss_fn = nn.CrossEntropyLoss()\n",
    "dst_vit_test_acc, _ = evaluate(\n",
    "    G1,\n",
    "    F1,\n",
    "    loss_fn,\n",
    "    dst_test_dl,\n",
    "    device,\n",
    ")\n",
    "dst_cnn_test_acc, _ = evaluate(\n",
    "    G2,\n",
    "    F2,\n",
    "    loss_fn,\n",
    "    dst_test_dl,\n",
    "    device,\n",
    ")\n",
    "print(f'DST Test vit acc={dst_vit_test_acc:.6f}, cnn acc={dst_cnn_test_acc:.6f}')"
   ]
  },
  {
   "cell_type": "code",
   "execution_count": null,
   "metadata": {},
   "outputs": [],
   "source": []
  }
 ],
 "metadata": {
  "kernelspec": {
   "display_name": "Python 3 (ipykernel)",
   "language": "python",
   "name": "python3"
  },
  "language_info": {
   "codemirror_mode": {
    "name": "ipython",
    "version": 3
   },
   "file_extension": ".py",
   "mimetype": "text/x-python",
   "name": "python",
   "nbconvert_exporter": "python",
   "pygments_lexer": "ipython3",
   "version": "3.10.12"
  }
 },
 "nbformat": 4,
 "nbformat_minor": 4
}
