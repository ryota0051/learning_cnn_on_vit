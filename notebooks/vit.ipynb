{
 "cells": [
  {
   "cell_type": "code",
   "execution_count": 1,
   "id": "de59e42f-a622-42d3-a143-c9afada0e92d",
   "metadata": {},
   "outputs": [],
   "source": [
    "import torch\n",
    "import torch.nn as nn\n",
    "import matplotlib.pyplot as plt\n",
    "import numpy as np\n",
    "from torch.utils.data import DataLoader, random_split\n",
    "from torch import optim\n",
    "from torchvision.datasets import SVHN, MNIST\n",
    "from torchvision import transforms\n",
    "from tqdm import tqdm\n",
    "\n",
    "from src.data_utils import TransformDataset\n",
    "from src.models import get_model\n",
    "from src.reproducibility import set_seed"
   ]
  },
  {
   "cell_type": "code",
   "execution_count": 2,
   "id": "b87b4bd1-6dc7-4e94-b72a-c8f6f5fd792d",
   "metadata": {},
   "outputs": [],
   "source": [
    "# 入力画像サイズ\n",
    "INPUT_SIZE = 32\n",
    "\n",
    "# learning rate\n",
    "LR = 5e-5\n",
    "\n",
    "# エポック数\n",
    "EPOCHS = 10"
   ]
  },
  {
   "cell_type": "code",
   "execution_count": 3,
   "id": "e3b721c2-3aeb-4c6e-ab0b-a6896a2caa50",
   "metadata": {},
   "outputs": [],
   "source": [
    "def get_mnist_transform():\n",
    "    train_transform = transforms.Compose([\n",
    "        transforms.Resize(INPUT_SIZE),\n",
    "        transforms.Lambda(lambda x: x.convert('RGB')),\n",
    "        transforms.RandomAffine(degrees=10, translate=(0.1, 0.1)),\n",
    "        transforms.RandomCrop(size=INPUT_SIZE),\n",
    "        transforms.ToTensor(),\n",
    "        transforms.Normalize(mean=0.5, std=0.5),\n",
    "    ])\n",
    "    valid_transform = transforms.Compose([\n",
    "        transforms.Resize(INPUT_SIZE),\n",
    "        transforms.Lambda(lambda x: x.convert('RGB')),\n",
    "        # transforms.Grayscale(num_output_channels=3),\n",
    "        transforms.ToTensor(),\n",
    "        transforms.Normalize(mean=0.5, std=0.5),\n",
    "    ])\n",
    "    return train_transform, valid_transform\n",
    "\n",
    "\n",
    "def get_mnist_dl(batch_size=32):\n",
    "    train_transform, valid_transform = get_mnist_transform()\n",
    "    train_mnist = MNIST(\n",
    "        root='./mnist/',\n",
    "        train=True,\n",
    "        download=True,\n",
    "    )\n",
    "    test_mnist = MNIST(\n",
    "        root='./mnist/',\n",
    "        train=False,\n",
    "        download=True,\n",
    "        transform=valid_transform\n",
    "    )\n",
    "    split_generator = torch.Generator().manual_seed(2024)\n",
    "    train_mnist, val_mnist = random_split(train_mnist, [0.8, 0.2], split_generator)\n",
    "    train_mnist, val_mnist = TransformDataset(train_mnist, transform=train_transform), TransformDataset(val_mnist, transform=valid_transform)\n",
    "    dl_generator = torch.Generator().manual_seed(2024)\n",
    "    train_dl = DataLoader(\n",
    "        train_mnist,\n",
    "        batch_size=batch_size,\n",
    "        shuffle=True,\n",
    "        num_workers=2,\n",
    "        generator=dl_generator,\n",
    "    )\n",
    "    valid_dl = DataLoader(\n",
    "        val_mnist,\n",
    "        batch_size=batch_size,\n",
    "        shuffle=False,\n",
    "        num_workers=2,\n",
    "    )\n",
    "    test_dl = DataLoader(\n",
    "        test_mnist,\n",
    "        batch_size=batch_size,\n",
    "        shuffle=False,\n",
    "        num_workers=2,\n",
    "    )\n",
    "    return train_dl, valid_dl, test_dl\n",
    "\n",
    "\n",
    "def get_svhm_transform():\n",
    "    train_transform = transforms.Compose([\n",
    "        transforms.Resize(INPUT_SIZE),\n",
    "        transforms.RandomAffine(degrees=10, translate=(0.1, 0.1)),\n",
    "        transforms.RandomCrop(size=INPUT_SIZE),\n",
    "        transforms.ToTensor(),\n",
    "        transforms.Normalize(mean=0.5, std=0.5),\n",
    "    ])\n",
    "    valid_transform = transforms.Compose([\n",
    "        transforms.Resize(INPUT_SIZE),\n",
    "        transforms.Grayscale(num_output_channels=3),\n",
    "        transforms.ToTensor(),\n",
    "        transforms.Normalize(mean=0.5, std=0.5),\n",
    "    ])\n",
    "    return train_transform, valid_transform\n",
    "\n",
    "\n",
    "def get_svhm_dl(batch_size=32):\n",
    "    train_transform, valid_transform = get_svhm_transform()\n",
    "    train_svhm = SVHN(\n",
    "        root='./svhm/',\n",
    "        split='train',\n",
    "        download=True,\n",
    "    )\n",
    "    test_svhm = SVHN(\n",
    "        root='./svhm/',\n",
    "        split='test',\n",
    "        download=True,\n",
    "        transform=valid_transform\n",
    "    )\n",
    "    split_generator = torch.Generator().manual_seed(2024)\n",
    "    train_svhm, val_svhm = random_split(train_svhm, [0.8, 0.2], split_generator)\n",
    "    train_svhm, val_svhm = TransformDataset(train_svhm, transform=train_transform), TransformDataset(val_svhm, transform=valid_transform)\n",
    "    dl_generator = torch.Generator().manual_seed(2024)\n",
    "    train_dl = DataLoader(\n",
    "        train_svhm,\n",
    "        batch_size=batch_size,\n",
    "        shuffle=True,\n",
    "        num_workers=2,\n",
    "        generator=dl_generator,\n",
    "    )\n",
    "    valid_dl = DataLoader(\n",
    "        val_svhm,\n",
    "        batch_size=batch_size,\n",
    "        shuffle=False,\n",
    "        num_workers=2,\n",
    "    )\n",
    "    test_dl = DataLoader(\n",
    "        test_svhm,\n",
    "        batch_size=batch_size,\n",
    "        shuffle=False,\n",
    "        num_workers=2,\n",
    "    )\n",
    "    return train_dl, valid_dl, test_dl\n",
    "\n",
    "\n",
    "\n",
    "def train(\n",
    "    G,\n",
    "    F,\n",
    "    optimizer_G,\n",
    "    optimizer_F,\n",
    "    loss_fn,\n",
    "    epochs,\n",
    "    train_dl,\n",
    "    valid_dl,\n",
    "    device,\n",
    "):\n",
    "    logs = {\n",
    "        'train_accuracy': [],\n",
    "        'train_loss': [],\n",
    "        'valid_accuracy': [],\n",
    "        'valid_loss': [],\n",
    "    }\n",
    "    for epoch in range(epochs):\n",
    "        train_accuracy, train_avg_loss = train_one_epoch(\n",
    "            G,\n",
    "            F,\n",
    "            optimizer_G,\n",
    "            optimizer_F,\n",
    "            loss_fn,\n",
    "            train_dl,\n",
    "            device,\n",
    "        )\n",
    "        valid_accuracy, valid_avg_loss = evaluate(\n",
    "            G,\n",
    "            F,\n",
    "            loss_fn,\n",
    "            valid_dl,\n",
    "            device\n",
    "        )\n",
    "        logs['train_accuracy'].append(train_accuracy)\n",
    "        logs['train_loss'].append(train_avg_loss)\n",
    "        logs['valid_accuracy'].append(valid_accuracy)\n",
    "        logs['valid_loss'].append(valid_avg_loss)\n",
    "\n",
    "        print(f'epoch: {epoch + 1} train loss={train_avg_loss:.3f}, train acc={train_accuracy:.3f}, valid loss={valid_avg_loss:.3f}, valid acc={valid_accuracy:.3f}')\n",
    "    return logs\n",
    "\n",
    "\n",
    "def train_one_epoch(\n",
    "    G,\n",
    "    F,\n",
    "    optimizer_G,\n",
    "    optimizer_F,\n",
    "    loss_fn,\n",
    "    train_dl,\n",
    "    device,\n",
    "):\n",
    "    G.train()\n",
    "    F.train()\n",
    "    total_correct = 0\n",
    "    total_data = 0\n",
    "    total_loss = 0\n",
    "    def zero_grad():\n",
    "        optimizer_G.zero_grad()\n",
    "        optimizer_F.zero_grad()\n",
    "\n",
    "    for X, y in tqdm(train_dl, total=len(train_dl)):\n",
    "        zero_grad()\n",
    "        X = X.to(device)\n",
    "        y = y.to(device)\n",
    "        pred = F(G(X))\n",
    "        loss = loss_fn(pred, y)\n",
    "        loss.backward()\n",
    "        optimizer_G.step()\n",
    "        optimizer_F.step()\n",
    "\n",
    "        num_data = len(X)\n",
    "        total_data += num_data\n",
    "        total_correct += (torch.argmax(pred, dim=1) == y).sum().item()\n",
    "        total_loss += loss.item() * total_data\n",
    "    accuracy = total_correct / total_data\n",
    "    avg_loss = total_loss / total_data\n",
    "    return accuracy, avg_loss\n",
    "\n",
    "\n",
    "@torch.no_grad()\n",
    "def evaluate(G, F, loss_fn, valid_dl, device):\n",
    "    G.eval()\n",
    "    F.eval()\n",
    "    total_correct = 0\n",
    "    total_data = 0\n",
    "    total_loss = 0\n",
    "    for X, y in tqdm(valid_dl, total=len(valid_dl)):\n",
    "        X = X.to(device)\n",
    "        y = y.to(device)\n",
    "        pred = F(G(X))\n",
    "        loss = loss_fn(pred, y)\n",
    "\n",
    "        num_data = len(X)\n",
    "        total_data += num_data\n",
    "        total_correct += (torch.argmax(pred, dim=1) == y).sum().item()\n",
    "        total_loss += loss.item() * total_data\n",
    "    accuracy = total_correct / total_data\n",
    "    avg_loss = total_loss / total_data\n",
    "    return accuracy, avg_loss"
   ]
  },
  {
   "cell_type": "code",
   "execution_count": 4,
   "id": "235a261e",
   "metadata": {},
   "outputs": [
    {
     "name": "stdout",
     "output_type": "stream",
     "text": [
      "== train mnist ==\n"
     ]
    },
    {
     "name": "stderr",
     "output_type": "stream",
     "text": [
      "100%|██████████| 1500/1500 [00:13<00:00, 113.80it/s]\n",
      "100%|██████████| 375/375 [00:01<00:00, 219.17it/s]\n"
     ]
    },
    {
     "name": "stdout",
     "output_type": "stream",
     "text": [
      "epoch: 1 train loss=684.266, train acc=0.599, valid loss=93.355, valid acc=0.843\n"
     ]
    },
    {
     "name": "stderr",
     "output_type": "stream",
     "text": [
      "100%|██████████| 1500/1500 [00:16<00:00, 93.31it/s]\n",
      "100%|██████████| 375/375 [00:01<00:00, 221.62it/s]\n"
     ]
    },
    {
     "name": "stdout",
     "output_type": "stream",
     "text": [
      "epoch: 2 train loss=300.962, train acc=0.849, valid loss=40.109, valid acc=0.934\n"
     ]
    },
    {
     "name": "stderr",
     "output_type": "stream",
     "text": [
      "100%|██████████| 1500/1500 [00:16<00:00, 93.30it/s]\n",
      "100%|██████████| 375/375 [00:01<00:00, 222.27it/s]\n"
     ]
    },
    {
     "name": "stdout",
     "output_type": "stream",
     "text": [
      "epoch: 3 train loss=190.432, train acc=0.912, valid loss=24.341, valid acc=0.960\n"
     ]
    },
    {
     "name": "stderr",
     "output_type": "stream",
     "text": [
      "100%|██████████| 1500/1500 [00:16<00:00, 93.71it/s]\n",
      "100%|██████████| 375/375 [00:01<00:00, 219.98it/s]\n"
     ]
    },
    {
     "name": "stdout",
     "output_type": "stream",
     "text": [
      "epoch: 4 train loss=146.423, train acc=0.935, valid loss=21.692, valid acc=0.963\n"
     ]
    },
    {
     "name": "stderr",
     "output_type": "stream",
     "text": [
      "100%|██████████| 1500/1500 [00:16<00:00, 92.59it/s]\n",
      "100%|██████████| 375/375 [00:01<00:00, 216.69it/s]\n"
     ]
    },
    {
     "name": "stdout",
     "output_type": "stream",
     "text": [
      "epoch: 5 train loss=119.146, train acc=0.947, valid loss=18.212, valid acc=0.968\n"
     ]
    },
    {
     "name": "stderr",
     "output_type": "stream",
     "text": [
      "100%|██████████| 1500/1500 [00:16<00:00, 92.39it/s]\n",
      "100%|██████████| 375/375 [00:01<00:00, 214.88it/s]\n"
     ]
    },
    {
     "name": "stdout",
     "output_type": "stream",
     "text": [
      "epoch: 6 train loss=100.841, train acc=0.956, valid loss=14.147, valid acc=0.977\n"
     ]
    },
    {
     "name": "stderr",
     "output_type": "stream",
     "text": [
      "100%|██████████| 1500/1500 [00:16<00:00, 92.37it/s]\n",
      "100%|██████████| 375/375 [00:01<00:00, 217.57it/s]\n"
     ]
    },
    {
     "name": "stdout",
     "output_type": "stream",
     "text": [
      "epoch: 7 train loss=86.199, train acc=0.962, valid loss=13.997, valid acc=0.977\n"
     ]
    },
    {
     "name": "stderr",
     "output_type": "stream",
     "text": [
      "100%|██████████| 1500/1500 [00:16<00:00, 92.74it/s]\n",
      "100%|██████████| 375/375 [00:01<00:00, 218.03it/s]\n"
     ]
    },
    {
     "name": "stdout",
     "output_type": "stream",
     "text": [
      "epoch: 8 train loss=80.168, train acc=0.967, valid loss=13.146, valid acc=0.977\n"
     ]
    },
    {
     "name": "stderr",
     "output_type": "stream",
     "text": [
      "100%|██████████| 1500/1500 [00:16<00:00, 92.45it/s]\n",
      "100%|██████████| 375/375 [00:01<00:00, 218.22it/s]\n"
     ]
    },
    {
     "name": "stdout",
     "output_type": "stream",
     "text": [
      "epoch: 9 train loss=67.069, train acc=0.971, valid loss=11.104, valid acc=0.984\n"
     ]
    },
    {
     "name": "stderr",
     "output_type": "stream",
     "text": [
      "100%|██████████| 1500/1500 [00:16<00:00, 93.07it/s]\n",
      "100%|██████████| 375/375 [00:01<00:00, 219.59it/s]\n"
     ]
    },
    {
     "name": "stdout",
     "output_type": "stream",
     "text": [
      "epoch: 10 train loss=60.010, train acc=0.974, valid loss=14.848, valid acc=0.976\n"
     ]
    },
    {
     "data": {
      "image/png": "[encoded data removed]",
      "text/plain": [
       "<Figure size 1000x500 with 2 Axes>"
      ]
     },
     "metadata": {},
     "output_type": "display_data"
    },
    {
     "name": "stdout",
     "output_type": "stream",
     "text": [
      "==test on mnist==\n"
     ]
    },
    {
     "name": "stderr",
     "output_type": "stream",
     "text": [
      "100%|██████████| 313/313 [00:01<00:00, 208.75it/s]\n"
     ]
    },
    {
     "name": "stdout",
     "output_type": "stream",
     "text": [
      "test loss=0.974, test acc=0.974\n",
      "==test on svhm==\n",
      "Using downloaded and verified file: ./svhm/train_32x32.mat\n",
      "Using downloaded and verified file: ./svhm/test_32x32.mat\n"
     ]
    },
    {
     "name": "stderr",
     "output_type": "stream",
     "text": [
      "100%|██████████| 814/814 [00:03<00:00, 212.94it/s]"
     ]
    },
    {
     "name": "stdout",
     "output_type": "stream",
     "text": [
      "test loss=0.091, test acc=0.091\n"
     ]
    },
    {
     "name": "stderr",
     "output_type": "stream",
     "text": [
      "\n"
     ]
    }
   ],
   "source": [
    "print('== train mnist ==')\n",
    "set_seed(0)\n",
    "G, F = get_model(model_type='vit', num_feature_extractor_out=512)\n",
    "device = 'cuda' if torch.cuda.is_available() else 'cpu'\n",
    "G.to(device)\n",
    "F.to(device)\n",
    "mnist_train_dl, mnist_valid_dl, mnist_test_dl = get_mnist_dl()\n",
    "loss_fn = nn.CrossEntropyLoss()\n",
    "optimizer_G = optim.AdamW(G.parameters(), lr=LR, weight_decay=0.0005)\n",
    "optimizer_F = optim.AdamW(F.parameters(), lr=LR, weight_decay=0.0005)\n",
    "logs = train(\n",
    "    G,\n",
    "    F,\n",
    "    optimizer_G,\n",
    "    optimizer_F,\n",
    "    loss_fn,\n",
    "    epochs=EPOCHS,\n",
    "    train_dl=mnist_train_dl,\n",
    "    valid_dl=mnist_valid_dl,\n",
    "    device=device,\n",
    ")\n",
    "\n",
    "# epochごとのloss, accuracyをプロット\n",
    "fig, axes = plt.subplots(ncols=2, figsize=(10, 5))\n",
    "axes[0].plot(logs['train_accuracy'], label='train acc')\n",
    "axes[0].plot(logs['valid_accuracy'], label='valid acc')\n",
    "axes[0].set_ylabel('accuracy')\n",
    "axes[0].set_xlabel('Epochs')\n",
    "axes[0].legend()\n",
    "axes[1].plot(logs['train_loss'], label='train loss')\n",
    "axes[1].plot(logs['valid_loss'], label='valid loss')\n",
    "axes[1].set_ylabel('loss')\n",
    "axes[1].set_xlabel('Epochs')\n",
    "axes[1].legend()\n",
    "plt.show()\n",
    "\n",
    "print('==test on mnist==')\n",
    "test_accuracy, test_avg_loss = evaluate(\n",
    "    G,\n",
    "    F,\n",
    "    loss_fn,\n",
    "    mnist_test_dl,\n",
    "    device,\n",
    ")\n",
    "print(f'test loss={test_accuracy:.3f}, test acc={test_accuracy:.3f}')\n",
    "\n",
    "print('==test on svhm==')\n",
    "svhm_train_dl, svhm_valid_dl, svhm_test_dl = get_svhm_dl()\n",
    "test_accuracy, test_avg_loss = evaluate(\n",
    "    G,\n",
    "    F,\n",
    "    loss_fn,\n",
    "    svhm_test_dl,\n",
    "    device,\n",
    ")\n",
    "print(f'test loss={test_accuracy:.3f}, test acc={test_accuracy:.3f}')"
   ]
  },
  {
   "cell_type": "code",
   "execution_count": 5,
   "id": "a4833a91",
   "metadata": {},
   "outputs": [
    {
     "name": "stdout",
     "output_type": "stream",
     "text": [
      "== train svhm ==\n",
      "Using downloaded and verified file: ./svhm/train_32x32.mat\n",
      "Using downloaded and verified file: ./svhm/test_32x32.mat\n"
     ]
    },
    {
     "name": "stderr",
     "output_type": "stream",
     "text": [
      "100%|██████████| 1832/1832 [00:19<00:00, 92.04it/s]\n",
      "100%|██████████| 458/458 [00:02<00:00, 220.73it/s]\n"
     ]
    },
    {
     "name": "stdout",
     "output_type": "stream",
     "text": [
      "epoch: 1 train loss=1889.429, train acc=0.232, valid loss=394.028, valid acc=0.387\n"
     ]
    },
    {
     "name": "stderr",
     "output_type": "stream",
     "text": [
      "100%|██████████| 1832/1832 [00:19<00:00, 93.05it/s]\n",
      "100%|██████████| 458/458 [00:02<00:00, 220.61it/s]\n"
     ]
    },
    {
     "name": "stdout",
     "output_type": "stream",
     "text": [
      "epoch: 2 train loss=1407.229, train acc=0.446, valid loss=297.498, valid acc=0.558\n"
     ]
    },
    {
     "name": "stderr",
     "output_type": "stream",
     "text": [
      "100%|██████████| 1832/1832 [00:19<00:00, 91.61it/s]\n",
      "100%|██████████| 458/458 [00:02<00:00, 216.78it/s]\n"
     ]
    },
    {
     "name": "stdout",
     "output_type": "stream",
     "text": [
      "epoch: 3 train loss=1174.001, train acc=0.546, valid loss=237.177, valid acc=0.660\n"
     ]
    },
    {
     "name": "stderr",
     "output_type": "stream",
     "text": [
      "100%|██████████| 1832/1832 [00:19<00:00, 92.42it/s]\n",
      "100%|██████████| 458/458 [00:02<00:00, 219.08it/s]\n"
     ]
    },
    {
     "name": "stdout",
     "output_type": "stream",
     "text": [
      "epoch: 4 train loss=971.800, train acc=0.634, valid loss=190.567, valid acc=0.726\n"
     ]
    },
    {
     "name": "stderr",
     "output_type": "stream",
     "text": [
      "100%|██████████| 1832/1832 [00:19<00:00, 91.73it/s]\n",
      "100%|██████████| 458/458 [00:02<00:00, 213.29it/s]\n"
     ]
    },
    {
     "name": "stdout",
     "output_type": "stream",
     "text": [
      "epoch: 5 train loss=839.186, train acc=0.690, valid loss=183.050, valid acc=0.739\n"
     ]
    },
    {
     "name": "stderr",
     "output_type": "stream",
     "text": [
      "100%|██████████| 1832/1832 [00:19<00:00, 91.71it/s]\n",
      "100%|██████████| 458/458 [00:02<00:00, 216.62it/s]\n"
     ]
    },
    {
     "name": "stdout",
     "output_type": "stream",
     "text": [
      "epoch: 6 train loss=747.399, train acc=0.728, valid loss=160.355, valid acc=0.778\n"
     ]
    },
    {
     "name": "stderr",
     "output_type": "stream",
     "text": [
      "100%|██████████| 1832/1832 [00:19<00:00, 92.43it/s]\n",
      "100%|██████████| 458/458 [00:02<00:00, 211.69it/s]\n"
     ]
    },
    {
     "name": "stdout",
     "output_type": "stream",
     "text": [
      "epoch: 7 train loss=679.813, train acc=0.752, valid loss=146.403, valid acc=0.793\n"
     ]
    },
    {
     "name": "stderr",
     "output_type": "stream",
     "text": [
      "100%|██████████| 1832/1832 [00:20<00:00, 91.15it/s]\n",
      "100%|██████████| 458/458 [00:02<00:00, 215.81it/s]\n"
     ]
    },
    {
     "name": "stdout",
     "output_type": "stream",
     "text": [
      "epoch: 8 train loss=631.198, train acc=0.775, valid loss=141.236, valid acc=0.804\n"
     ]
    },
    {
     "name": "stderr",
     "output_type": "stream",
     "text": [
      "100%|██████████| 1832/1832 [00:19<00:00, 92.98it/s]\n",
      "100%|██████████| 458/458 [00:02<00:00, 219.23it/s]\n"
     ]
    },
    {
     "name": "stdout",
     "output_type": "stream",
     "text": [
      "epoch: 9 train loss=580.274, train acc=0.791, valid loss=119.646, valid acc=0.832\n"
     ]
    },
    {
     "name": "stderr",
     "output_type": "stream",
     "text": [
      "100%|██████████| 1832/1832 [00:19<00:00, 92.62it/s]\n",
      "100%|██████████| 458/458 [00:02<00:00, 217.99it/s]\n"
     ]
    },
    {
     "name": "stdout",
     "output_type": "stream",
     "text": [
      "epoch: 10 train loss=537.061, train acc=0.806, valid loss=116.717, valid acc=0.838\n"
     ]
    },
    {
     "data": {
      "image/png": "[encoded data removed]",
      "text/plain": [
       "<Figure size 1000x500 with 2 Axes>"
      ]
     },
     "metadata": {},
     "output_type": "display_data"
    },
    {
     "name": "stdout",
     "output_type": "stream",
     "text": [
      "==test on svhm==\n"
     ]
    },
    {
     "name": "stderr",
     "output_type": "stream",
     "text": [
      "100%|██████████| 814/814 [00:03<00:00, 222.38it/s]\n"
     ]
    },
    {
     "name": "stdout",
     "output_type": "stream",
     "text": [
      "test loss=0.850, test acc=0.850\n",
      "==test on mnist==\n"
     ]
    },
    {
     "name": "stderr",
     "output_type": "stream",
     "text": [
      "100%|██████████| 313/313 [00:01<00:00, 210.58it/s]"
     ]
    },
    {
     "name": "stdout",
     "output_type": "stream",
     "text": [
      "test loss=0.365, test acc=0.365\n"
     ]
    },
    {
     "name": "stderr",
     "output_type": "stream",
     "text": [
      "\n"
     ]
    }
   ],
   "source": [
    "print('== train svhm ==')\n",
    "set_seed(0)\n",
    "G, F = get_model(model_type='vit', num_feature_extractor_out=512)\n",
    "device = 'cuda' if torch.cuda.is_available() else 'cpu'\n",
    "G.to(device)\n",
    "F.to(device)\n",
    "mnist_train_dl, mnist_valid_dl, mnist_test_dl = get_svhm_dl()\n",
    "loss_fn = nn.CrossEntropyLoss()\n",
    "optimizer_G = optim.AdamW(G.parameters(), lr=LR, weight_decay=0.0005)\n",
    "optimizer_F = optim.AdamW(F.parameters(), lr=LR, weight_decay=0.0005)\n",
    "logs = train(\n",
    "    G,\n",
    "    F,\n",
    "    optimizer_G,\n",
    "    optimizer_F,\n",
    "    loss_fn,\n",
    "    epochs=EPOCHS,\n",
    "    train_dl=mnist_train_dl,\n",
    "    valid_dl=mnist_valid_dl,\n",
    "    device=device,\n",
    ")\n",
    "\n",
    "# epochごとのloss, accuracyをプロット\n",
    "fig, axes = plt.subplots(ncols=2, figsize=(10, 5))\n",
    "axes[0].plot(logs['train_accuracy'], label='train acc')\n",
    "axes[0].plot(logs['valid_accuracy'], label='valid acc')\n",
    "axes[0].set_ylabel('accuracy')\n",
    "axes[0].set_xlabel('Epochs')\n",
    "axes[0].legend()\n",
    "axes[1].plot(logs['train_loss'], label='train loss')\n",
    "axes[1].plot(logs['valid_loss'], label='valid loss')\n",
    "axes[1].set_ylabel('loss')\n",
    "axes[1].set_xlabel('Epochs')\n",
    "axes[1].legend()\n",
    "plt.show()\n",
    "\n",
    "print('==test on svhm==')\n",
    "test_accuracy, test_avg_loss = evaluate(\n",
    "    G,\n",
    "    F,\n",
    "    loss_fn,\n",
    "    mnist_test_dl,\n",
    "    device,\n",
    ")\n",
    "print(f'test loss={test_accuracy:.3f}, test acc={test_accuracy:.3f}')\n",
    "\n",
    "print('==test on mnist==')\n",
    "svhm_train_dl, svhm_valid_dl, svhm_test_dl = get_mnist_dl()\n",
    "test_accuracy, test_avg_loss = evaluate(\n",
    "    G,\n",
    "    F,\n",
    "    loss_fn,\n",
    "    svhm_test_dl,\n",
    "    device,\n",
    ")\n",
    "print(f'test loss={test_accuracy:.3f}, test acc={test_accuracy:.3f}')"
   ]
  },
  {
   "cell_type": "code",
   "execution_count": null,
   "id": "5accc184",
   "metadata": {},
   "outputs": [],
   "source": []
  }
 ],
 "metadata": {
  "kernelspec": {
   "display_name": "venv",
   "language": "python",
   "name": "python3"
  },
  "language_info": {
   "codemirror_mode": {
    "name": "ipython",
    "version": 3
   },
   "file_extension": ".py",
   "mimetype": "text/x-python",
   "name": "python",
   "nbconvert_exporter": "python",
   "pygments_lexer": "ipython3",
   "version": "3.10.12"
  }
 },
 "nbformat": 4,
 "nbformat_minor": 5
}
