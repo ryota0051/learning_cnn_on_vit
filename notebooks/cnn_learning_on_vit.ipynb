{
 "cells": [
  {
   "cell_type": "code",
   "execution_count": 1,
   "metadata": {},
   "outputs": [],
   "source": [
    "import torch\n",
    "import torch.nn as nn\n",
    "import torch.nn.functional as F\n",
    "import matplotlib.pyplot as plt\n",
    "from torch.utils.data import DataLoader, random_split\n",
    "from torch import optim\n",
    "from torchvision.datasets import SVHN, MNIST\n",
    "from tqdm import tqdm\n",
    "\n",
    "from src.data_utils import (\n",
    "    TransformDataset,\n",
    "    SrcDataset,\n",
    "    DstDataset,\n",
    "    get_train_weak_transform,\n",
    "    get_train_strong_transform,\n",
    "    get_test_transform,\n",
    ")\n",
    "from src.models import get_model\n",
    "from src.reproducibility import set_seed\n",
    "from src.loss import consistency_loss"
   ]
  },
  {
   "cell_type": "code",
   "execution_count": 2,
   "metadata": {},
   "outputs": [],
   "source": [
    "# 入力画像サイズ\n",
    "INPUT_SIZE = 32\n",
    "\n",
    "# learning rate\n",
    "# VIT_LR = 5e-5\n",
    "# CNN_LR = 0.01\n",
    "VIT_LR = 0.001\n",
    "CNN_LR = 0.01\n",
    "\n",
    "\n",
    "# Co training時の閾値\n",
    "TH_CNN = 0.9\n",
    "TH_VIT = 0.6\n",
    "\n",
    "# 検証のステップ数\n",
    "TEST_INTERVAL = 500\n",
    "\n",
    "# 総ステップ数\n",
    "ADAPT_ITERS = 5000\n",
    "\n",
    "# Normalize時のmean, std\n",
    "NORMALIZE_MEAN = 0.5\n",
    "NORMALIZE_STD = 0.5"
   ]
  },
  {
   "cell_type": "code",
   "execution_count": 3,
   "metadata": {},
   "outputs": [],
   "source": [
    "def get_source_dl(batch_size=32):\n",
    "    weak_trans = get_train_weak_transform()\n",
    "    test_trans = get_test_transform()\n",
    "    train_mnist = MNIST(\n",
    "        root='./mnist/',\n",
    "        train=True,\n",
    "        download=True,\n",
    "    )\n",
    "    test_mnist = MNIST(\n",
    "        root='./mnist/',\n",
    "        train=False,\n",
    "        download=True,\n",
    "        transform=test_trans\n",
    "    )\n",
    "    split_generator = torch.Generator().manual_seed(2024)\n",
    "    train_mnist, valid_mnist = random_split(train_mnist, [0.8, 0.2], split_generator)\n",
    "    train_mnist = SrcDataset(\n",
    "        train_mnist,\n",
    "        weak_trans,\n",
    "    )\n",
    "    valid_mnist = TransformDataset(\n",
    "        valid_mnist,\n",
    "        test_trans\n",
    "    )\n",
    "    dl_generator = torch.Generator().manual_seed(2024)\n",
    "    src_train_dl = DataLoader(\n",
    "        train_mnist,\n",
    "        batch_size=batch_size,\n",
    "        shuffle=True,\n",
    "        num_workers=2,\n",
    "        generator=dl_generator,\n",
    "        drop_last=True,\n",
    "    )\n",
    "    src_valid_dl = DataLoader(\n",
    "        valid_mnist,\n",
    "        batch_size=batch_size,\n",
    "        shuffle=False,\n",
    "        num_workers=2,\n",
    "    )\n",
    "    src_test_dl = DataLoader(\n",
    "        test_mnist,\n",
    "        batch_size=batch_size,\n",
    "        shuffle=False,\n",
    "        num_workers=2,\n",
    "    )\n",
    "    return src_train_dl, src_valid_dl, src_test_dl\n",
    "\n",
    "\n",
    "def get_target_dl(batch_size=32):\n",
    "    weak_trans, strong_trans = get_train_weak_transform(), get_train_strong_transform(v=8)\n",
    "    test_trans = get_test_transform()\n",
    "    train_svhm = SVHN(\n",
    "        root='./svhm/',\n",
    "        split='train',\n",
    "        download=True,\n",
    "    )\n",
    "    test_svhm = SVHN(\n",
    "        root='./svhm/',\n",
    "        split='test',\n",
    "        download=True,\n",
    "        transform=test_trans,\n",
    "    )\n",
    "    split_generator = torch.Generator().manual_seed(2024)\n",
    "    train_svhm, valid_svhm = random_split(train_svhm, [0.8, 0.2], split_generator)\n",
    "    train_svhm = DstDataset(\n",
    "        train_svhm,\n",
    "        weak_trans,\n",
    "        strong_trans,\n",
    "    )\n",
    "    valid_svhm = TransformDataset(\n",
    "        valid_svhm,\n",
    "        test_trans,\n",
    "    )\n",
    "    dl_generator = torch.Generator().manual_seed(2024)\n",
    "    dst_train_dl = DataLoader(\n",
    "        train_svhm,\n",
    "        batch_size=batch_size,\n",
    "        shuffle=True,\n",
    "        num_workers=2,\n",
    "        generator=dl_generator,\n",
    "        drop_last=True\n",
    "    )\n",
    "    dst_valid_dl = DataLoader(\n",
    "        valid_svhm,\n",
    "        batch_size=batch_size,\n",
    "        shuffle=False,\n",
    "        num_workers=2,\n",
    "    )\n",
    "    dst_test_dl = DataLoader(\n",
    "        test_svhm,\n",
    "        batch_size=batch_size,\n",
    "        shuffle=False,\n",
    "        num_workers=2,\n",
    "    )\n",
    "    return dst_train_dl, dst_valid_dl, dst_test_dl"
   ]
  },
  {
   "cell_type": "code",
   "execution_count": 4,
   "metadata": {},
   "outputs": [
    {
     "name": "stdout",
     "output_type": "stream",
     "text": [
      "Using downloaded and verified file: ./svhm/train_32x32.mat\n",
      "Using downloaded and verified file: ./svhm/test_32x32.mat\n"
     ]
    }
   ],
   "source": [
    "src_train_dl, src_valid_dl, src_test_dl = get_source_dl()\n",
    "dst_train_dl, dst_valid_dl, dst_test_dl = get_target_dl()"
   ]
  },
  {
   "cell_type": "code",
   "execution_count": 5,
   "metadata": {},
   "outputs": [
    {
     "data": {
      "image/png": "[encoded data removed]",
      "text/plain": [
       "<Figure size 500x500 with 1 Axes>"
      ]
     },
     "metadata": {},
     "output_type": "display_data"
    }
   ],
   "source": [
    "set_seed()\n",
    "src_X_weak, src_y = next(iter(src_train_dl))\n",
    "fig, ax = plt.subplots(figsize=(5, 5))\n",
    "mean_tensor = torch.tensor(NORMALIZE_MEAN).unsqueeze(0).unsqueeze(0)\n",
    "std_tensor = torch.tensor(NORMALIZE_STD).unsqueeze(0).unsqueeze(0)\n",
    "idx = 0\n",
    "ax.imshow(\n",
    "    src_X_weak.permute(0, 2, 3, 1)[idx] * std_tensor +  mean_tensor\n",
    ")\n",
    "plt.show()"
   ]
  },
  {
   "cell_type": "code",
   "execution_count": 5,
   "metadata": {},
   "outputs": [
    {
     "data": {
      "image/png": "[encoded data removed]",
      "text/plain": [
       "<Figure size 1000x500 with 2 Axes>"
      ]
     },
     "metadata": {},
     "output_type": "display_data"
    }
   ],
   "source": [
    "set_seed()\n",
    "dst_X_weak, dst_X_strong = next(iter(dst_train_dl))\n",
    "fig, axes = plt.subplots(ncols=2, figsize=(10, 5))\n",
    "mean_tensor = torch.tensor(NORMALIZE_MEAN).unsqueeze(0).unsqueeze(0)\n",
    "std_tensor = torch.tensor(NORMALIZE_STD).unsqueeze(0).unsqueeze(0)\n",
    "idx = 30\n",
    "axes[0].imshow(\n",
    "    dst_X_weak.permute(0, 2, 3, 1)[idx] * std_tensor +  mean_tensor\n",
    ")\n",
    "axes[1].imshow(\n",
    "    dst_X_strong.permute(0, 2, 3, 1)[idx] * std_tensor +  mean_tensor\n",
    ")\n",
    "plt.show()"
   ]
  },
  {
   "cell_type": "code",
   "execution_count": 5,
   "metadata": {},
   "outputs": [],
   "source": [
    "def get_cnn_and_vit_model():\n",
    "    G1, F1 = get_model(model_type='vit', num_feature_extractor_out=512)\n",
    "    G2, F2 = get_model(model_type='cnn', num_feature_extractor_out=512)\n",
    "    return (G1, F1, G2, F2)\n",
    "\n",
    "\n",
    "def inv_lr_scheduler(param_lr, optimizer, iter_num, gamma=0.0001,\n",
    "                     power=0.75, init_lr=0.001):\n",
    "    \"\"\"Decay learning rate by a factor of 0.1 every lr_decay_epoch epochs.\"\"\"\n",
    "    lr = init_lr * (1 + gamma * iter_num) ** (- power)\n",
    "    i = 0\n",
    "    for param_group in optimizer.param_groups:\n",
    "        param_group['lr'] = lr * param_lr[i]\n",
    "        i += 1\n",
    "    return optimizer\n",
    "\n",
    "\n",
    "def train(\n",
    "    G1,\n",
    "    F1,\n",
    "    G2,\n",
    "    F2,\n",
    "    optimizer_g1,\n",
    "    optimizer_f1,\n",
    "    optimizer_g2,\n",
    "    optimizer_f2,\n",
    "    src_train_dl,\n",
    "    src_valid_dl,\n",
    "    dst_train_dl,\n",
    "    dst_valid_dl,\n",
    "    adapt_iter,\n",
    "    device='cuda' if torch.cuda.is_available() else 'cpu'\n",
    "):\n",
    "    ce_criterion = nn.CrossEntropyLoss()\n",
    "    def zero_grad_all():\n",
    "        optimizer_g1.zero_grad()\n",
    "        optimizer_f1.zero_grad()\n",
    "        optimizer_g2.zero_grad()\n",
    "        optimizer_f2.zero_grad()\n",
    "\n",
    "    len_src_dl = len(src_train_dl)\n",
    "    len_dst_dl = len(dst_train_dl)\n",
    "\n",
    "    param_lr_g1 = []\n",
    "    for param_group in optimizer_g1.param_groups:\n",
    "        param_lr_g1.append(param_group[\"lr\"])\n",
    "    param_lr_g2 = []\n",
    "    for param_group in optimizer_g2.param_groups:\n",
    "        param_lr_g2.append(param_group[\"lr\"])\n",
    "    param_lr_f1 = []\n",
    "    for param_group in optimizer_f1.param_groups:\n",
    "        param_lr_f1.append(param_group[\"lr\"])\n",
    "    param_lr_f2 = []\n",
    "    for param_group in optimizer_f2.param_groups:\n",
    "        param_lr_f2.append(param_group[\"lr\"])\n",
    "    for step in range(adapt_iter):\n",
    "        optimizer_g1 = inv_lr_scheduler(\n",
    "            param_lr_g1, optimizer_g1, step, init_lr=VIT_LR\n",
    "        )\n",
    "        optimizer_g2 = inv_lr_scheduler(\n",
    "            param_lr_g2, optimizer_g2, step, init_lr=CNN_LR\n",
    "        )\n",
    "        optimizer_f1 = inv_lr_scheduler(param_lr_f1, optimizer_f1, step, init_lr=CNN_LR)\n",
    "        optimizer_f2 = inv_lr_scheduler(param_lr_f2, optimizer_f2, step, init_lr=CNN_LR)\n",
    "\n",
    "        G1.train()\n",
    "        F1.train()\n",
    "        G2.train()\n",
    "        F2.train()\n",
    "        if step % len_src_dl == 0:\n",
    "            iter_src = iter(src_train_dl)\n",
    "        if step % len_dst_dl == 0:\n",
    "            iter_dst = iter(dst_train_dl)\n",
    "        # データ準備\n",
    "        src_X_weak, src_y = next(iter_src)\n",
    "        dst_X_weak, dst_X_strong = next(iter_dst)\n",
    "        src_X_weak = src_X_weak.to(device)\n",
    "        src_y = src_y.to(device)\n",
    "        dst_X_weak = dst_X_weak.to(device)\n",
    "        dst_X_strong = dst_X_strong.to(device)\n",
    "\n",
    "        labeled_targetw_tuple = [src_X_weak]\n",
    "        labeled_gt = [src_y]\n",
    "        nl = src_X_weak.size(0)\n",
    "\n",
    "        labeled_targetw_input = torch.cat(\n",
    "            labeled_targetw_tuple + [dst_X_weak],\n",
    "            0\n",
    "        )\n",
    "        labeled_targetstr_input = torch.cat(\n",
    "            labeled_targetw_tuple + [dst_X_strong],\n",
    "            0\n",
    "        )\n",
    "        unlabeled_target_input = torch.cat(\n",
    "            (dst_X_weak, dst_X_strong),\n",
    "            0\n",
    "        )\n",
    "        labeled_input = torch.cat(labeled_targetw_tuple, 0)\n",
    "        labeled_gt = torch.cat(labeled_gt, 0)\n",
    "\n",
    "        zero_grad_all()\n",
    "        # == 1. 教師あり学習実施 ==\n",
    "        # 1.1 ViT\n",
    "        vit_logits = F1(G1(labeled_input))\n",
    "        vit_loss = ce_criterion(vit_logits, labeled_gt)\n",
    "\n",
    "        vit_loss.backward()\n",
    "        optimizer_g1.step()\n",
    "        optimizer_f1.step()\n",
    "        zero_grad_all()\n",
    "        # 1.2 CNN\n",
    "        cnn_logits = F2(G2(labeled_targetw_input))\n",
    "        cnn_loss = ce_criterion(cnn_logits[:nl], labeled_gt)\n",
    "\n",
    "        cnn_loss.backward()\n",
    "        optimizer_g2.step()\n",
    "        optimizer_f2.step()\n",
    "        zero_grad_all()\n",
    "\n",
    "        # 2. MCD\n",
    "        # 2.1 Finding\n",
    "        output_f1 = F1(G1(labeled_input))\n",
    "        output_f2 = F2(G2(labeled_targetw_input))\n",
    "        loss_f1 = ce_criterion(output_f1, labeled_gt)\n",
    "        loss_f2 = ce_criterion(output_f2[:nl], labeled_gt)\n",
    "\n",
    "        loss_s = loss_f1 + loss_f2\n",
    "\n",
    "        vit_features_t = G1(unlabeled_target_input)\n",
    "        output_t1 = F1(vit_features_t)\n",
    "        output_t2 = F2(vit_features_t)\n",
    "        loss_dis = torch.mean(\n",
    "            torch.abs(\n",
    "                F.softmax(output_t1, dim=1) - F.softmax(output_t2, dim=1)\n",
    "            )\n",
    "        )\n",
    "        loss = loss_s - loss_dis\n",
    "        loss.backward()\n",
    "        optimizer_f1.step()\n",
    "        optimizer_f2.step()\n",
    "        zero_grad_all()\n",
    "\n",
    "        # 2. Conquering\n",
    "        for _ in range(4):\n",
    "            feat_t = G2(unlabeled_target_input)\n",
    "            output_t1 = F1(feat_t)\n",
    "            output_t2 = F2(feat_t)\n",
    "            loss_dis = torch.mean(\n",
    "                torch.abs(\n",
    "                    F.softmax(output_t1, dim=1) - F.softmax(output_t2, dim=1)\n",
    "                )\n",
    "            )\n",
    "            loss_dis.backward()\n",
    "            optimizer_g2.step()\n",
    "            zero_grad_all()\n",
    "\n",
    "        # 3. co training\n",
    "        # 3.1 ViT -> CNN\n",
    "        vit_logits = F1(G1(dst_X_weak))\n",
    "        logits_u_s = F2(G2(labeled_targetstr_input))\n",
    "        loss_vit_to_cnn = consistency_loss(\n",
    "            logits_u_s[nl:], vit_logits, threshold=TH_VIT\n",
    "        )\n",
    "        loss_vit_to_cnn.backward()\n",
    "        optimizer_g2.step()\n",
    "        optimizer_f2.step()\n",
    "        zero_grad_all()\n",
    "\n",
    "        # # 3.2 CNN -> ViT\n",
    "        logits_u_s = F1(G1(dst_X_strong))\n",
    "        cnn_logits = F2(G2(labeled_targetw_input))\n",
    "        loss_cnn_to_vit = consistency_loss(\n",
    "            logits_u_s, cnn_logits[nl:], threshold=TH_CNN\n",
    "        )\n",
    "        loss_cnn_to_vit.backward()\n",
    "        optimizer_g1.step()\n",
    "        optimizer_f1.step()\n",
    "        zero_grad_all()\n",
    "\n",
    "        if step % 20 == 0 or step == adapt_iter -1:\n",
    "            print(\n",
    "                (\n",
    "                    f'{step} / {adapt_iter} '\n",
    "                    f'CNN loss={cnn_loss.item():.6f} ViT Loss={vit_loss.item():.6f} '\n",
    "                    f'loss_vit_to_cnn={loss_vit_to_cnn.item():.6f} loss_cnn_to_vit={loss_cnn_to_vit.item():.6f}'\n",
    "                )\n",
    "            )\n",
    "\n",
    "        if step % TEST_INTERVAL == 0 and step != 0:\n",
    "            vit_src_acc, vit_src_loss = evaluate(\n",
    "                G1,\n",
    "                F1,\n",
    "                ce_criterion,\n",
    "                src_valid_dl,\n",
    "                device,\n",
    "            )\n",
    "            cnn_src_acc, cnn_src_loss = evaluate(\n",
    "                G2,\n",
    "                F2,\n",
    "                ce_criterion,\n",
    "                src_valid_dl,\n",
    "                device,\n",
    "            )\n",
    "            print('=== src ===')\n",
    "            print(\n",
    "                (\n",
    "                    f'{step} / {adapt_iter} '\n",
    "                    f'ViT acc={vit_src_acc:.6f} ViT Loss={vit_src_loss:.6f} '\n",
    "                    f'CNN acc={cnn_src_acc:.6f} CNN Loss={cnn_src_loss:.6f}'\n",
    "                )\n",
    "            )\n",
    "            vit_dst_acc, vit_dst_loss = evaluate(\n",
    "                G1,\n",
    "                F1,\n",
    "                ce_criterion,\n",
    "                dst_valid_dl,\n",
    "                device,\n",
    "            )\n",
    "            cnn_dst_acc, cnn_dst_loss = evaluate(\n",
    "                G2,\n",
    "                F2,\n",
    "                ce_criterion,\n",
    "                dst_valid_dl,\n",
    "                device,\n",
    "            )\n",
    "            print('=== dst ===')\n",
    "            print(\n",
    "                (\n",
    "                    f'{step} / {adapt_iter} '\n",
    "                    f'ViT acc={vit_dst_acc:.6f} ViT Loss={vit_dst_loss:.6f} '\n",
    "                    f'CNN acc={cnn_dst_acc:.6f} CNN Loss={cnn_dst_loss:.6f}'\n",
    "                )\n",
    "            )\n",
    "\n",
    "\n",
    "@torch.no_grad()\n",
    "def evaluate(G, F, loss_fn, valid_dl, device):\n",
    "    G.eval()\n",
    "    F.eval()\n",
    "    total_correct = 0\n",
    "    total_data = 0\n",
    "    total_loss = 0\n",
    "    for X, y in tqdm(valid_dl, total=len(valid_dl)):\n",
    "        X = X.to(device)\n",
    "        y = y.to(device)\n",
    "        pred = F(G(X))\n",
    "        loss = loss_fn(pred, y)\n",
    "\n",
    "        num_data = len(X)\n",
    "        total_data += num_data\n",
    "        total_correct += (torch.argmax(pred, dim=1) == y).sum().item()\n",
    "        total_loss += loss.item() * total_data\n",
    "    accuracy = total_correct / total_data\n",
    "    avg_loss = total_loss / total_data\n",
    "    return accuracy, avg_loss"
   ]
  },
  {
   "cell_type": "code",
   "execution_count": 6,
   "metadata": {},
   "outputs": [
    {
     "name": "stdout",
     "output_type": "stream",
     "text": [
      "Using downloaded and verified file: ./svhm/train_32x32.mat\n",
      "Using downloaded and verified file: ./svhm/test_32x32.mat\n",
      "0 / 5000 CNN loss=2.532627 ViT Loss=2.393779 loss_vit_to_cnn=0.487990 loss_cnn_to_vit=0.000000\n",
      "20 / 5000 CNN loss=0.820890 ViT Loss=2.985768 loss_vit_to_cnn=0.107067 loss_cnn_to_vit=0.000000\n",
      "40 / 5000 CNN loss=0.470867 ViT Loss=3.339298 loss_vit_to_cnn=0.091884 loss_cnn_to_vit=0.042747\n",
      "60 / 5000 CNN loss=0.466893 ViT Loss=2.344454 loss_vit_to_cnn=0.083983 loss_cnn_to_vit=0.010348\n",
      "80 / 5000 CNN loss=0.294526 ViT Loss=2.559297 loss_vit_to_cnn=0.226372 loss_cnn_to_vit=0.035942\n",
      "100 / 5000 CNN loss=0.135727 ViT Loss=2.647902 loss_vit_to_cnn=0.162419 loss_cnn_to_vit=0.006132\n",
      "120 / 5000 CNN loss=0.333949 ViT Loss=2.028172 loss_vit_to_cnn=0.244169 loss_cnn_to_vit=0.438521\n",
      "140 / 5000 CNN loss=0.269805 ViT Loss=1.965617 loss_vit_to_cnn=0.050926 loss_cnn_to_vit=0.003454\n",
      "160 / 5000 CNN loss=0.103774 ViT Loss=2.466851 loss_vit_to_cnn=0.022243 loss_cnn_to_vit=0.000245\n",
      "180 / 5000 CNN loss=0.291900 ViT Loss=2.093439 loss_vit_to_cnn=0.016543 loss_cnn_to_vit=0.074078\n",
      "200 / 5000 CNN loss=0.084474 ViT Loss=1.815666 loss_vit_to_cnn=0.014411 loss_cnn_to_vit=0.000001\n",
      "220 / 5000 CNN loss=0.054352 ViT Loss=1.748941 loss_vit_to_cnn=0.011230 loss_cnn_to_vit=0.000001\n",
      "240 / 5000 CNN loss=0.081603 ViT Loss=1.572686 loss_vit_to_cnn=0.010396 loss_cnn_to_vit=0.000006\n",
      "260 / 5000 CNN loss=0.271446 ViT Loss=2.396314 loss_vit_to_cnn=0.010655 loss_cnn_to_vit=0.000000\n",
      "280 / 5000 CNN loss=0.199712 ViT Loss=1.866017 loss_vit_to_cnn=0.220186 loss_cnn_to_vit=0.000029\n",
      "300 / 5000 CNN loss=0.237174 ViT Loss=2.047003 loss_vit_to_cnn=0.011253 loss_cnn_to_vit=0.000000\n",
      "320 / 5000 CNN loss=0.035720 ViT Loss=1.692276 loss_vit_to_cnn=0.010324 loss_cnn_to_vit=0.000087\n",
      "340 / 5000 CNN loss=0.464983 ViT Loss=1.461460 loss_vit_to_cnn=0.008325 loss_cnn_to_vit=0.000004\n",
      "360 / 5000 CNN loss=0.093786 ViT Loss=1.768385 loss_vit_to_cnn=0.015545 loss_cnn_to_vit=0.000001\n",
      "380 / 5000 CNN loss=0.100525 ViT Loss=1.561971 loss_vit_to_cnn=0.027655 loss_cnn_to_vit=0.000000\n",
      "400 / 5000 CNN loss=0.102785 ViT Loss=1.236891 loss_vit_to_cnn=0.198145 loss_cnn_to_vit=0.000012\n",
      "420 / 5000 CNN loss=0.111577 ViT Loss=1.848779 loss_vit_to_cnn=0.233369 loss_cnn_to_vit=0.000000\n",
      "440 / 5000 CNN loss=0.084329 ViT Loss=1.689746 loss_vit_to_cnn=0.238375 loss_cnn_to_vit=0.000000\n",
      "460 / 5000 CNN loss=0.185448 ViT Loss=2.019691 loss_vit_to_cnn=0.033867 loss_cnn_to_vit=0.000021\n",
      "480 / 5000 CNN loss=0.090983 ViT Loss=1.209443 loss_vit_to_cnn=0.226265 loss_cnn_to_vit=0.000000\n",
      "500 / 5000 CNN loss=0.182144 ViT Loss=1.370903 loss_vit_to_cnn=0.401111 loss_cnn_to_vit=0.000003\n"
     ]
    },
    {
     "name": "stderr",
     "output_type": "stream",
     "text": [
      "100%|██████████| 375/375 [00:01<00:00, 334.18it/s]\n",
      "100%|██████████| 375/375 [00:00<00:00, 415.90it/s]\n"
     ]
    },
    {
     "name": "stdout",
     "output_type": "stream",
     "text": [
      "=== src ===\n",
      "500 / 5000 ViT acc=0.463500 ViT Loss=261.675970 CNN acc=0.932750 CNN Loss=47.160396\n"
     ]
    },
    {
     "name": "stderr",
     "output_type": "stream",
     "text": [
      "100%|██████████| 458/458 [00:01<00:00, 345.94it/s]\n",
      "100%|██████████| 458/458 [00:01<00:00, 425.30it/s]\n"
     ]
    },
    {
     "name": "stdout",
     "output_type": "stream",
     "text": [
      "=== dst ===\n",
      "500 / 5000 ViT acc=0.176711 ViT Loss=5180.042646 CNN acc=0.191728 CNN Loss=1150.256027\n",
      "520 / 5000 CNN loss=0.064220 ViT Loss=1.179096 loss_vit_to_cnn=0.436534 loss_cnn_to_vit=0.000000\n",
      "540 / 5000 CNN loss=0.305550 ViT Loss=1.870894 loss_vit_to_cnn=0.595047 loss_cnn_to_vit=0.000002\n",
      "560 / 5000 CNN loss=0.400372 ViT Loss=1.699134 loss_vit_to_cnn=0.017815 loss_cnn_to_vit=0.000000\n",
      "580 / 5000 CNN loss=0.250086 ViT Loss=1.291573 loss_vit_to_cnn=0.011052 loss_cnn_to_vit=0.000000\n",
      "600 / 5000 CNN loss=0.047109 ViT Loss=1.236238 loss_vit_to_cnn=0.009348 loss_cnn_to_vit=0.000000\n",
      "620 / 5000 CNN loss=0.046350 ViT Loss=1.146424 loss_vit_to_cnn=0.026204 loss_cnn_to_vit=0.000000\n",
      "640 / 5000 CNN loss=0.259222 ViT Loss=2.054602 loss_vit_to_cnn=0.036482 loss_cnn_to_vit=0.000557\n",
      "660 / 5000 CNN loss=0.200142 ViT Loss=1.499594 loss_vit_to_cnn=0.166821 loss_cnn_to_vit=0.000000\n",
      "680 / 5000 CNN loss=0.105167 ViT Loss=1.997890 loss_vit_to_cnn=0.170686 loss_cnn_to_vit=0.000000\n",
      "700 / 5000 CNN loss=0.252112 ViT Loss=1.342254 loss_vit_to_cnn=0.558801 loss_cnn_to_vit=0.000000\n",
      "720 / 5000 CNN loss=0.253923 ViT Loss=1.666722 loss_vit_to_cnn=0.200073 loss_cnn_to_vit=0.000000\n",
      "740 / 5000 CNN loss=0.176348 ViT Loss=1.330995 loss_vit_to_cnn=0.301733 loss_cnn_to_vit=0.000000\n",
      "760 / 5000 CNN loss=0.113352 ViT Loss=1.461923 loss_vit_to_cnn=0.295226 loss_cnn_to_vit=0.000032\n",
      "780 / 5000 CNN loss=0.198716 ViT Loss=1.034554 loss_vit_to_cnn=0.315785 loss_cnn_to_vit=0.000001\n",
      "800 / 5000 CNN loss=0.095227 ViT Loss=1.296808 loss_vit_to_cnn=0.581170 loss_cnn_to_vit=0.000000\n",
      "820 / 5000 CNN loss=0.212727 ViT Loss=1.034342 loss_vit_to_cnn=0.026015 loss_cnn_to_vit=0.000000\n",
      "840 / 5000 CNN loss=0.075824 ViT Loss=0.952372 loss_vit_to_cnn=0.928344 loss_cnn_to_vit=0.000000\n",
      "860 / 5000 CNN loss=0.171334 ViT Loss=0.931670 loss_vit_to_cnn=0.051696 loss_cnn_to_vit=0.000000\n",
      "880 / 5000 CNN loss=0.018205 ViT Loss=1.151566 loss_vit_to_cnn=0.515176 loss_cnn_to_vit=0.000000\n",
      "900 / 5000 CNN loss=0.182744 ViT Loss=1.801289 loss_vit_to_cnn=0.389270 loss_cnn_to_vit=0.000000\n",
      "920 / 5000 CNN loss=0.052690 ViT Loss=1.187684 loss_vit_to_cnn=0.510133 loss_cnn_to_vit=0.006529\n",
      "940 / 5000 CNN loss=0.092620 ViT Loss=1.311152 loss_vit_to_cnn=0.648054 loss_cnn_to_vit=0.000000\n",
      "960 / 5000 CNN loss=0.064444 ViT Loss=1.060043 loss_vit_to_cnn=0.273837 loss_cnn_to_vit=0.000000\n",
      "980 / 5000 CNN loss=0.098634 ViT Loss=0.710648 loss_vit_to_cnn=0.257810 loss_cnn_to_vit=0.000000\n",
      "1000 / 5000 CNN loss=0.088321 ViT Loss=1.340269 loss_vit_to_cnn=0.448716 loss_cnn_to_vit=0.003478\n"
     ]
    },
    {
     "name": "stderr",
     "output_type": "stream",
     "text": [
      "100%|██████████| 375/375 [00:01<00:00, 338.84it/s]\n",
      "100%|██████████| 375/375 [00:00<00:00, 428.41it/s]\n"
     ]
    },
    {
     "name": "stdout",
     "output_type": "stream",
     "text": [
      "=== src ===\n",
      "1000 / 5000 ViT acc=0.643750 ViT Loss=184.384073 CNN acc=0.978167 CNN Loss=17.097444\n"
     ]
    },
    {
     "name": "stderr",
     "output_type": "stream",
     "text": [
      "100%|██████████| 458/458 [00:01<00:00, 340.38it/s]\n",
      "100%|██████████| 458/458 [00:01<00:00, 434.32it/s]\n"
     ]
    },
    {
     "name": "stdout",
     "output_type": "stream",
     "text": [
      "=== dst ===\n",
      "1000 / 5000 ViT acc=0.179715 ViT Loss=4749.801391 CNN acc=0.190704 CNN Loss=1244.955593\n",
      "1020 / 5000 CNN loss=0.044904 ViT Loss=1.162176 loss_vit_to_cnn=0.477617 loss_cnn_to_vit=0.000000\n",
      "1040 / 5000 CNN loss=0.103967 ViT Loss=1.275830 loss_vit_to_cnn=0.347483 loss_cnn_to_vit=0.000000\n",
      "1060 / 5000 CNN loss=0.094406 ViT Loss=1.081126 loss_vit_to_cnn=0.264708 loss_cnn_to_vit=0.000000\n",
      "1080 / 5000 CNN loss=0.093790 ViT Loss=1.209137 loss_vit_to_cnn=0.217188 loss_cnn_to_vit=0.000000\n",
      "1100 / 5000 CNN loss=0.093706 ViT Loss=1.082881 loss_vit_to_cnn=0.080098 loss_cnn_to_vit=0.000000\n",
      "1120 / 5000 CNN loss=0.307621 ViT Loss=1.112952 loss_vit_to_cnn=0.325941 loss_cnn_to_vit=0.000000\n",
      "1140 / 5000 CNN loss=0.050232 ViT Loss=0.520576 loss_vit_to_cnn=0.454011 loss_cnn_to_vit=0.000010\n",
      "1160 / 5000 CNN loss=0.069801 ViT Loss=1.224638 loss_vit_to_cnn=0.184376 loss_cnn_to_vit=0.000000\n",
      "1180 / 5000 CNN loss=0.074776 ViT Loss=1.048885 loss_vit_to_cnn=0.021695 loss_cnn_to_vit=0.000000\n",
      "1200 / 5000 CNN loss=0.040598 ViT Loss=0.782332 loss_vit_to_cnn=0.016945 loss_cnn_to_vit=0.000000\n",
      "1220 / 5000 CNN loss=0.181465 ViT Loss=1.387620 loss_vit_to_cnn=0.011673 loss_cnn_to_vit=0.000000\n",
      "1240 / 5000 CNN loss=0.073107 ViT Loss=1.094592 loss_vit_to_cnn=0.016819 loss_cnn_to_vit=0.000000\n",
      "1260 / 5000 CNN loss=0.170726 ViT Loss=0.808405 loss_vit_to_cnn=0.190177 loss_cnn_to_vit=0.000000\n",
      "1280 / 5000 CNN loss=0.096743 ViT Loss=0.989992 loss_vit_to_cnn=0.162587 loss_cnn_to_vit=0.000068\n",
      "1300 / 5000 CNN loss=0.170348 ViT Loss=1.745201 loss_vit_to_cnn=0.159527 loss_cnn_to_vit=0.000000\n",
      "1320 / 5000 CNN loss=0.058718 ViT Loss=0.816137 loss_vit_to_cnn=0.520780 loss_cnn_to_vit=0.000000\n",
      "1340 / 5000 CNN loss=0.028307 ViT Loss=1.428487 loss_vit_to_cnn=0.070253 loss_cnn_to_vit=0.000000\n",
      "1360 / 5000 CNN loss=0.017624 ViT Loss=0.598637 loss_vit_to_cnn=0.011806 loss_cnn_to_vit=0.006250\n",
      "1380 / 5000 CNN loss=0.041251 ViT Loss=0.685245 loss_vit_to_cnn=0.228699 loss_cnn_to_vit=0.000000\n",
      "1400 / 5000 CNN loss=0.265857 ViT Loss=0.853105 loss_vit_to_cnn=0.010808 loss_cnn_to_vit=0.000000\n",
      "1420 / 5000 CNN loss=0.130120 ViT Loss=1.531312 loss_vit_to_cnn=0.287887 loss_cnn_to_vit=0.000000\n",
      "1440 / 5000 CNN loss=0.098348 ViT Loss=0.621648 loss_vit_to_cnn=0.014332 loss_cnn_to_vit=0.000000\n",
      "1460 / 5000 CNN loss=0.285264 ViT Loss=1.112852 loss_vit_to_cnn=0.249844 loss_cnn_to_vit=0.000000\n",
      "1480 / 5000 CNN loss=0.024151 ViT Loss=0.703570 loss_vit_to_cnn=0.121589 loss_cnn_to_vit=0.000003\n",
      "1500 / 5000 CNN loss=0.028644 ViT Loss=0.495259 loss_vit_to_cnn=0.134091 loss_cnn_to_vit=0.000000\n"
     ]
    },
    {
     "name": "stderr",
     "output_type": "stream",
     "text": [
      "100%|██████████| 375/375 [00:01<00:00, 333.44it/s]\n",
      "100%|██████████| 375/375 [00:00<00:00, 427.64it/s]\n"
     ]
    },
    {
     "name": "stdout",
     "output_type": "stream",
     "text": [
      "=== src ===\n",
      "1500 / 5000 ViT acc=0.794000 ViT Loss=116.353754 CNN acc=0.961250 CNN Loss=28.066750\n"
     ]
    },
    {
     "name": "stderr",
     "output_type": "stream",
     "text": [
      "100%|██████████| 458/458 [00:01<00:00, 344.47it/s]\n",
      "100%|██████████| 458/458 [00:01<00:00, 420.04it/s]\n"
     ]
    },
    {
     "name": "stdout",
     "output_type": "stream",
     "text": [
      "=== dst ===\n",
      "1500 / 5000 ViT acc=0.185380 ViT Loss=10091.167870 CNN acc=0.190362 CNN Loss=1294.833605\n",
      "1520 / 5000 CNN loss=0.041242 ViT Loss=0.679364 loss_vit_to_cnn=0.264213 loss_cnn_to_vit=0.000000\n",
      "1540 / 5000 CNN loss=0.129784 ViT Loss=1.163720 loss_vit_to_cnn=0.157011 loss_cnn_to_vit=0.000001\n",
      "1560 / 5000 CNN loss=0.029556 ViT Loss=0.377606 loss_vit_to_cnn=0.088804 loss_cnn_to_vit=0.000000\n",
      "1580 / 5000 CNN loss=0.013715 ViT Loss=0.591912 loss_vit_to_cnn=0.423613 loss_cnn_to_vit=0.000000\n",
      "1600 / 5000 CNN loss=0.013745 ViT Loss=0.475514 loss_vit_to_cnn=0.086095 loss_cnn_to_vit=0.000000\n",
      "1620 / 5000 CNN loss=0.275786 ViT Loss=0.688141 loss_vit_to_cnn=0.016480 loss_cnn_to_vit=0.000000\n",
      "1640 / 5000 CNN loss=0.331970 ViT Loss=0.380232 loss_vit_to_cnn=0.016524 loss_cnn_to_vit=0.000000\n",
      "1660 / 5000 CNN loss=0.262166 ViT Loss=1.416629 loss_vit_to_cnn=0.333444 loss_cnn_to_vit=0.000000\n",
      "1680 / 5000 CNN loss=0.024230 ViT Loss=0.537854 loss_vit_to_cnn=0.108546 loss_cnn_to_vit=0.000000\n",
      "1700 / 5000 CNN loss=0.165817 ViT Loss=0.619182 loss_vit_to_cnn=0.305296 loss_cnn_to_vit=0.000007\n",
      "1720 / 5000 CNN loss=0.203335 ViT Loss=0.761182 loss_vit_to_cnn=0.299805 loss_cnn_to_vit=0.000000\n",
      "1740 / 5000 CNN loss=0.011794 ViT Loss=0.602768 loss_vit_to_cnn=0.168036 loss_cnn_to_vit=0.000000\n",
      "1760 / 5000 CNN loss=0.101857 ViT Loss=0.655556 loss_vit_to_cnn=0.021068 loss_cnn_to_vit=0.002289\n",
      "1780 / 5000 CNN loss=0.027673 ViT Loss=0.471453 loss_vit_to_cnn=0.186868 loss_cnn_to_vit=0.000000\n",
      "1800 / 5000 CNN loss=0.064472 ViT Loss=0.699544 loss_vit_to_cnn=0.040501 loss_cnn_to_vit=0.000000\n",
      "1820 / 5000 CNN loss=0.135387 ViT Loss=0.796516 loss_vit_to_cnn=0.060170 loss_cnn_to_vit=0.000000\n",
      "1840 / 5000 CNN loss=0.021612 ViT Loss=0.498255 loss_vit_to_cnn=0.403107 loss_cnn_to_vit=0.000001\n",
      "1860 / 5000 CNN loss=0.037705 ViT Loss=0.490442 loss_vit_to_cnn=0.047641 loss_cnn_to_vit=0.000000\n",
      "1880 / 5000 CNN loss=0.023200 ViT Loss=0.647972 loss_vit_to_cnn=0.058782 loss_cnn_to_vit=0.000000\n",
      "1900 / 5000 CNN loss=0.013200 ViT Loss=0.479058 loss_vit_to_cnn=0.014999 loss_cnn_to_vit=0.000000\n",
      "1920 / 5000 CNN loss=0.015153 ViT Loss=0.613287 loss_vit_to_cnn=0.017928 loss_cnn_to_vit=0.000000\n",
      "1940 / 5000 CNN loss=0.010606 ViT Loss=0.695542 loss_vit_to_cnn=0.176159 loss_cnn_to_vit=0.000004\n",
      "1960 / 5000 CNN loss=0.162718 ViT Loss=0.736782 loss_vit_to_cnn=0.035464 loss_cnn_to_vit=0.000000\n",
      "1980 / 5000 CNN loss=0.162850 ViT Loss=0.469392 loss_vit_to_cnn=0.022046 loss_cnn_to_vit=0.000000\n",
      "2000 / 5000 CNN loss=0.147498 ViT Loss=0.377173 loss_vit_to_cnn=0.010789 loss_cnn_to_vit=0.000001\n"
     ]
    },
    {
     "name": "stderr",
     "output_type": "stream",
     "text": [
      "100%|██████████| 375/375 [00:01<00:00, 337.53it/s]\n",
      "100%|██████████| 375/375 [00:00<00:00, 430.96it/s]\n"
     ]
    },
    {
     "name": "stdout",
     "output_type": "stream",
     "text": [
      "=== src ===\n",
      "2000 / 5000 ViT acc=0.872167 ViT Loss=75.853210 CNN acc=0.919750 CNN Loss=47.588933\n"
     ]
    },
    {
     "name": "stderr",
     "output_type": "stream",
     "text": [
      "100%|██████████| 458/458 [00:01<00:00, 337.25it/s]\n",
      "100%|██████████| 458/458 [00:01<00:00, 413.87it/s]\n"
     ]
    },
    {
     "name": "stdout",
     "output_type": "stream",
     "text": [
      "=== dst ===\n",
      "2000 / 5000 ViT acc=0.190226 ViT Loss=11229.139636 CNN acc=0.190089 CNN Loss=1396.421826\n",
      "2020 / 5000 CNN loss=0.085541 ViT Loss=0.715389 loss_vit_to_cnn=0.017984 loss_cnn_to_vit=0.000000\n",
      "2040 / 5000 CNN loss=0.131708 ViT Loss=0.699002 loss_vit_to_cnn=0.019512 loss_cnn_to_vit=0.000000\n",
      "2060 / 5000 CNN loss=0.012331 ViT Loss=0.352804 loss_vit_to_cnn=0.225035 loss_cnn_to_vit=0.000000\n",
      "2080 / 5000 CNN loss=0.100966 ViT Loss=0.856393 loss_vit_to_cnn=0.141976 loss_cnn_to_vit=0.000000\n",
      "2100 / 5000 CNN loss=0.082610 ViT Loss=0.904512 loss_vit_to_cnn=0.184010 loss_cnn_to_vit=0.000000\n",
      "2120 / 5000 CNN loss=0.024997 ViT Loss=0.434622 loss_vit_to_cnn=0.354717 loss_cnn_to_vit=0.000000\n",
      "2140 / 5000 CNN loss=0.056731 ViT Loss=0.472545 loss_vit_to_cnn=0.094888 loss_cnn_to_vit=0.000000\n",
      "2160 / 5000 CNN loss=0.261833 ViT Loss=0.938232 loss_vit_to_cnn=0.019443 loss_cnn_to_vit=0.000000\n",
      "2180 / 5000 CNN loss=0.014308 ViT Loss=0.351642 loss_vit_to_cnn=0.008409 loss_cnn_to_vit=0.000000\n",
      "2200 / 5000 CNN loss=0.032306 ViT Loss=0.491055 loss_vit_to_cnn=0.007244 loss_cnn_to_vit=0.000000\n",
      "2220 / 5000 CNN loss=0.083519 ViT Loss=0.853247 loss_vit_to_cnn=0.008924 loss_cnn_to_vit=0.000000\n",
      "2240 / 5000 CNN loss=0.073300 ViT Loss=0.245736 loss_vit_to_cnn=0.007917 loss_cnn_to_vit=0.000000\n",
      "2260 / 5000 CNN loss=0.099116 ViT Loss=0.734254 loss_vit_to_cnn=0.006132 loss_cnn_to_vit=0.000000\n",
      "2280 / 5000 CNN loss=0.009606 ViT Loss=0.320983 loss_vit_to_cnn=0.005903 loss_cnn_to_vit=0.000000\n",
      "2300 / 5000 CNN loss=0.044440 ViT Loss=0.602987 loss_vit_to_cnn=0.108745 loss_cnn_to_vit=0.000046\n",
      "2320 / 5000 CNN loss=0.010053 ViT Loss=0.488889 loss_vit_to_cnn=0.012918 loss_cnn_to_vit=0.000220\n",
      "2340 / 5000 CNN loss=0.204113 ViT Loss=0.906666 loss_vit_to_cnn=0.055984 loss_cnn_to_vit=0.000000\n",
      "2360 / 5000 CNN loss=0.140146 ViT Loss=0.636876 loss_vit_to_cnn=0.009574 loss_cnn_to_vit=0.000030\n",
      "2380 / 5000 CNN loss=0.030605 ViT Loss=0.485627 loss_vit_to_cnn=0.152478 loss_cnn_to_vit=0.000000\n",
      "2400 / 5000 CNN loss=0.009878 ViT Loss=0.417527 loss_vit_to_cnn=0.013198 loss_cnn_to_vit=0.000000\n",
      "2420 / 5000 CNN loss=0.038753 ViT Loss=0.454432 loss_vit_to_cnn=0.255930 loss_cnn_to_vit=0.000000\n",
      "2440 / 5000 CNN loss=0.073151 ViT Loss=0.993592 loss_vit_to_cnn=0.235965 loss_cnn_to_vit=0.000000\n",
      "2460 / 5000 CNN loss=0.008952 ViT Loss=0.373321 loss_vit_to_cnn=0.010411 loss_cnn_to_vit=0.000000\n",
      "2480 / 5000 CNN loss=0.032518 ViT Loss=0.444396 loss_vit_to_cnn=0.344033 loss_cnn_to_vit=0.000000\n",
      "2500 / 5000 CNN loss=0.203352 ViT Loss=0.528994 loss_vit_to_cnn=0.100676 loss_cnn_to_vit=0.000000\n"
     ]
    },
    {
     "name": "stderr",
     "output_type": "stream",
     "text": [
      "100%|██████████| 375/375 [00:01<00:00, 327.17it/s]\n",
      "100%|██████████| 375/375 [00:00<00:00, 420.47it/s]\n"
     ]
    },
    {
     "name": "stdout",
     "output_type": "stream",
     "text": [
      "=== src ===\n",
      "2500 / 5000 ViT acc=0.917083 ViT Loss=49.371568 CNN acc=0.925083 CNN Loss=45.335983\n"
     ]
    },
    {
     "name": "stderr",
     "output_type": "stream",
     "text": [
      "100%|██████████| 458/458 [00:01<00:00, 329.32it/s]\n",
      "100%|██████████| 458/458 [00:01<00:00, 394.83it/s]\n"
     ]
    },
    {
     "name": "stdout",
     "output_type": "stream",
     "text": [
      "=== dst ===\n",
      "2500 / 5000 ViT acc=0.189270 ViT Loss=12832.653288 CNN acc=0.190362 CNN Loss=1370.620242\n",
      "2520 / 5000 CNN loss=0.011044 ViT Loss=0.335341 loss_vit_to_cnn=0.013263 loss_cnn_to_vit=0.000000\n",
      "2540 / 5000 CNN loss=0.040564 ViT Loss=0.513601 loss_vit_to_cnn=0.017256 loss_cnn_to_vit=0.000000\n",
      "2560 / 5000 CNN loss=0.073984 ViT Loss=0.423842 loss_vit_to_cnn=0.119898 loss_cnn_to_vit=0.000000\n",
      "2580 / 5000 CNN loss=0.012584 ViT Loss=0.329787 loss_vit_to_cnn=0.256585 loss_cnn_to_vit=0.000006\n",
      "2600 / 5000 CNN loss=0.009723 ViT Loss=0.240024 loss_vit_to_cnn=0.026790 loss_cnn_to_vit=0.002227\n",
      "2620 / 5000 CNN loss=0.026701 ViT Loss=0.340931 loss_vit_to_cnn=0.008126 loss_cnn_to_vit=0.000411\n",
      "2640 / 5000 CNN loss=0.178550 ViT Loss=0.891774 loss_vit_to_cnn=0.083171 loss_cnn_to_vit=0.000025\n",
      "2660 / 5000 CNN loss=0.101015 ViT Loss=0.360372 loss_vit_to_cnn=0.220419 loss_cnn_to_vit=0.000553\n",
      "2680 / 5000 CNN loss=0.048970 ViT Loss=0.487520 loss_vit_to_cnn=0.011263 loss_cnn_to_vit=0.000014\n",
      "2700 / 5000 CNN loss=0.133319 ViT Loss=0.418358 loss_vit_to_cnn=0.089791 loss_cnn_to_vit=0.000041\n",
      "2720 / 5000 CNN loss=0.021048 ViT Loss=0.459100 loss_vit_to_cnn=0.007057 loss_cnn_to_vit=0.000004\n",
      "2740 / 5000 CNN loss=0.007618 ViT Loss=0.260603 loss_vit_to_cnn=0.022956 loss_cnn_to_vit=0.000037\n",
      "2760 / 5000 CNN loss=0.013559 ViT Loss=0.534122 loss_vit_to_cnn=0.086574 loss_cnn_to_vit=0.000002\n",
      "2780 / 5000 CNN loss=0.183365 ViT Loss=0.489954 loss_vit_to_cnn=0.209497 loss_cnn_to_vit=0.000002\n",
      "2800 / 5000 CNN loss=0.006591 ViT Loss=0.262379 loss_vit_to_cnn=0.006360 loss_cnn_to_vit=0.000000\n",
      "2820 / 5000 CNN loss=0.009792 ViT Loss=0.583945 loss_vit_to_cnn=0.112284 loss_cnn_to_vit=0.002111\n",
      "2840 / 5000 CNN loss=0.154116 ViT Loss=0.267566 loss_vit_to_cnn=0.017084 loss_cnn_to_vit=0.000133\n",
      "2860 / 5000 CNN loss=0.029218 ViT Loss=0.474023 loss_vit_to_cnn=0.026898 loss_cnn_to_vit=0.000369\n",
      "2880 / 5000 CNN loss=0.007733 ViT Loss=0.489404 loss_vit_to_cnn=0.324847 loss_cnn_to_vit=0.021831\n",
      "2900 / 5000 CNN loss=0.023146 ViT Loss=0.511270 loss_vit_to_cnn=0.087217 loss_cnn_to_vit=0.000449\n",
      "2920 / 5000 CNN loss=0.016954 ViT Loss=0.386657 loss_vit_to_cnn=0.009401 loss_cnn_to_vit=0.000165\n",
      "2940 / 5000 CNN loss=0.156435 ViT Loss=0.819071 loss_vit_to_cnn=0.008837 loss_cnn_to_vit=0.000021\n",
      "2960 / 5000 CNN loss=0.012534 ViT Loss=0.933242 loss_vit_to_cnn=0.008822 loss_cnn_to_vit=0.000374\n",
      "2980 / 5000 CNN loss=0.010240 ViT Loss=0.294805 loss_vit_to_cnn=0.201728 loss_cnn_to_vit=0.000303\n",
      "3000 / 5000 CNN loss=0.133128 ViT Loss=0.351679 loss_vit_to_cnn=0.014792 loss_cnn_to_vit=0.280601\n"
     ]
    },
    {
     "name": "stderr",
     "output_type": "stream",
     "text": [
      "100%|██████████| 375/375 [00:01<00:00, 333.05it/s]\n",
      "100%|██████████| 375/375 [00:00<00:00, 426.04it/s]\n"
     ]
    },
    {
     "name": "stdout",
     "output_type": "stream",
     "text": [
      "=== src ===\n",
      "3000 / 5000 ViT acc=0.905833 ViT Loss=54.765415 CNN acc=0.967500 CNN Loss=26.616793\n"
     ]
    },
    {
     "name": "stderr",
     "output_type": "stream",
     "text": [
      "100%|██████████| 458/458 [00:01<00:00, 341.29it/s]\n",
      "100%|██████████| 458/458 [00:01<00:00, 417.58it/s]\n"
     ]
    },
    {
     "name": "stdout",
     "output_type": "stream",
     "text": [
      "=== dst ===\n",
      "3000 / 5000 ViT acc=0.189816 ViT Loss=3279.771001 CNN acc=0.189407 CNN Loss=1413.527001\n",
      "3020 / 5000 CNN loss=0.105683 ViT Loss=0.425086 loss_vit_to_cnn=0.018381 loss_cnn_to_vit=0.000030\n",
      "3040 / 5000 CNN loss=0.015110 ViT Loss=0.462968 loss_vit_to_cnn=0.007575 loss_cnn_to_vit=0.000017\n",
      "3060 / 5000 CNN loss=0.014134 ViT Loss=0.146073 loss_vit_to_cnn=0.162398 loss_cnn_to_vit=0.000178\n",
      "3080 / 5000 CNN loss=0.040972 ViT Loss=0.279267 loss_vit_to_cnn=0.065765 loss_cnn_to_vit=0.000029\n",
      "3100 / 5000 CNN loss=0.019927 ViT Loss=0.490794 loss_vit_to_cnn=0.010052 loss_cnn_to_vit=0.000040\n",
      "3120 / 5000 CNN loss=0.366753 ViT Loss=0.745520 loss_vit_to_cnn=0.017879 loss_cnn_to_vit=0.000039\n",
      "3140 / 5000 CNN loss=0.214882 ViT Loss=0.233174 loss_vit_to_cnn=0.018404 loss_cnn_to_vit=0.000460\n",
      "3160 / 5000 CNN loss=0.054936 ViT Loss=0.359655 loss_vit_to_cnn=0.014170 loss_cnn_to_vit=0.000264\n",
      "3180 / 5000 CNN loss=0.157667 ViT Loss=0.433081 loss_vit_to_cnn=0.199493 loss_cnn_to_vit=0.000002\n",
      "3200 / 5000 CNN loss=0.137211 ViT Loss=0.362435 loss_vit_to_cnn=0.013974 loss_cnn_to_vit=0.000003\n",
      "3220 / 5000 CNN loss=0.175970 ViT Loss=0.525836 loss_vit_to_cnn=0.009279 loss_cnn_to_vit=0.000000\n",
      "3240 / 5000 CNN loss=0.007129 ViT Loss=0.349858 loss_vit_to_cnn=0.139172 loss_cnn_to_vit=0.000024\n",
      "3260 / 5000 CNN loss=0.149130 ViT Loss=0.284294 loss_vit_to_cnn=0.124166 loss_cnn_to_vit=0.000003\n",
      "3280 / 5000 CNN loss=0.008940 ViT Loss=0.511226 loss_vit_to_cnn=0.052559 loss_cnn_to_vit=0.000014\n",
      "3300 / 5000 CNN loss=0.047692 ViT Loss=0.626205 loss_vit_to_cnn=0.014508 loss_cnn_to_vit=0.000083\n",
      "3320 / 5000 CNN loss=0.010923 ViT Loss=0.476067 loss_vit_to_cnn=0.106756 loss_cnn_to_vit=0.000162\n",
      "3340 / 5000 CNN loss=0.103369 ViT Loss=0.370737 loss_vit_to_cnn=0.224540 loss_cnn_to_vit=0.000002\n",
      "3360 / 5000 CNN loss=0.013686 ViT Loss=0.454207 loss_vit_to_cnn=0.156958 loss_cnn_to_vit=0.000000\n",
      "3380 / 5000 CNN loss=0.021936 ViT Loss=0.386341 loss_vit_to_cnn=0.012285 loss_cnn_to_vit=0.000155\n",
      "3400 / 5000 CNN loss=0.007224 ViT Loss=0.123503 loss_vit_to_cnn=0.133732 loss_cnn_to_vit=0.000000\n",
      "3420 / 5000 CNN loss=0.222282 ViT Loss=0.358488 loss_vit_to_cnn=0.132404 loss_cnn_to_vit=0.000002\n",
      "3440 / 5000 CNN loss=0.014715 ViT Loss=0.335442 loss_vit_to_cnn=0.379723 loss_cnn_to_vit=0.000005\n",
      "3460 / 5000 CNN loss=0.088074 ViT Loss=0.513002 loss_vit_to_cnn=0.009552 loss_cnn_to_vit=0.000562\n",
      "3480 / 5000 CNN loss=0.015879 ViT Loss=0.247083 loss_vit_to_cnn=0.063460 loss_cnn_to_vit=0.002280\n",
      "3500 / 5000 CNN loss=0.017096 ViT Loss=0.394691 loss_vit_to_cnn=0.008642 loss_cnn_to_vit=0.000352\n"
     ]
    },
    {
     "name": "stderr",
     "output_type": "stream",
     "text": [
      "100%|██████████| 375/375 [00:01<00:00, 331.19it/s]\n",
      "100%|██████████| 375/375 [00:00<00:00, 430.39it/s]\n"
     ]
    },
    {
     "name": "stdout",
     "output_type": "stream",
     "text": [
      "=== src ===\n",
      "3500 / 5000 ViT acc=0.909667 ViT Loss=54.655810 CNN acc=0.812750 CNN Loss=116.236301\n"
     ]
    },
    {
     "name": "stderr",
     "output_type": "stream",
     "text": [
      "100%|██████████| 458/458 [00:01<00:00, 339.01it/s]\n",
      "100%|██████████| 458/458 [00:01<00:00, 430.44it/s]\n"
     ]
    },
    {
     "name": "stdout",
     "output_type": "stream",
     "text": [
      "=== dst ===\n",
      "3500 / 5000 ViT acc=0.189134 ViT Loss=3400.383212 CNN acc=0.188793 CNN Loss=1442.401115\n",
      "3520 / 5000 CNN loss=0.006705 ViT Loss=0.177069 loss_vit_to_cnn=0.007179 loss_cnn_to_vit=0.000000\n",
      "3540 / 5000 CNN loss=0.021411 ViT Loss=0.169638 loss_vit_to_cnn=0.005302 loss_cnn_to_vit=0.000203\n",
      "3560 / 5000 CNN loss=0.055266 ViT Loss=0.681354 loss_vit_to_cnn=0.171835 loss_cnn_to_vit=0.000004\n",
      "3580 / 5000 CNN loss=0.016610 ViT Loss=0.580733 loss_vit_to_cnn=0.007427 loss_cnn_to_vit=0.000109\n",
      "3600 / 5000 CNN loss=0.006126 ViT Loss=0.116083 loss_vit_to_cnn=0.009484 loss_cnn_to_vit=0.000102\n",
      "3620 / 5000 CNN loss=0.044082 ViT Loss=0.271475 loss_vit_to_cnn=0.021517 loss_cnn_to_vit=0.000033\n",
      "3640 / 5000 CNN loss=0.049737 ViT Loss=0.771004 loss_vit_to_cnn=0.026339 loss_cnn_to_vit=0.000042\n",
      "3660 / 5000 CNN loss=0.008596 ViT Loss=0.177856 loss_vit_to_cnn=0.009524 loss_cnn_to_vit=0.000283\n",
      "3680 / 5000 CNN loss=0.016242 ViT Loss=0.288469 loss_vit_to_cnn=0.007677 loss_cnn_to_vit=0.000006\n",
      "3700 / 5000 CNN loss=0.013778 ViT Loss=0.392109 loss_vit_to_cnn=0.008206 loss_cnn_to_vit=0.000045\n",
      "3720 / 5000 CNN loss=0.007661 ViT Loss=0.153612 loss_vit_to_cnn=0.016794 loss_cnn_to_vit=0.084524\n",
      "3740 / 5000 CNN loss=0.123841 ViT Loss=0.780433 loss_vit_to_cnn=0.012927 loss_cnn_to_vit=0.000062\n",
      "3760 / 5000 CNN loss=0.068779 ViT Loss=0.268487 loss_vit_to_cnn=0.274922 loss_cnn_to_vit=0.000001\n",
      "3780 / 5000 CNN loss=0.033628 ViT Loss=0.655368 loss_vit_to_cnn=0.142955 loss_cnn_to_vit=0.000775\n",
      "3800 / 5000 CNN loss=0.018201 ViT Loss=0.319057 loss_vit_to_cnn=0.045660 loss_cnn_to_vit=0.000193\n",
      "3820 / 5000 CNN loss=0.014699 ViT Loss=0.358970 loss_vit_to_cnn=0.016975 loss_cnn_to_vit=0.000002\n",
      "3840 / 5000 CNN loss=0.195380 ViT Loss=0.623504 loss_vit_to_cnn=0.021892 loss_cnn_to_vit=0.001355\n",
      "3860 / 5000 CNN loss=0.043690 ViT Loss=0.391025 loss_vit_to_cnn=0.015473 loss_cnn_to_vit=0.117535\n",
      "3880 / 5000 CNN loss=0.006824 ViT Loss=0.524430 loss_vit_to_cnn=0.011207 loss_cnn_to_vit=0.009998\n",
      "3900 / 5000 CNN loss=0.021242 ViT Loss=0.340469 loss_vit_to_cnn=0.074717 loss_cnn_to_vit=0.001355\n",
      "3920 / 5000 CNN loss=0.106350 ViT Loss=0.826940 loss_vit_to_cnn=0.005851 loss_cnn_to_vit=0.000127\n",
      "3940 / 5000 CNN loss=0.084069 ViT Loss=0.127821 loss_vit_to_cnn=0.009879 loss_cnn_to_vit=0.002055\n",
      "3960 / 5000 CNN loss=0.011885 ViT Loss=0.270952 loss_vit_to_cnn=0.004199 loss_cnn_to_vit=0.000005\n",
      "3980 / 5000 CNN loss=0.164072 ViT Loss=0.169645 loss_vit_to_cnn=0.003725 loss_cnn_to_vit=0.000061\n",
      "4000 / 5000 CNN loss=0.108842 ViT Loss=0.311468 loss_vit_to_cnn=0.119343 loss_cnn_to_vit=0.000049\n"
     ]
    },
    {
     "name": "stderr",
     "output_type": "stream",
     "text": [
      "100%|██████████| 375/375 [00:01<00:00, 335.38it/s]\n",
      "100%|██████████| 375/375 [00:00<00:00, 444.72it/s]\n"
     ]
    },
    {
     "name": "stdout",
     "output_type": "stream",
     "text": [
      "=== src ===\n",
      "4000 / 5000 ViT acc=0.943750 ViT Loss=35.907768 CNN acc=0.970917 CNN Loss=24.872609\n"
     ]
    },
    {
     "name": "stderr",
     "output_type": "stream",
     "text": [
      "100%|██████████| 458/458 [00:01<00:00, 343.54it/s]\n",
      "100%|██████████| 458/458 [00:01<00:00, 393.06it/s]\n"
     ]
    },
    {
     "name": "stdout",
     "output_type": "stream",
     "text": [
      "=== dst ===\n",
      "4000 / 5000 ViT acc=0.189270 ViT Loss=3148.100240 CNN acc=0.189270 CNN Loss=1463.154707\n",
      "4020 / 5000 CNN loss=0.030113 ViT Loss=0.475778 loss_vit_to_cnn=0.017139 loss_cnn_to_vit=0.000068\n",
      "4040 / 5000 CNN loss=0.011202 ViT Loss=0.327970 loss_vit_to_cnn=0.006054 loss_cnn_to_vit=0.000428\n",
      "4060 / 5000 CNN loss=0.010484 ViT Loss=0.415751 loss_vit_to_cnn=0.006624 loss_cnn_to_vit=0.001600\n",
      "4080 / 5000 CNN loss=0.074878 ViT Loss=0.268991 loss_vit_to_cnn=0.163495 loss_cnn_to_vit=0.000004\n",
      "4100 / 5000 CNN loss=0.080051 ViT Loss=0.110343 loss_vit_to_cnn=0.160314 loss_cnn_to_vit=0.000232\n",
      "4120 / 5000 CNN loss=0.010317 ViT Loss=0.420078 loss_vit_to_cnn=0.008883 loss_cnn_to_vit=0.000011\n",
      "4140 / 5000 CNN loss=0.026023 ViT Loss=0.489090 loss_vit_to_cnn=0.009817 loss_cnn_to_vit=0.000094\n",
      "4160 / 5000 CNN loss=0.013663 ViT Loss=0.241765 loss_vit_to_cnn=0.077454 loss_cnn_to_vit=0.000020\n",
      "4180 / 5000 CNN loss=0.047043 ViT Loss=0.383962 loss_vit_to_cnn=0.023368 loss_cnn_to_vit=0.000119\n",
      "4200 / 5000 CNN loss=0.134370 ViT Loss=0.706202 loss_vit_to_cnn=0.051446 loss_cnn_to_vit=0.000021\n",
      "4220 / 5000 CNN loss=0.059844 ViT Loss=0.649936 loss_vit_to_cnn=0.058762 loss_cnn_to_vit=0.000000\n",
      "4240 / 5000 CNN loss=0.038953 ViT Loss=0.786767 loss_vit_to_cnn=0.141091 loss_cnn_to_vit=0.000038\n",
      "4260 / 5000 CNN loss=0.006075 ViT Loss=0.125923 loss_vit_to_cnn=0.248234 loss_cnn_to_vit=0.156632\n",
      "4280 / 5000 CNN loss=0.006831 ViT Loss=0.728593 loss_vit_to_cnn=0.017367 loss_cnn_to_vit=0.000007\n",
      "4300 / 5000 CNN loss=0.043644 ViT Loss=0.184196 loss_vit_to_cnn=0.019664 loss_cnn_to_vit=0.000020\n",
      "4320 / 5000 CNN loss=0.077390 ViT Loss=0.527589 loss_vit_to_cnn=0.010212 loss_cnn_to_vit=0.000002\n",
      "4340 / 5000 CNN loss=0.035991 ViT Loss=0.103148 loss_vit_to_cnn=0.006032 loss_cnn_to_vit=0.000010\n",
      "4360 / 5000 CNN loss=0.106940 ViT Loss=0.446794 loss_vit_to_cnn=0.006261 loss_cnn_to_vit=0.000009\n",
      "4380 / 5000 CNN loss=0.045710 ViT Loss=0.219486 loss_vit_to_cnn=0.007834 loss_cnn_to_vit=0.000007\n",
      "4400 / 5000 CNN loss=0.019906 ViT Loss=0.250906 loss_vit_to_cnn=0.010841 loss_cnn_to_vit=0.000235\n",
      "4420 / 5000 CNN loss=0.009166 ViT Loss=0.176220 loss_vit_to_cnn=0.005702 loss_cnn_to_vit=0.000011\n",
      "4440 / 5000 CNN loss=0.013427 ViT Loss=0.289357 loss_vit_to_cnn=0.004840 loss_cnn_to_vit=0.000011\n",
      "4460 / 5000 CNN loss=0.010071 ViT Loss=0.285572 loss_vit_to_cnn=0.005811 loss_cnn_to_vit=0.000001\n",
      "4480 / 5000 CNN loss=0.007234 ViT Loss=0.145914 loss_vit_to_cnn=0.005178 loss_cnn_to_vit=0.000623\n",
      "4500 / 5000 CNN loss=0.167215 ViT Loss=0.164816 loss_vit_to_cnn=0.087410 loss_cnn_to_vit=0.000046\n"
     ]
    },
    {
     "name": "stderr",
     "output_type": "stream",
     "text": [
      "100%|██████████| 375/375 [00:01<00:00, 328.98it/s]\n",
      "100%|██████████| 375/375 [00:00<00:00, 419.13it/s]\n"
     ]
    },
    {
     "name": "stdout",
     "output_type": "stream",
     "text": [
      "=== src ===\n",
      "4500 / 5000 ViT acc=0.938417 ViT Loss=40.045700 CNN acc=0.846000 CNN Loss=98.353066\n"
     ]
    },
    {
     "name": "stderr",
     "output_type": "stream",
     "text": [
      "100%|██████████| 458/458 [00:01<00:00, 339.27it/s]\n",
      "100%|██████████| 458/458 [00:01<00:00, 435.94it/s]\n"
     ]
    },
    {
     "name": "stdout",
     "output_type": "stream",
     "text": [
      "=== dst ===\n",
      "4500 / 5000 ViT acc=0.185858 ViT Loss=2946.008230 CNN acc=0.186950 CNN Loss=1458.362529\n",
      "4520 / 5000 CNN loss=0.096071 ViT Loss=0.570485 loss_vit_to_cnn=0.011916 loss_cnn_to_vit=0.001406\n",
      "4540 / 5000 CNN loss=0.022311 ViT Loss=0.276208 loss_vit_to_cnn=0.019623 loss_cnn_to_vit=0.000488\n",
      "4560 / 5000 CNN loss=0.131973 ViT Loss=0.552646 loss_vit_to_cnn=0.011326 loss_cnn_to_vit=0.000076\n",
      "4580 / 5000 CNN loss=0.012039 ViT Loss=0.295018 loss_vit_to_cnn=0.023183 loss_cnn_to_vit=0.001130\n",
      "4600 / 5000 CNN loss=0.034351 ViT Loss=0.355544 loss_vit_to_cnn=0.058215 loss_cnn_to_vit=0.000011\n",
      "4620 / 5000 CNN loss=0.006795 ViT Loss=0.096680 loss_vit_to_cnn=0.005989 loss_cnn_to_vit=0.000644\n",
      "4640 / 5000 CNN loss=0.037330 ViT Loss=0.103836 loss_vit_to_cnn=0.082684 loss_cnn_to_vit=0.000003\n",
      "4660 / 5000 CNN loss=0.331952 ViT Loss=0.483229 loss_vit_to_cnn=0.006088 loss_cnn_to_vit=0.000099\n",
      "4680 / 5000 CNN loss=0.094009 ViT Loss=0.202508 loss_vit_to_cnn=0.004266 loss_cnn_to_vit=0.000151\n",
      "4700 / 5000 CNN loss=0.004881 ViT Loss=0.363925 loss_vit_to_cnn=0.166272 loss_cnn_to_vit=0.000181\n",
      "4720 / 5000 CNN loss=0.115540 ViT Loss=0.389877 loss_vit_to_cnn=0.010782 loss_cnn_to_vit=0.019386\n",
      "4740 / 5000 CNN loss=0.044734 ViT Loss=0.183036 loss_vit_to_cnn=0.006048 loss_cnn_to_vit=0.000119\n",
      "4760 / 5000 CNN loss=0.009079 ViT Loss=0.499020 loss_vit_to_cnn=0.003780 loss_cnn_to_vit=0.000017\n",
      "4780 / 5000 CNN loss=0.017605 ViT Loss=0.230691 loss_vit_to_cnn=0.005446 loss_cnn_to_vit=0.000598\n",
      "4800 / 5000 CNN loss=0.079853 ViT Loss=0.167604 loss_vit_to_cnn=0.004684 loss_cnn_to_vit=0.000055\n",
      "4820 / 5000 CNN loss=0.128262 ViT Loss=0.340515 loss_vit_to_cnn=0.004399 loss_cnn_to_vit=0.000021\n",
      "4840 / 5000 CNN loss=0.008755 ViT Loss=0.136501 loss_vit_to_cnn=0.005302 loss_cnn_to_vit=0.000003\n",
      "4860 / 5000 CNN loss=0.007697 ViT Loss=0.168402 loss_vit_to_cnn=0.004588 loss_cnn_to_vit=0.000006\n",
      "4880 / 5000 CNN loss=0.010392 ViT Loss=0.194834 loss_vit_to_cnn=0.004735 loss_cnn_to_vit=0.000053\n",
      "4900 / 5000 CNN loss=0.042115 ViT Loss=0.391906 loss_vit_to_cnn=0.004764 loss_cnn_to_vit=0.000375\n",
      "4920 / 5000 CNN loss=0.136323 ViT Loss=0.139986 loss_vit_to_cnn=0.004851 loss_cnn_to_vit=0.000316\n",
      "4940 / 5000 CNN loss=0.008633 ViT Loss=0.113536 loss_vit_to_cnn=0.007507 loss_cnn_to_vit=0.000007\n",
      "4960 / 5000 CNN loss=0.020525 ViT Loss=0.096679 loss_vit_to_cnn=0.006198 loss_cnn_to_vit=0.000004\n",
      "4980 / 5000 CNN loss=0.068685 ViT Loss=0.135719 loss_vit_to_cnn=0.008168 loss_cnn_to_vit=0.000005\n",
      "4999 / 5000 CNN loss=0.013047 ViT Loss=0.091471 loss_vit_to_cnn=0.021831 loss_cnn_to_vit=0.000000\n"
     ]
    }
   ],
   "source": [
    "set_seed(0)\n",
    "(G1, F1, G2, F2) = get_cnn_and_vit_model()\n",
    "device = 'cuda' if torch.cuda.is_available() else 'cpu'\n",
    "G1.to(device)\n",
    "F1.to(device)\n",
    "G2.to(device)\n",
    "F2.to(device)\n",
    "optimizer_G1 = optim.AdamW(G1.parameters(), lr=0.1, weight_decay=0.0005)\n",
    "optimizer_F1 = optim.AdamW(F1.parameters(), lr=1.0, weight_decay=0.0005)\n",
    "optimizer_G2 = optim.AdamW(G2.parameters(), lr=0.1, weight_decay=0.0005)\n",
    "optimizer_F2 = optim.AdamW(F2.parameters(), lr=1.0, weight_decay=0.0005)\n",
    "\n",
    "src_train_dl, src_valid_dl, src_test_dl = get_source_dl()\n",
    "dst_train_dl, dst_valid_dl, dst_test_dl = get_target_dl()\n",
    "train(\n",
    "    G1,\n",
    "    F1,\n",
    "    G2,\n",
    "    F2,\n",
    "    optimizer_G1,\n",
    "    optimizer_F1,\n",
    "    optimizer_G2,\n",
    "    optimizer_G2,\n",
    "    src_train_dl,\n",
    "    src_valid_dl,\n",
    "    dst_train_dl,\n",
    "    dst_valid_dl,\n",
    "    adapt_iter=ADAPT_ITERS,\n",
    ")"
   ]
  },
  {
   "cell_type": "code",
   "execution_count": 7,
   "metadata": {},
   "outputs": [
    {
     "name": "stderr",
     "output_type": "stream",
     "text": [
      "100%|██████████| 313/313 [00:01<00:00, 242.42it/s]\n",
      "100%|██████████| 313/313 [00:00<00:00, 395.44it/s]\n"
     ]
    },
    {
     "name": "stdout",
     "output_type": "stream",
     "text": [
      "SRC Test vit acc=0.933000, cnn acc=0.987300\n"
     ]
    },
    {
     "name": "stderr",
     "output_type": "stream",
     "text": [
      "100%|██████████| 814/814 [00:02<00:00, 340.80it/s]\n",
      "100%|██████████| 814/814 [00:01<00:00, 426.20it/s]"
     ]
    },
    {
     "name": "stdout",
     "output_type": "stream",
     "text": [
      "DST Test vit acc=0.195682, cnn acc=0.196681\n"
     ]
    },
    {
     "name": "stderr",
     "output_type": "stream",
     "text": [
      "\n"
     ]
    }
   ],
   "source": [
    "loss_fn = nn.CrossEntropyLoss()\n",
    "src_vit_test_acc, _ = evaluate(\n",
    "    G1,\n",
    "    F1,\n",
    "    loss_fn,\n",
    "    src_test_dl,\n",
    "    device,\n",
    ")\n",
    "src_cnn_test_acc, _ = evaluate(\n",
    "    G2,\n",
    "    F2,\n",
    "    loss_fn,\n",
    "    src_test_dl,\n",
    "    device,\n",
    ")\n",
    "print(f'SRC Test vit acc={src_vit_test_acc:.6f}, cnn acc={src_cnn_test_acc:.6f}')\n",
    "\n",
    "\n",
    "loss_fn = nn.CrossEntropyLoss()\n",
    "dst_vit_test_acc, _ = evaluate(\n",
    "    G1,\n",
    "    F1,\n",
    "    loss_fn,\n",
    "    dst_test_dl,\n",
    "    device,\n",
    ")\n",
    "dst_cnn_test_acc, _ = evaluate(\n",
    "    G2,\n",
    "    F2,\n",
    "    loss_fn,\n",
    "    dst_test_dl,\n",
    "    device,\n",
    ")\n",
    "print(f'DST Test vit acc={dst_vit_test_acc:.6f}, cnn acc={dst_cnn_test_acc:.6f}')"
   ]
  },
  {
   "cell_type": "code",
   "execution_count": null,
   "metadata": {},
   "outputs": [],
   "source": []
  }
 ],
 "metadata": {
  "kernelspec": {
   "display_name": "venv",
   "language": "python",
   "name": "python3"
  },
  "language_info": {
   "codemirror_mode": {
    "name": "ipython",
    "version": 3
   },
   "file_extension": ".py",
   "mimetype": "text/x-python",
   "name": "python",
   "nbconvert_exporter": "python",
   "pygments_lexer": "ipython3",
   "version": "3.10.12"
  }
 },
 "nbformat": 4,
 "nbformat_minor": 2
}
