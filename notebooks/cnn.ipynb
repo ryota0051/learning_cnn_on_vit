{
 "cells": [
  {
   "cell_type": "code",
   "execution_count": 1,
   "metadata": {},
   "outputs": [],
   "source": [
    "import torch\n",
    "import torch.nn as nn\n",
    "import matplotlib.pyplot as plt\n",
    "import numpy as np\n",
    "from torch.utils.data import DataLoader, random_split\n",
    "from torch import optim\n",
    "from torchvision.datasets import SVHN, MNIST\n",
    "from torchvision import transforms\n",
    "from tqdm import tqdm\n",
    "\n",
    "from src.data_utils import TransformDataset\n",
    "from src.models import get_model\n",
    "from src.reproducibility import set_seed"
   ]
  },
  {
   "cell_type": "code",
   "execution_count": 2,
   "metadata": {},
   "outputs": [],
   "source": [
    "# 入力画像サイズ\n",
    "INPUT_SIZE = 32\n",
    "\n",
    "# learning rate\n",
    "LR = 5e-5\n",
    "\n",
    "# エポック数\n",
    "EPOCHS = 10"
   ]
  },
  {
   "cell_type": "code",
   "execution_count": 3,
   "metadata": {},
   "outputs": [],
   "source": [
    "def get_mnist_transform():\n",
    "    train_transform = transforms.Compose([\n",
    "        transforms.Resize(INPUT_SIZE),\n",
    "        transforms.Lambda(lambda x: x.convert('RGB')),\n",
    "        transforms.RandomAffine(degrees=10, translate=(0.1, 0.1)),\n",
    "        transforms.RandomCrop(size=INPUT_SIZE),\n",
    "        transforms.ToTensor(),\n",
    "        transforms.Normalize(mean=0.5, std=0.5),\n",
    "    ])\n",
    "    valid_transform = transforms.Compose([\n",
    "        transforms.Resize(INPUT_SIZE),\n",
    "        transforms.Lambda(lambda x: x.convert('RGB')),\n",
    "        transforms.ToTensor(),\n",
    "        transforms.Normalize(mean=0.5, std=0.5),\n",
    "    ])\n",
    "    return train_transform, valid_transform\n",
    "\n",
    "\n",
    "def get_mnist_dl(batch_size=32):\n",
    "    train_transform, valid_transform = get_mnist_transform()\n",
    "    train_mnist = MNIST(\n",
    "        root='./mnist/',\n",
    "        train=True,\n",
    "        download=True,\n",
    "    )\n",
    "    test_mnist = MNIST(\n",
    "        root='./mnist/',\n",
    "        train=False,\n",
    "        download=True,\n",
    "        transform=valid_transform\n",
    "    )\n",
    "    split_generator = torch.Generator().manual_seed(2024)\n",
    "    train_mnist, val_mnist = random_split(train_mnist, [0.8, 0.2], split_generator)\n",
    "    train_mnist, val_mnist = TransformDataset(train_mnist, transform=train_transform), TransformDataset(val_mnist, transform=valid_transform)\n",
    "    dl_generator = torch.Generator().manual_seed(2024)\n",
    "    train_dl = DataLoader(\n",
    "        train_mnist,\n",
    "        batch_size=batch_size,\n",
    "        shuffle=True,\n",
    "        num_workers=2,\n",
    "        generator=dl_generator,\n",
    "    )\n",
    "    valid_dl = DataLoader(\n",
    "        val_mnist,\n",
    "        batch_size=batch_size,\n",
    "        shuffle=False,\n",
    "        num_workers=2,\n",
    "    )\n",
    "    test_dl = DataLoader(\n",
    "        test_mnist,\n",
    "        batch_size=batch_size,\n",
    "        shuffle=False,\n",
    "        num_workers=2,\n",
    "    )\n",
    "    return train_dl, valid_dl, test_dl\n",
    "\n",
    "\n",
    "def get_svhm_transform():\n",
    "    train_transform = transforms.Compose([\n",
    "        transforms.Resize(INPUT_SIZE),\n",
    "        transforms.Lambda(lambda x: x.convert('RGB')),\n",
    "        transforms.RandomAffine(degrees=10, translate=(0.1, 0.1)),\n",
    "        transforms.RandomCrop(size=INPUT_SIZE),\n",
    "        transforms.ToTensor(),\n",
    "        transforms.Normalize(mean=0.5, std=0.5),\n",
    "    ])\n",
    "    valid_transform = transforms.Compose([\n",
    "        transforms.Resize(INPUT_SIZE),\n",
    "        transforms.Lambda(lambda x: x.convert('RGB')),\n",
    "        transforms.Grayscale(num_output_channels=3),\n",
    "        transforms.ToTensor(),\n",
    "        transforms.Normalize(mean=0.5, std=0.5),\n",
    "    ])\n",
    "    return train_transform, valid_transform\n",
    "\n",
    "\n",
    "def get_svhm_dl(batch_size=32):\n",
    "    train_transform, valid_transform = get_svhm_transform()\n",
    "    train_svhm = SVHN(\n",
    "        root='./svhm/',\n",
    "        split='train',\n",
    "        download=True,\n",
    "    )\n",
    "    test_svhm = SVHN(\n",
    "        root='./svhm/',\n",
    "        split='test',\n",
    "        download=True,\n",
    "        transform=valid_transform\n",
    "    )\n",
    "    split_generator = torch.Generator().manual_seed(2024)\n",
    "    train_svhm, val_svhm = random_split(train_svhm, [0.8, 0.2], split_generator)\n",
    "    train_svhm, val_svhm = TransformDataset(train_svhm, transform=train_transform), TransformDataset(val_svhm, transform=valid_transform)\n",
    "    dl_generator = torch.Generator().manual_seed(2024)\n",
    "    train_dl = DataLoader(\n",
    "        train_svhm,\n",
    "        batch_size=batch_size,\n",
    "        shuffle=True,\n",
    "        num_workers=2,\n",
    "        generator=dl_generator,\n",
    "    )\n",
    "    valid_dl = DataLoader(\n",
    "        val_svhm,\n",
    "        batch_size=batch_size,\n",
    "        shuffle=False,\n",
    "        num_workers=2,\n",
    "    )\n",
    "    test_dl = DataLoader(\n",
    "        test_svhm,\n",
    "        batch_size=batch_size,\n",
    "        shuffle=False,\n",
    "        num_workers=2,\n",
    "    )\n",
    "    return train_dl, valid_dl, test_dl\n",
    "\n",
    "\n",
    "\n",
    "def train(\n",
    "    G,\n",
    "    F,\n",
    "    optimizer_G,\n",
    "    optimizer_F,\n",
    "    loss_fn,\n",
    "    epochs,\n",
    "    train_dl,\n",
    "    valid_dl,\n",
    "    device,\n",
    "):\n",
    "    logs = {\n",
    "        'train_accuracy': [],\n",
    "        'train_loss': [],\n",
    "        'valid_accuracy': [],\n",
    "        'valid_loss': [],\n",
    "    }\n",
    "    for epoch in range(epochs):\n",
    "        train_accuracy, train_avg_loss = train_one_epoch(\n",
    "            G,\n",
    "            F,\n",
    "            optimizer_G,\n",
    "            optimizer_F,\n",
    "            loss_fn,\n",
    "            train_dl,\n",
    "            device,\n",
    "        )\n",
    "        valid_accuracy, valid_avg_loss = evaluate(\n",
    "            G,\n",
    "            F,\n",
    "            loss_fn,\n",
    "            valid_dl,\n",
    "            device\n",
    "        )\n",
    "        logs['train_accuracy'].append(train_accuracy)\n",
    "        logs['train_loss'].append(train_avg_loss)\n",
    "        logs['valid_accuracy'].append(valid_accuracy)\n",
    "        logs['valid_loss'].append(valid_avg_loss)\n",
    "\n",
    "        print(f'epoch: {epoch + 1} train loss={train_avg_loss:.3f}, train acc={train_accuracy:.3f}, valid loss={valid_avg_loss:.3f}, valid acc={valid_accuracy:.3f}')\n",
    "    return logs\n",
    "\n",
    "\n",
    "def train_one_epoch(\n",
    "    G,\n",
    "    F,\n",
    "    optimizer_G,\n",
    "    optimizer_F,\n",
    "    loss_fn,\n",
    "    train_dl,\n",
    "    device,\n",
    "):\n",
    "    G.train()\n",
    "    F.train()\n",
    "    total_correct = 0\n",
    "    total_data = 0\n",
    "    total_loss = 0\n",
    "    def zero_grad():\n",
    "        optimizer_G.zero_grad()\n",
    "        optimizer_F.zero_grad()\n",
    "\n",
    "    for X, y in tqdm(train_dl, total=len(train_dl)):\n",
    "        zero_grad()\n",
    "        X = X.to(device)\n",
    "        y = y.to(device)\n",
    "        pred = F(G(X))\n",
    "        loss = loss_fn(pred, y)\n",
    "        loss.backward()\n",
    "        optimizer_G.step()\n",
    "        optimizer_F.step()\n",
    "\n",
    "        num_data = len(X)\n",
    "        total_data += num_data\n",
    "        total_correct += (torch.argmax(pred, dim=1) == y).sum().item()\n",
    "        total_loss += loss.item() * total_data\n",
    "    accuracy = total_correct / total_data\n",
    "    avg_loss = total_loss / total_data\n",
    "    return accuracy, avg_loss\n",
    "\n",
    "\n",
    "@torch.no_grad()\n",
    "def evaluate(G, F, loss_fn, valid_dl, device):\n",
    "    G.eval()\n",
    "    F.eval()\n",
    "    total_correct = 0\n",
    "    total_data = 0\n",
    "    total_loss = 0\n",
    "    for X, y in tqdm(valid_dl, total=len(valid_dl)):\n",
    "        X = X.to(device)\n",
    "        y = y.to(device)\n",
    "        pred = F(G(X))\n",
    "        loss = loss_fn(pred, y)\n",
    "\n",
    "        num_data = len(X)\n",
    "        total_data += num_data\n",
    "        total_correct += (torch.argmax(pred, dim=1) == y).sum().item()\n",
    "        total_loss += loss.item() * total_data\n",
    "    accuracy = total_correct / total_data\n",
    "    avg_loss = total_loss / total_data\n",
    "    return accuracy, avg_loss"
   ]
  },
  {
   "cell_type": "code",
   "execution_count": 4,
   "metadata": {},
   "outputs": [
    {
     "name": "stdout",
     "output_type": "stream",
     "text": [
      "== train mnist ==\n"
     ]
    },
    {
     "name": "stderr",
     "output_type": "stream",
     "text": [
      "100%|██████████| 1500/1500 [00:07<00:00, 190.88it/s]\n",
      "100%|██████████| 375/375 [00:00<00:00, 398.96it/s]\n"
     ]
    },
    {
     "name": "stdout",
     "output_type": "stream",
     "text": [
      "epoch: 1 train loss=195.817, train acc=0.868, valid loss=18.609, valid acc=0.970\n"
     ]
    },
    {
     "name": "stderr",
     "output_type": "stream",
     "text": [
      "100%|██████████| 1500/1500 [00:07<00:00, 197.09it/s]\n",
      "100%|██████████| 375/375 [00:00<00:00, 439.28it/s]\n"
     ]
    },
    {
     "name": "stdout",
     "output_type": "stream",
     "text": [
      "epoch: 2 train loss=89.177, train acc=0.961, valid loss=10.534, valid acc=0.983\n"
     ]
    },
    {
     "name": "stderr",
     "output_type": "stream",
     "text": [
      "100%|██████████| 1500/1500 [00:08<00:00, 186.92it/s]\n",
      "100%|██████████| 375/375 [00:00<00:00, 440.50it/s]\n"
     ]
    },
    {
     "name": "stdout",
     "output_type": "stream",
     "text": [
      "epoch: 3 train loss=65.641, train acc=0.971, valid loss=8.093, valid acc=0.987\n"
     ]
    },
    {
     "name": "stderr",
     "output_type": "stream",
     "text": [
      "100%|██████████| 1500/1500 [00:08<00:00, 185.02it/s]\n",
      "100%|██████████| 375/375 [00:00<00:00, 394.05it/s]\n"
     ]
    },
    {
     "name": "stdout",
     "output_type": "stream",
     "text": [
      "epoch: 4 train loss=55.270, train acc=0.977, valid loss=7.458, valid acc=0.988\n"
     ]
    },
    {
     "name": "stderr",
     "output_type": "stream",
     "text": [
      "100%|██████████| 1500/1500 [00:07<00:00, 199.85it/s]\n",
      "100%|██████████| 375/375 [00:00<00:00, 418.92it/s]\n"
     ]
    },
    {
     "name": "stdout",
     "output_type": "stream",
     "text": [
      "epoch: 5 train loss=47.702, train acc=0.979, valid loss=6.193, valid acc=0.990\n"
     ]
    },
    {
     "name": "stderr",
     "output_type": "stream",
     "text": [
      "100%|██████████| 1500/1500 [00:07<00:00, 201.76it/s]\n",
      "100%|██████████| 375/375 [00:00<00:00, 406.46it/s]\n"
     ]
    },
    {
     "name": "stdout",
     "output_type": "stream",
     "text": [
      "epoch: 6 train loss=44.707, train acc=0.981, valid loss=5.578, valid acc=0.991\n"
     ]
    },
    {
     "name": "stderr",
     "output_type": "stream",
     "text": [
      "100%|██████████| 1500/1500 [00:07<00:00, 194.73it/s]\n",
      "100%|██████████| 375/375 [00:00<00:00, 416.84it/s]\n"
     ]
    },
    {
     "name": "stdout",
     "output_type": "stream",
     "text": [
      "epoch: 7 train loss=39.588, train acc=0.983, valid loss=5.680, valid acc=0.991\n"
     ]
    },
    {
     "name": "stderr",
     "output_type": "stream",
     "text": [
      "100%|██████████| 1500/1500 [00:07<00:00, 193.47it/s]\n",
      "100%|██████████| 375/375 [00:00<00:00, 399.26it/s]\n"
     ]
    },
    {
     "name": "stdout",
     "output_type": "stream",
     "text": [
      "epoch: 8 train loss=37.019, train acc=0.984, valid loss=4.745, valid acc=0.992\n"
     ]
    },
    {
     "name": "stderr",
     "output_type": "stream",
     "text": [
      "100%|██████████| 1500/1500 [00:07<00:00, 198.21it/s]\n",
      "100%|██████████| 375/375 [00:00<00:00, 430.69it/s]\n"
     ]
    },
    {
     "name": "stdout",
     "output_type": "stream",
     "text": [
      "epoch: 9 train loss=33.524, train acc=0.986, valid loss=5.126, valid acc=0.991\n"
     ]
    },
    {
     "name": "stderr",
     "output_type": "stream",
     "text": [
      "100%|██████████| 1500/1500 [00:07<00:00, 201.61it/s]\n",
      "100%|██████████| 375/375 [00:00<00:00, 422.21it/s]\n"
     ]
    },
    {
     "name": "stdout",
     "output_type": "stream",
     "text": [
      "epoch: 10 train loss=32.514, train acc=0.987, valid loss=4.600, valid acc=0.993\n"
     ]
    },
    {
     "data": {
      "image/png": "[encoded data removed]",
      "text/plain": [
       "<Figure size 1000x500 with 2 Axes>"
      ]
     },
     "metadata": {},
     "output_type": "display_data"
    },
    {
     "name": "stdout",
     "output_type": "stream",
     "text": [
      "==test on mnist==\n"
     ]
    },
    {
     "name": "stderr",
     "output_type": "stream",
     "text": [
      "100%|██████████| 313/313 [00:00<00:00, 416.13it/s]\n"
     ]
    },
    {
     "name": "stdout",
     "output_type": "stream",
     "text": [
      "test loss=0.993, test acc=0.993\n",
      "==test on svhm==\n",
      "Using downloaded and verified file: ./svhm/train_32x32.mat\n",
      "Using downloaded and verified file: ./svhm/test_32x32.mat\n"
     ]
    },
    {
     "name": "stderr",
     "output_type": "stream",
     "text": [
      "100%|██████████| 814/814 [00:02<00:00, 341.08it/s]"
     ]
    },
    {
     "name": "stdout",
     "output_type": "stream",
     "text": [
      "test loss=0.064, test acc=0.064\n"
     ]
    },
    {
     "name": "stderr",
     "output_type": "stream",
     "text": [
      "\n"
     ]
    }
   ],
   "source": [
    "print('== train mnist ==')\n",
    "set_seed(0)\n",
    "G, F = get_model(model_type='cnn', num_feature_extractor_out=512)\n",
    "device = 'cuda' if torch.cuda.is_available() else 'cpu'\n",
    "G.to(device)\n",
    "F.to(device)\n",
    "mnist_train_dl, mnist_valid_dl, mnist_test_dl = get_mnist_dl()\n",
    "loss_fn = nn.CrossEntropyLoss()\n",
    "optimizer_G = optim.AdamW(G.parameters(), lr=LR, weight_decay=0.0005)\n",
    "optimizer_F = optim.AdamW(F.parameters(), lr=LR, weight_decay=0.0005)\n",
    "logs = train(\n",
    "    G,\n",
    "    F,\n",
    "    optimizer_G,\n",
    "    optimizer_F,\n",
    "    loss_fn,\n",
    "    epochs=EPOCHS,\n",
    "    train_dl=mnist_train_dl,\n",
    "    valid_dl=mnist_valid_dl,\n",
    "    device=device,\n",
    ")\n",
    "\n",
    "# epochごとのloss, accuracyをプロット\n",
    "fig, axes = plt.subplots(ncols=2, figsize=(10, 5))\n",
    "axes[0].plot(logs['train_accuracy'], label='train acc')\n",
    "axes[0].plot(logs['valid_accuracy'], label='valid acc')\n",
    "axes[0].set_ylabel('accuracy')\n",
    "axes[0].set_xlabel('Epochs')\n",
    "axes[0].legend()\n",
    "axes[1].plot(logs['train_loss'], label='train loss')\n",
    "axes[1].plot(logs['valid_loss'], label='valid loss')\n",
    "axes[1].set_ylabel('loss')\n",
    "axes[1].set_xlabel('Epochs')\n",
    "axes[1].legend()\n",
    "plt.show()\n",
    "\n",
    "print('==test on mnist==')\n",
    "test_accuracy, test_avg_loss = evaluate(\n",
    "    G,\n",
    "    F,\n",
    "    loss_fn,\n",
    "    mnist_test_dl,\n",
    "    device,\n",
    ")\n",
    "print(f'test loss={test_accuracy:.3f}, test acc={test_accuracy:.3f}')\n",
    "\n",
    "print('==test on svhm==')\n",
    "svhm_train_dl, svhm_valid_dl, svhm_test_dl = get_svhm_dl()\n",
    "test_accuracy, test_avg_loss = evaluate(\n",
    "    G,\n",
    "    F,\n",
    "    loss_fn,\n",
    "    svhm_test_dl,\n",
    "    device,\n",
    ")\n",
    "print(f'test loss={test_accuracy:.3f}, test acc={test_accuracy:.3f}')"
   ]
  },
  {
   "cell_type": "code",
   "execution_count": 7,
   "metadata": {},
   "outputs": [
    {
     "name": "stdout",
     "output_type": "stream",
     "text": [
      "== train svhm ==\n",
      "Using downloaded and verified file: ./svhm/train_32x32.mat\n",
      "Using downloaded and verified file: ./svhm/test_32x32.mat\n"
     ]
    },
    {
     "name": "stderr",
     "output_type": "stream",
     "text": [
      "100%|██████████| 1832/1832 [00:12<00:00, 149.01it/s]\n",
      "100%|██████████| 458/458 [00:01<00:00, 378.44it/s]\n"
     ]
    },
    {
     "name": "stdout",
     "output_type": "stream",
     "text": [
      "epoch: 1 train loss=1705.993, train acc=0.284, valid loss=291.009, valid acc=0.550\n"
     ]
    },
    {
     "name": "stderr",
     "output_type": "stream",
     "text": [
      "100%|██████████| 1832/1832 [00:11<00:00, 153.88it/s]\n",
      "100%|██████████| 458/458 [00:01<00:00, 368.88it/s]\n"
     ]
    },
    {
     "name": "stdout",
     "output_type": "stream",
     "text": [
      "epoch: 2 train loss=1082.842, train acc=0.578, valid loss=192.419, valid acc=0.729\n"
     ]
    },
    {
     "name": "stderr",
     "output_type": "stream",
     "text": [
      "100%|██████████| 1832/1832 [00:11<00:00, 156.50it/s]\n",
      "100%|██████████| 458/458 [00:01<00:00, 322.20it/s]\n"
     ]
    },
    {
     "name": "stdout",
     "output_type": "stream",
     "text": [
      "epoch: 3 train loss=853.002, train acc=0.684, valid loss=152.887, valid acc=0.789\n"
     ]
    },
    {
     "name": "stderr",
     "output_type": "stream",
     "text": [
      "100%|██████████| 1832/1832 [00:11<00:00, 155.80it/s]\n",
      "100%|██████████| 458/458 [00:01<00:00, 355.60it/s]\n"
     ]
    },
    {
     "name": "stdout",
     "output_type": "stream",
     "text": [
      "epoch: 4 train loss=727.778, train acc=0.740, valid loss=138.812, valid acc=0.806\n"
     ]
    },
    {
     "name": "stderr",
     "output_type": "stream",
     "text": [
      "100%|██████████| 1832/1832 [00:11<00:00, 153.60it/s]\n",
      "100%|██████████| 458/458 [00:01<00:00, 320.73it/s]\n"
     ]
    },
    {
     "name": "stdout",
     "output_type": "stream",
     "text": [
      "epoch: 5 train loss=650.258, train acc=0.768, valid loss=127.748, valid acc=0.826\n"
     ]
    },
    {
     "name": "stderr",
     "output_type": "stream",
     "text": [
      "100%|██████████| 1832/1832 [00:12<00:00, 152.07it/s]\n",
      "100%|██████████| 458/458 [00:01<00:00, 359.38it/s]\n"
     ]
    },
    {
     "name": "stdout",
     "output_type": "stream",
     "text": [
      "epoch: 6 train loss=591.602, train acc=0.790, valid loss=112.495, valid acc=0.845\n"
     ]
    },
    {
     "name": "stderr",
     "output_type": "stream",
     "text": [
      "100%|██████████| 1832/1832 [00:11<00:00, 158.48it/s]\n",
      "100%|██████████| 458/458 [00:01<00:00, 363.85it/s]\n"
     ]
    },
    {
     "name": "stdout",
     "output_type": "stream",
     "text": [
      "epoch: 7 train loss=548.507, train acc=0.808, valid loss=105.079, valid acc=0.858\n"
     ]
    },
    {
     "name": "stderr",
     "output_type": "stream",
     "text": [
      "100%|██████████| 1832/1832 [00:11<00:00, 154.65it/s]\n",
      "100%|██████████| 458/458 [00:01<00:00, 345.98it/s]\n"
     ]
    },
    {
     "name": "stdout",
     "output_type": "stream",
     "text": [
      "epoch: 8 train loss=518.015, train acc=0.820, valid loss=102.779, valid acc=0.860\n"
     ]
    },
    {
     "name": "stderr",
     "output_type": "stream",
     "text": [
      "100%|██████████| 1832/1832 [00:11<00:00, 153.49it/s]\n",
      "100%|██████████| 458/458 [00:01<00:00, 333.18it/s]\n"
     ]
    },
    {
     "name": "stdout",
     "output_type": "stream",
     "text": [
      "epoch: 9 train loss=478.259, train acc=0.833, valid loss=95.750, valid acc=0.868\n"
     ]
    },
    {
     "name": "stderr",
     "output_type": "stream",
     "text": [
      "100%|██████████| 1832/1832 [00:11<00:00, 155.33it/s]\n",
      "100%|██████████| 458/458 [00:01<00:00, 330.04it/s]\n"
     ]
    },
    {
     "name": "stdout",
     "output_type": "stream",
     "text": [
      "epoch: 10 train loss=455.410, train acc=0.840, valid loss=92.450, valid acc=0.875\n"
     ]
    },
    {
     "data": {
      "image/png": "[encoded data removed]",
      "text/plain": [
       "<Figure size 1000x500 with 2 Axes>"
      ]
     },
     "metadata": {},
     "output_type": "display_data"
    },
    {
     "name": "stdout",
     "output_type": "stream",
     "text": [
      "==test on svhm==\n"
     ]
    },
    {
     "name": "stderr",
     "output_type": "stream",
     "text": [
      "100%|██████████| 814/814 [00:02<00:00, 376.33it/s]\n"
     ]
    },
    {
     "name": "stdout",
     "output_type": "stream",
     "text": [
      "test loss=0.884, test acc=0.884\n",
      "==test on mnist==\n"
     ]
    },
    {
     "name": "stderr",
     "output_type": "stream",
     "text": [
      "100%|██████████| 313/313 [00:00<00:00, 350.44it/s]"
     ]
    },
    {
     "name": "stdout",
     "output_type": "stream",
     "text": [
      "test loss=0.631, test acc=0.631\n"
     ]
    },
    {
     "name": "stderr",
     "output_type": "stream",
     "text": [
      "\n"
     ]
    }
   ],
   "source": [
    "print('== train svhm ==')\n",
    "set_seed(0)\n",
    "G, F = get_model(model_type='cnn', num_feature_extractor_out=512)\n",
    "device = 'cuda' if torch.cuda.is_available() else 'cpu'\n",
    "G.to(device)\n",
    "F.to(device)\n",
    "mnist_train_dl, mnist_valid_dl, mnist_test_dl = get_svhm_dl()\n",
    "loss_fn = nn.CrossEntropyLoss()\n",
    "optimizer_G = optim.AdamW(G.parameters(), lr=LR, weight_decay=0.0005)\n",
    "optimizer_F = optim.AdamW(F.parameters(), lr=LR, weight_decay=0.0005)\n",
    "logs = train(\n",
    "    G,\n",
    "    F,\n",
    "    optimizer_G,\n",
    "    optimizer_F,\n",
    "    loss_fn,\n",
    "    epochs=EPOCHS,\n",
    "    train_dl=mnist_train_dl,\n",
    "    valid_dl=mnist_valid_dl,\n",
    "    device=device,\n",
    ")\n",
    "\n",
    "# epochごとのloss, accuracyをプロット\n",
    "fig, axes = plt.subplots(ncols=2, figsize=(10, 5))\n",
    "axes[0].plot(logs['train_accuracy'], label='train acc')\n",
    "axes[0].plot(logs['valid_accuracy'], label='valid acc')\n",
    "axes[0].set_ylabel('accuracy')\n",
    "axes[0].set_xlabel('Epochs')\n",
    "axes[0].legend()\n",
    "axes[1].plot(logs['train_loss'], label='train loss')\n",
    "axes[1].plot(logs['valid_loss'], label='valid loss')\n",
    "axes[1].set_ylabel('loss')\n",
    "axes[1].set_xlabel('Epochs')\n",
    "axes[1].legend()\n",
    "plt.show()\n",
    "\n",
    "print('==test on svhm==')\n",
    "test_accuracy, test_avg_loss = evaluate(\n",
    "    G,\n",
    "    F,\n",
    "    loss_fn,\n",
    "    mnist_test_dl,\n",
    "    device,\n",
    ")\n",
    "print(f'test loss={test_accuracy:.3f}, test acc={test_accuracy:.3f}')\n",
    "\n",
    "print('==test on mnist==')\n",
    "svhm_train_dl, svhm_valid_dl, svhm_test_dl = get_mnist_dl()\n",
    "test_accuracy, test_avg_loss = evaluate(\n",
    "    G,\n",
    "    F,\n",
    "    loss_fn,\n",
    "    svhm_test_dl,\n",
    "    device,\n",
    ")\n",
    "print(f'test loss={test_accuracy:.3f}, test acc={test_accuracy:.3f}')"
   ]
  },
  {
   "cell_type": "code",
   "execution_count": null,
   "metadata": {},
   "outputs": [],
   "source": []
  }
 ],
 "metadata": {
  "kernelspec": {
   "display_name": "venv",
   "language": "python",
   "name": "python3"
  },
  "language_info": {
   "codemirror_mode": {
    "name": "ipython",
    "version": 3
   },
   "file_extension": ".py",
   "mimetype": "text/x-python",
   "name": "python",
   "nbconvert_exporter": "python",
   "pygments_lexer": "ipython3",
   "version": "3.10.12"
  }
 },
 "nbformat": 4,
 "nbformat_minor": 2
}
